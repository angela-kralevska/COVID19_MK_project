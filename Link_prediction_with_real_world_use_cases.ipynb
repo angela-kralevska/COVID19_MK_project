{
  "nbformat": 4,
  "nbformat_minor": 0,
  "metadata": {
    "colab": {
      "name": "Link_prediction_with_real-world_use_cases.ipynb",
      "provenance": [],
      "authorship_tag": "ABX9TyNnUC83mRzehAjOjnPLVdmn",
      "include_colab_link": true
    },
    "kernelspec": {
      "name": "python3",
      "display_name": "Python 3"
    },
    "language_info": {
      "name": "python"
    },
    "accelerator": "GPU"
  },
  "cells": [
    {
      "cell_type": "markdown",
      "metadata": {
        "id": "view-in-github",
        "colab_type": "text"
      },
      "source": [
        "<a href=\"https://colab.research.google.com/github/angela-kralevska/COVID19_MK_project/blob/master/Link_prediction_with_real_world_use_cases.ipynb\" target=\"_parent\"><img src=\"https://colab.research.google.com/assets/colab-badge.svg\" alt=\"Open In Colab\"/></a>"
      ]
    },
    {
      "cell_type": "code",
      "metadata": {
        "colab": {
          "base_uri": "https://localhost:8080/"
        },
        "id": "loeU918P0Lr3",
        "outputId": "f00fbb3e-55f6-471c-e091-70c5792d3c63"
      },
      "source": [
        "from google.colab import drive\n",
        "\n",
        "drive.mount('/content/drive', force_remount=True)"
      ],
      "execution_count": 1,
      "outputs": [
        {
          "output_type": "stream",
          "text": [
            "Mounted at /content/drive\n"
          ],
          "name": "stdout"
        }
      ]
    },
    {
      "cell_type": "code",
      "metadata": {
        "colab": {
          "base_uri": "https://localhost:8080/",
          "height": 417
        },
        "id": "xwdDbd330mGj",
        "outputId": "8107e595-62b5-44b5-b4e3-127804a8dab9"
      },
      "source": [
        "import pandas as pd\n",
        "\n",
        "kg_df = pd.read_csv('drive/MyDrive/WBS/drkg_df.csv')\n",
        "kg_df"
      ],
      "execution_count": 2,
      "outputs": [
        {
          "output_type": "execute_result",
          "data": {
            "text/html": [
              "<div>\n",
              "<style scoped>\n",
              "    .dataframe tbody tr th:only-of-type {\n",
              "        vertical-align: middle;\n",
              "    }\n",
              "\n",
              "    .dataframe tbody tr th {\n",
              "        vertical-align: top;\n",
              "    }\n",
              "\n",
              "    .dataframe thead th {\n",
              "        text-align: right;\n",
              "    }\n",
              "</style>\n",
              "<table border=\"1\" class=\"dataframe\">\n",
              "  <thead>\n",
              "    <tr style=\"text-align: right;\">\n",
              "      <th></th>\n",
              "      <th>Gene::2157</th>\n",
              "      <th>bioarx::HumGenHumGen:Gene:Gene</th>\n",
              "      <th>Gene::2157.1</th>\n",
              "    </tr>\n",
              "  </thead>\n",
              "  <tbody>\n",
              "    <tr>\n",
              "      <th>0</th>\n",
              "      <td>Gene::2157</td>\n",
              "      <td>bioarx::HumGenHumGen:Gene:Gene</td>\n",
              "      <td>Gene::5264</td>\n",
              "    </tr>\n",
              "    <tr>\n",
              "      <th>1</th>\n",
              "      <td>Gene::2157</td>\n",
              "      <td>bioarx::HumGenHumGen:Gene:Gene</td>\n",
              "      <td>Gene::2158</td>\n",
              "    </tr>\n",
              "    <tr>\n",
              "      <th>2</th>\n",
              "      <td>Gene::2157</td>\n",
              "      <td>bioarx::HumGenHumGen:Gene:Gene</td>\n",
              "      <td>Gene::3309</td>\n",
              "    </tr>\n",
              "    <tr>\n",
              "      <th>3</th>\n",
              "      <td>Gene::2157</td>\n",
              "      <td>bioarx::HumGenHumGen:Gene:Gene</td>\n",
              "      <td>Gene::28912</td>\n",
              "    </tr>\n",
              "    <tr>\n",
              "      <th>4</th>\n",
              "      <td>Gene::2157</td>\n",
              "      <td>bioarx::HumGenHumGen:Gene:Gene</td>\n",
              "      <td>Gene::811</td>\n",
              "    </tr>\n",
              "    <tr>\n",
              "      <th>...</th>\n",
              "      <td>...</td>\n",
              "      <td>...</td>\n",
              "      <td>...</td>\n",
              "    </tr>\n",
              "    <tr>\n",
              "      <th>5874255</th>\n",
              "      <td>Gene::29099</td>\n",
              "      <td>STRING::REACTION::Gene:Gene</td>\n",
              "      <td>Gene::1643</td>\n",
              "    </tr>\n",
              "    <tr>\n",
              "      <th>5874256</th>\n",
              "      <td>Gene::51645</td>\n",
              "      <td>STRING::REACTION::Gene:Gene</td>\n",
              "      <td>Gene::3183</td>\n",
              "    </tr>\n",
              "    <tr>\n",
              "      <th>5874257</th>\n",
              "      <td>Gene::865</td>\n",
              "      <td>STRING::CATALYSIS::Gene:Gene</td>\n",
              "      <td>Gene::983</td>\n",
              "    </tr>\n",
              "    <tr>\n",
              "      <th>5874258</th>\n",
              "      <td>Gene::1066</td>\n",
              "      <td>STRING::BINDING::Gene:Gene</td>\n",
              "      <td>Gene::7365</td>\n",
              "    </tr>\n",
              "    <tr>\n",
              "      <th>5874259</th>\n",
              "      <td>Gene::6118</td>\n",
              "      <td>STRING::BINDING::Gene:Gene</td>\n",
              "      <td>Gene::1111</td>\n",
              "    </tr>\n",
              "  </tbody>\n",
              "</table>\n",
              "<p>5874260 rows × 3 columns</p>\n",
              "</div>"
            ],
            "text/plain": [
              "          Gene::2157  bioarx::HumGenHumGen:Gene:Gene Gene::2157.1\n",
              "0         Gene::2157  bioarx::HumGenHumGen:Gene:Gene   Gene::5264\n",
              "1         Gene::2157  bioarx::HumGenHumGen:Gene:Gene   Gene::2158\n",
              "2         Gene::2157  bioarx::HumGenHumGen:Gene:Gene   Gene::3309\n",
              "3         Gene::2157  bioarx::HumGenHumGen:Gene:Gene  Gene::28912\n",
              "4         Gene::2157  bioarx::HumGenHumGen:Gene:Gene    Gene::811\n",
              "...              ...                             ...          ...\n",
              "5874255  Gene::29099     STRING::REACTION::Gene:Gene   Gene::1643\n",
              "5874256  Gene::51645     STRING::REACTION::Gene:Gene   Gene::3183\n",
              "5874257    Gene::865    STRING::CATALYSIS::Gene:Gene    Gene::983\n",
              "5874258   Gene::1066      STRING::BINDING::Gene:Gene   Gene::7365\n",
              "5874259   Gene::6118      STRING::BINDING::Gene:Gene   Gene::1111\n",
              "\n",
              "[5874260 rows x 3 columns]"
            ]
          },
          "metadata": {},
          "execution_count": 2
        }
      ]
    },
    {
      "cell_type": "code",
      "metadata": {
        "id": "kMCtkP-i0tzz"
      },
      "source": [
        "diseases = []\n",
        "relevant_rows = []\n",
        "\n",
        "for index, row in kg_df.iterrows(): \n",
        "  if \"compound:disease\" in str(row[1]).lower():\n",
        "    diseases.append(row[2])\n",
        "    relevant_rows.append(row)\n",
        "  if \"disease:compound\" in str(row[1]).lower():\n",
        "    diseases.append(row[0])\n",
        "    relevant_rows.append(row)"
      ],
      "execution_count": 38,
      "outputs": []
    },
    {
      "cell_type": "code",
      "metadata": {
        "colab": {
          "base_uri": "https://localhost:8080/"
        },
        "id": "W37xPdp70ytC",
        "outputId": "8031d8e0-d90d-4ff2-c0e7-f1b7704451d3"
      },
      "source": [
        "import pandas as pd\n",
        "\n",
        "entities = pd.read_csv('drive/MyDrive/WBS/entity2src.tsv', sep='\\t', error_bad_lines=False)"
      ],
      "execution_count": 4,
      "outputs": [
        {
          "output_type": "stream",
          "text": [
            "b'Skipping line 3: expected 7 fields, saw 8\\nSkipping line 4: expected 7 fields, saw 8\\nSkipping line 519: expected 7 fields, saw 8\\nSkipping line 780: expected 7 fields, saw 8\\nSkipping line 1284: expected 7 fields, saw 8\\nSkipping line 1290: expected 7 fields, saw 8\\nSkipping line 1613: expected 7 fields, saw 8\\nSkipping line 1619: expected 7 fields, saw 8\\nSkipping line 1645: expected 7 fields, saw 8\\nSkipping line 2080: expected 7 fields, saw 8\\nSkipping line 2231: expected 7 fields, saw 8\\nSkipping line 2259: expected 7 fields, saw 8\\nSkipping line 2286: expected 7 fields, saw 8\\nSkipping line 2385: expected 7 fields, saw 8\\nSkipping line 2391: expected 7 fields, saw 8\\nSkipping line 2441: expected 7 fields, saw 8\\nSkipping line 2445: expected 7 fields, saw 8\\nSkipping line 2455: expected 7 fields, saw 8\\nSkipping line 2528: expected 7 fields, saw 8\\nSkipping line 2556: expected 7 fields, saw 8\\nSkipping line 2586: expected 7 fields, saw 8\\nSkipping line 2597: expected 7 fields, saw 8\\nSkipping line 2618: expected 7 fields, saw 8\\nSkipping line 2638: expected 7 fields, saw 8\\nSkipping line 2639: expected 7 fields, saw 8\\nSkipping line 2672: expected 7 fields, saw 9\\nSkipping line 2694: expected 7 fields, saw 8\\nSkipping line 2736: expected 7 fields, saw 8\\nSkipping line 2797: expected 7 fields, saw 8\\nSkipping line 2810: expected 7 fields, saw 8\\nSkipping line 2814: expected 7 fields, saw 8\\nSkipping line 2817: expected 7 fields, saw 8\\nSkipping line 2940: expected 7 fields, saw 8\\nSkipping line 2947: expected 7 fields, saw 8\\nSkipping line 2970: expected 7 fields, saw 8\\nSkipping line 3028: expected 7 fields, saw 8\\nSkipping line 3099: expected 7 fields, saw 8\\nSkipping line 3140: expected 7 fields, saw 8\\nSkipping line 3157: expected 7 fields, saw 8\\nSkipping line 3260: expected 7 fields, saw 8\\nSkipping line 3304: expected 7 fields, saw 8\\nSkipping line 3312: expected 7 fields, saw 8\\nSkipping line 3329: expected 7 fields, saw 8\\nSkipping line 3332: expected 7 fields, saw 8\\nSkipping line 3505: expected 7 fields, saw 8\\nSkipping line 3506: expected 7 fields, saw 8\\nSkipping line 3574: expected 7 fields, saw 8\\nSkipping line 3581: expected 7 fields, saw 8\\nSkipping line 3802: expected 7 fields, saw 8\\nSkipping line 3809: expected 7 fields, saw 8\\nSkipping line 3811: expected 7 fields, saw 8\\nSkipping line 3892: expected 7 fields, saw 8\\nSkipping line 3966: expected 7 fields, saw 8\\nSkipping line 3983: expected 7 fields, saw 8\\nSkipping line 4082: expected 7 fields, saw 8\\nSkipping line 4095: expected 7 fields, saw 9\\nSkipping line 4131: expected 7 fields, saw 8\\nSkipping line 4132: expected 7 fields, saw 8\\nSkipping line 4158: expected 7 fields, saw 8\\nSkipping line 4190: expected 7 fields, saw 8\\nSkipping line 4205: expected 7 fields, saw 8\\nSkipping line 4225: expected 7 fields, saw 8\\nSkipping line 4289: expected 7 fields, saw 8\\nSkipping line 4296: expected 7 fields, saw 8\\nSkipping line 4303: expected 7 fields, saw 8\\nSkipping line 4312: expected 7 fields, saw 8\\nSkipping line 4326: expected 7 fields, saw 8\\nSkipping line 4340: expected 7 fields, saw 8\\nSkipping line 4387: expected 7 fields, saw 8\\nSkipping line 4430: expected 7 fields, saw 8\\nSkipping line 4450: expected 7 fields, saw 8\\nSkipping line 4628: expected 7 fields, saw 8\\nSkipping line 4642: expected 7 fields, saw 8\\nSkipping line 4656: expected 7 fields, saw 8\\nSkipping line 4960: expected 7 fields, saw 8\\nSkipping line 5019: expected 7 fields, saw 8\\nSkipping line 5045: expected 7 fields, saw 8\\nSkipping line 5107: expected 7 fields, saw 8\\nSkipping line 5192: expected 7 fields, saw 8\\nSkipping line 5354: expected 7 fields, saw 8\\nSkipping line 5407: expected 7 fields, saw 8\\nSkipping line 5418: expected 7 fields, saw 8\\nSkipping line 5435: expected 7 fields, saw 8\\nSkipping line 5508: expected 7 fields, saw 8\\nSkipping line 5596: expected 7 fields, saw 8\\nSkipping line 5688: expected 7 fields, saw 8\\nSkipping line 5696: expected 7 fields, saw 8\\nSkipping line 5701: expected 7 fields, saw 8\\nSkipping line 5770: expected 7 fields, saw 8\\nSkipping line 6083: expected 7 fields, saw 9\\nSkipping line 6140: expected 7 fields, saw 8\\nSkipping line 6229: expected 7 fields, saw 8\\nSkipping line 6282: expected 7 fields, saw 8\\nSkipping line 6293: expected 7 fields, saw 8\\nSkipping line 6322: expected 7 fields, saw 8\\nSkipping line 6342: expected 7 fields, saw 8\\nSkipping line 6402: expected 7 fields, saw 8\\nSkipping line 6419: expected 7 fields, saw 8\\nSkipping line 6424: expected 7 fields, saw 8\\nSkipping line 6428: expected 7 fields, saw 8\\nSkipping line 6463: expected 7 fields, saw 8\\nSkipping line 6487: expected 7 fields, saw 8\\nSkipping line 6503: expected 7 fields, saw 8\\nSkipping line 6556: expected 7 fields, saw 8\\nSkipping line 6674: expected 7 fields, saw 8\\nSkipping line 6820: expected 7 fields, saw 9\\nSkipping line 6896: expected 7 fields, saw 8\\nSkipping line 6919: expected 7 fields, saw 8\\nSkipping line 6944: expected 7 fields, saw 8\\nSkipping line 7000: expected 7 fields, saw 8\\nSkipping line 7054: expected 7 fields, saw 8\\nSkipping line 7077: expected 7 fields, saw 8\\nSkipping line 7098: expected 7 fields, saw 9\\nSkipping line 7108: expected 7 fields, saw 8\\nSkipping line 7109: expected 7 fields, saw 8\\nSkipping line 7131: expected 7 fields, saw 8\\nSkipping line 7212: expected 7 fields, saw 8\\nSkipping line 7329: expected 7 fields, saw 8\\nSkipping line 7453: expected 7 fields, saw 8\\nSkipping line 7514: expected 7 fields, saw 8\\nSkipping line 7519: expected 7 fields, saw 8\\nSkipping line 7520: expected 7 fields, saw 8\\nSkipping line 7524: expected 7 fields, saw 8\\nSkipping line 7568: expected 7 fields, saw 8\\nSkipping line 7570: expected 7 fields, saw 8\\nSkipping line 7575: expected 7 fields, saw 8\\nSkipping line 7581: expected 7 fields, saw 8\\nSkipping line 7604: expected 7 fields, saw 8\\nSkipping line 7612: expected 7 fields, saw 8\\nSkipping line 7617: expected 7 fields, saw 8\\nSkipping line 7659: expected 7 fields, saw 8\\nSkipping line 7660: expected 7 fields, saw 8\\nSkipping line 7739: expected 7 fields, saw 8\\nSkipping line 7795: expected 7 fields, saw 8\\nSkipping line 7823: expected 7 fields, saw 8\\nSkipping line 7828: expected 7 fields, saw 8\\nSkipping line 7835: expected 7 fields, saw 8\\nSkipping line 7854: expected 7 fields, saw 8\\nSkipping line 7855: expected 7 fields, saw 8\\nSkipping line 7871: expected 7 fields, saw 8\\nSkipping line 7883: expected 7 fields, saw 8\\nSkipping line 7908: expected 7 fields, saw 8\\nSkipping line 7922: expected 7 fields, saw 8\\nSkipping line 7924: expected 7 fields, saw 8\\nSkipping line 7928: expected 7 fields, saw 8\\nSkipping line 7941: expected 7 fields, saw 8\\nSkipping line 7942: expected 7 fields, saw 8\\nSkipping line 7945: expected 7 fields, saw 8\\nSkipping line 7954: expected 7 fields, saw 8\\nSkipping line 7961: expected 7 fields, saw 8\\nSkipping line 7976: expected 7 fields, saw 8\\nSkipping line 7995: expected 7 fields, saw 8\\nSkipping line 8013: expected 7 fields, saw 8\\nSkipping line 8020: expected 7 fields, saw 8\\nSkipping line 8033: expected 7 fields, saw 8\\nSkipping line 8042: expected 7 fields, saw 8\\nSkipping line 8051: expected 7 fields, saw 8\\nSkipping line 8061: expected 7 fields, saw 8\\nSkipping line 8104: expected 7 fields, saw 8\\nSkipping line 8133: expected 7 fields, saw 8\\nSkipping line 8137: expected 7 fields, saw 8\\nSkipping line 8213: expected 7 fields, saw 8\\nSkipping line 8220: expected 7 fields, saw 8\\nSkipping line 8269: expected 7 fields, saw 8\\nSkipping line 8278: expected 7 fields, saw 8\\nSkipping line 8285: expected 7 fields, saw 8\\nSkipping line 8340: expected 7 fields, saw 8\\nSkipping line 8344: expected 7 fields, saw 8\\nSkipping line 8352: expected 7 fields, saw 8\\nSkipping line 8406: expected 7 fields, saw 8\\nSkipping line 8495: expected 7 fields, saw 8\\nSkipping line 8658: expected 7 fields, saw 8\\nSkipping line 8865: expected 7 fields, saw 8\\nSkipping line 8895: expected 7 fields, saw 8\\nSkipping line 8928: expected 7 fields, saw 8\\nSkipping line 8933: expected 7 fields, saw 8\\nSkipping line 9014: expected 7 fields, saw 8\\nSkipping line 9093: expected 7 fields, saw 8\\nSkipping line 9225: expected 7 fields, saw 9\\nSkipping line 9254: expected 7 fields, saw 8\\nSkipping line 9318: expected 7 fields, saw 8\\nSkipping line 9319: expected 7 fields, saw 8\\nSkipping line 9342: expected 7 fields, saw 9\\nSkipping line 9366: expected 7 fields, saw 8\\nSkipping line 9378: expected 7 fields, saw 8\\nSkipping line 9412: expected 7 fields, saw 8\\nSkipping line 9422: expected 7 fields, saw 8\\nSkipping line 9440: expected 7 fields, saw 8\\nSkipping line 9447: expected 7 fields, saw 8\\nSkipping line 9512: expected 7 fields, saw 8\\nSkipping line 9516: expected 7 fields, saw 8\\nSkipping line 9534: expected 7 fields, saw 8\\nSkipping line 9569: expected 7 fields, saw 8\\nSkipping line 9612: expected 7 fields, saw 8\\nSkipping line 9618: expected 7 fields, saw 8\\nSkipping line 9737: expected 7 fields, saw 8\\nSkipping line 9739: expected 7 fields, saw 8\\nSkipping line 9766: expected 7 fields, saw 8\\nSkipping line 9801: expected 7 fields, saw 8\\nSkipping line 9806: expected 7 fields, saw 8\\nSkipping line 9807: expected 7 fields, saw 8\\nSkipping line 9829: expected 7 fields, saw 9\\nSkipping line 9989: expected 7 fields, saw 8\\nSkipping line 10008: expected 7 fields, saw 8\\nSkipping line 10017: expected 7 fields, saw 8\\nSkipping line 10026: expected 7 fields, saw 8\\nSkipping line 10076: expected 7 fields, saw 8\\nSkipping line 10124: expected 7 fields, saw 8\\nSkipping line 10153: expected 7 fields, saw 8\\nSkipping line 10154: expected 7 fields, saw 8\\nSkipping line 10185: expected 7 fields, saw 8\\nSkipping line 10221: expected 7 fields, saw 8\\nSkipping line 10234: expected 7 fields, saw 8\\nSkipping line 10243: expected 7 fields, saw 8\\nSkipping line 10343: expected 7 fields, saw 8\\nSkipping line 10355: expected 7 fields, saw 8\\nSkipping line 10371: expected 7 fields, saw 8\\nSkipping line 10477: expected 7 fields, saw 8\\nSkipping line 10484: expected 7 fields, saw 8\\nSkipping line 10507: expected 7 fields, saw 8\\nSkipping line 10525: expected 7 fields, saw 8\\nSkipping line 10557: expected 7 fields, saw 8\\nSkipping line 10575: expected 7 fields, saw 8\\nSkipping line 10577: expected 7 fields, saw 8\\nSkipping line 10605: expected 7 fields, saw 8\\nSkipping line 10606: expected 7 fields, saw 8\\nSkipping line 10616: expected 7 fields, saw 8\\nSkipping line 10643: expected 7 fields, saw 8\\nSkipping line 10685: expected 7 fields, saw 8\\nSkipping line 10759: expected 7 fields, saw 8\\nSkipping line 10762: expected 7 fields, saw 8\\nSkipping line 10763: expected 7 fields, saw 8\\nSkipping line 10766: expected 7 fields, saw 8\\nSkipping line 10771: expected 7 fields, saw 8\\nSkipping line 10816: expected 7 fields, saw 8\\nSkipping line 10890: expected 7 fields, saw 8\\nSkipping line 10895: expected 7 fields, saw 8\\nSkipping line 10904: expected 7 fields, saw 8\\nSkipping line 10906: expected 7 fields, saw 8\\nSkipping line 10908: expected 7 fields, saw 8\\nSkipping line 10910: expected 7 fields, saw 8\\nSkipping line 10911: expected 7 fields, saw 8\\nSkipping line 10914: expected 7 fields, saw 8\\nSkipping line 10917: expected 7 fields, saw 8\\nSkipping line 10932: expected 7 fields, saw 8\\nSkipping line 10945: expected 7 fields, saw 8\\nSkipping line 10956: expected 7 fields, saw 8\\nSkipping line 10995: expected 7 fields, saw 8\\nSkipping line 11003: expected 7 fields, saw 8\\nSkipping line 11033: expected 7 fields, saw 8\\nSkipping line 11090: expected 7 fields, saw 8\\nSkipping line 11245: expected 7 fields, saw 8\\nSkipping line 11259: expected 7 fields, saw 8\\nSkipping line 11267: expected 7 fields, saw 8\\nSkipping line 11406: expected 7 fields, saw 8\\nSkipping line 11421: expected 7 fields, saw 8\\nSkipping line 11492: expected 7 fields, saw 8\\nSkipping line 11502: expected 7 fields, saw 8\\nSkipping line 11539: expected 7 fields, saw 8\\nSkipping line 11544: expected 7 fields, saw 8\\nSkipping line 11549: expected 7 fields, saw 8\\nSkipping line 11552: expected 7 fields, saw 8\\nSkipping line 11556: expected 7 fields, saw 8\\nSkipping line 11593: expected 7 fields, saw 8\\nSkipping line 11598: expected 7 fields, saw 8\\nSkipping line 11605: expected 7 fields, saw 8\\nSkipping line 11610: expected 7 fields, saw 8\\nSkipping line 11618: expected 7 fields, saw 8\\nSkipping line 11629: expected 7 fields, saw 8\\nSkipping line 11643: expected 7 fields, saw 8\\nSkipping line 11689: expected 7 fields, saw 9\\nSkipping line 11852: expected 7 fields, saw 8\\nSkipping line 11988: expected 7 fields, saw 8\\nSkipping line 12102: expected 7 fields, saw 8\\nSkipping line 12117: expected 7 fields, saw 8\\nSkipping line 12141: expected 7 fields, saw 8\\nSkipping line 12257: expected 7 fields, saw 8\\nSkipping line 12311: expected 7 fields, saw 8\\nSkipping line 12313: expected 7 fields, saw 8\\nSkipping line 12314: expected 7 fields, saw 8\\nSkipping line 12349: expected 7 fields, saw 8\\nSkipping line 12363: expected 7 fields, saw 8\\nSkipping line 12369: expected 7 fields, saw 8\\nSkipping line 12404: expected 7 fields, saw 8\\nSkipping line 12450: expected 7 fields, saw 8\\nSkipping line 12460: expected 7 fields, saw 8\\nSkipping line 12464: expected 7 fields, saw 8\\nSkipping line 12465: expected 7 fields, saw 8\\nSkipping line 12501: expected 7 fields, saw 8\\nSkipping line 12517: expected 7 fields, saw 8\\nSkipping line 12523: expected 7 fields, saw 8\\nSkipping line 12527: expected 7 fields, saw 8\\nSkipping line 12562: expected 7 fields, saw 8\\nSkipping line 12593: expected 7 fields, saw 8\\nSkipping line 12642: expected 7 fields, saw 8\\nSkipping line 12658: expected 7 fields, saw 8\\nSkipping line 12687: expected 7 fields, saw 8\\nSkipping line 12708: expected 7 fields, saw 8\\nSkipping line 12873: expected 7 fields, saw 8\\nSkipping line 13094: expected 7 fields, saw 8\\nSkipping line 13171: expected 7 fields, saw 8\\nSkipping line 13181: expected 7 fields, saw 8\\nSkipping line 13208: expected 7 fields, saw 8\\nSkipping line 13209: expected 7 fields, saw 8\\nSkipping line 13254: expected 7 fields, saw 8\\nSkipping line 13291: expected 7 fields, saw 8\\nSkipping line 13426: expected 7 fields, saw 8\\nSkipping line 13476: expected 7 fields, saw 8\\nSkipping line 13565: expected 7 fields, saw 8\\nSkipping line 13587: expected 7 fields, saw 8\\nSkipping line 13632: expected 7 fields, saw 8\\nSkipping line 13643: expected 7 fields, saw 8\\nSkipping line 13653: expected 7 fields, saw 8\\nSkipping line 13659: expected 7 fields, saw 8\\nSkipping line 13672: expected 7 fields, saw 8\\nSkipping line 13679: expected 7 fields, saw 8\\nSkipping line 13689: expected 7 fields, saw 8\\nSkipping line 13699: expected 7 fields, saw 8\\nSkipping line 13711: expected 7 fields, saw 8\\nSkipping line 13723: expected 7 fields, saw 8\\nSkipping line 13762: expected 7 fields, saw 8\\nSkipping line 13793: expected 7 fields, saw 8\\nSkipping line 13897: expected 7 fields, saw 8\\nSkipping line 14082: expected 7 fields, saw 8\\nSkipping line 14243: expected 7 fields, saw 8\\nSkipping line 14322: expected 7 fields, saw 8\\nSkipping line 14357: expected 7 fields, saw 8\\nSkipping line 14405: expected 7 fields, saw 8\\nSkipping line 14557: expected 7 fields, saw 9\\nSkipping line 14576: expected 7 fields, saw 9\\nSkipping line 14578: expected 7 fields, saw 8\\nSkipping line 14599: expected 7 fields, saw 8\\nSkipping line 14613: expected 7 fields, saw 8\\nSkipping line 14651: expected 7 fields, saw 8\\nSkipping line 14669: expected 7 fields, saw 8\\nSkipping line 14696: expected 7 fields, saw 8\\nSkipping line 14746: expected 7 fields, saw 8\\nSkipping line 14768: expected 7 fields, saw 8\\nSkipping line 14809: expected 7 fields, saw 9\\nSkipping line 14844: expected 7 fields, saw 8\\nSkipping line 14880: expected 7 fields, saw 8\\nSkipping line 14891: expected 7 fields, saw 8\\nSkipping line 14897: expected 7 fields, saw 8\\nSkipping line 14947: expected 7 fields, saw 8\\nSkipping line 14951: expected 7 fields, saw 8\\nSkipping line 14955: expected 7 fields, saw 8\\nSkipping line 14965: expected 7 fields, saw 8\\nSkipping line 14966: expected 7 fields, saw 8\\nSkipping line 14972: expected 7 fields, saw 8\\nSkipping line 15042: expected 7 fields, saw 8\\nSkipping line 15310: expected 7 fields, saw 8\\nSkipping line 15558: expected 7 fields, saw 8\\nSkipping line 15779: expected 7 fields, saw 8\\nSkipping line 15883: expected 7 fields, saw 8\\nSkipping line 15888: expected 7 fields, saw 8\\nSkipping line 15918: expected 7 fields, saw 8\\nSkipping line 15937: expected 7 fields, saw 8\\nSkipping line 15946: expected 7 fields, saw 8\\nSkipping line 15955: expected 7 fields, saw 8\\nSkipping line 15959: expected 7 fields, saw 8\\nSkipping line 15991: expected 7 fields, saw 8\\nSkipping line 16003: expected 7 fields, saw 8\\nSkipping line 16014: expected 7 fields, saw 8\\nSkipping line 16023: expected 7 fields, saw 9\\nSkipping line 16027: expected 7 fields, saw 8\\nSkipping line 16029: expected 7 fields, saw 8\\nSkipping line 16032: expected 7 fields, saw 8\\nSkipping line 16037: expected 7 fields, saw 8\\nSkipping line 16038: expected 7 fields, saw 8\\nSkipping line 16044: expected 7 fields, saw 8\\nSkipping line 16057: expected 7 fields, saw 8\\nSkipping line 16079: expected 7 fields, saw 8\\nSkipping line 16093: expected 7 fields, saw 8\\nSkipping line 16094: expected 7 fields, saw 8\\nSkipping line 16131: expected 7 fields, saw 8\\nSkipping line 16149: expected 7 fields, saw 8\\nSkipping line 16163: expected 7 fields, saw 8\\nSkipping line 16228: expected 7 fields, saw 8\\nSkipping line 16234: expected 7 fields, saw 9\\nSkipping line 16255: expected 7 fields, saw 8\\nSkipping line 16271: expected 7 fields, saw 8\\nSkipping line 16316: expected 7 fields, saw 8\\nSkipping line 16356: expected 7 fields, saw 8\\nSkipping line 16541: expected 7 fields, saw 8\\nSkipping line 16561: expected 7 fields, saw 8\\nSkipping line 16617: expected 7 fields, saw 8\\nSkipping line 16726: expected 7 fields, saw 8\\nSkipping line 16756: expected 7 fields, saw 8\\nSkipping line 16829: expected 7 fields, saw 8\\nSkipping line 16858: expected 7 fields, saw 8\\nSkipping line 16863: expected 7 fields, saw 8\\nSkipping line 16874: expected 7 fields, saw 8\\nSkipping line 16877: expected 7 fields, saw 8\\nSkipping line 16887: expected 7 fields, saw 8\\nSkipping line 16888: expected 7 fields, saw 8\\nSkipping line 16890: expected 7 fields, saw 9\\nSkipping line 16892: expected 7 fields, saw 8\\nSkipping line 16917: expected 7 fields, saw 8\\nSkipping line 16944: expected 7 fields, saw 8\\nSkipping line 16959: expected 7 fields, saw 8\\nSkipping line 16995: expected 7 fields, saw 8\\nSkipping line 17035: expected 7 fields, saw 8\\nSkipping line 17045: expected 7 fields, saw 8\\nSkipping line 17049: expected 7 fields, saw 8\\nSkipping line 17155: expected 7 fields, saw 8\\nSkipping line 17172: expected 7 fields, saw 8\\nSkipping line 17177: expected 7 fields, saw 8\\nSkipping line 17186: expected 7 fields, saw 8\\nSkipping line 17192: expected 7 fields, saw 8\\nSkipping line 17194: expected 7 fields, saw 9\\nSkipping line 17199: expected 7 fields, saw 8\\nSkipping line 17221: expected 7 fields, saw 8\\nSkipping line 17234: expected 7 fields, saw 8\\nSkipping line 17245: expected 7 fields, saw 8\\nSkipping line 17260: expected 7 fields, saw 8\\nSkipping line 17309: expected 7 fields, saw 8\\nSkipping line 17411: expected 7 fields, saw 8\\nSkipping line 17419: expected 7 fields, saw 8\\nSkipping line 17424: expected 7 fields, saw 8\\nSkipping line 17444: expected 7 fields, saw 8\\nSkipping line 17455: expected 7 fields, saw 8\\nSkipping line 17462: expected 7 fields, saw 8\\nSkipping line 17465: expected 7 fields, saw 8\\nSkipping line 17474: expected 7 fields, saw 8\\nSkipping line 17478: expected 7 fields, saw 8\\nSkipping line 17486: expected 7 fields, saw 8\\nSkipping line 17495: expected 7 fields, saw 8\\nSkipping line 17507: expected 7 fields, saw 8\\nSkipping line 17536: expected 7 fields, saw 8\\nSkipping line 17539: expected 7 fields, saw 8\\nSkipping line 17542: expected 7 fields, saw 8\\nSkipping line 17545: expected 7 fields, saw 8\\nSkipping line 17549: expected 7 fields, saw 8\\nSkipping line 17554: expected 7 fields, saw 8\\nSkipping line 17555: expected 7 fields, saw 8\\nSkipping line 17569: expected 7 fields, saw 8\\nSkipping line 17573: expected 7 fields, saw 9\\nSkipping line 17605: expected 7 fields, saw 8\\nSkipping line 17606: expected 7 fields, saw 8\\nSkipping line 17607: expected 7 fields, saw 8\\nSkipping line 17611: expected 7 fields, saw 8\\nSkipping line 17616: expected 7 fields, saw 8\\nSkipping line 17619: expected 7 fields, saw 8\\nSkipping line 17622: expected 7 fields, saw 8\\nSkipping line 17623: expected 7 fields, saw 8\\nSkipping line 17626: expected 7 fields, saw 8\\nSkipping line 17627: expected 7 fields, saw 8\\nSkipping line 17629: expected 7 fields, saw 8\\nSkipping line 17630: expected 7 fields, saw 8\\nSkipping line 17632: expected 7 fields, saw 8\\nSkipping line 17688: expected 7 fields, saw 8\\nSkipping line 17823: expected 7 fields, saw 8\\nSkipping line 17902: expected 7 fields, saw 9\\nSkipping line 17907: expected 7 fields, saw 8\\nSkipping line 17912: expected 7 fields, saw 8\\nSkipping line 17926: expected 7 fields, saw 8\\nSkipping line 18059: expected 7 fields, saw 8\\nSkipping line 18084: expected 7 fields, saw 8\\nSkipping line 18119: expected 7 fields, saw 8\\nSkipping line 18130: expected 7 fields, saw 8\\nSkipping line 18135: expected 7 fields, saw 8\\nSkipping line 18136: expected 7 fields, saw 8\\nSkipping line 18210: expected 7 fields, saw 8\\nSkipping line 18231: expected 7 fields, saw 8\\nSkipping line 18293: expected 7 fields, saw 8\\nSkipping line 18303: expected 7 fields, saw 9\\nSkipping line 18308: expected 7 fields, saw 8\\nSkipping line 18316: expected 7 fields, saw 8\\nSkipping line 18324: expected 7 fields, saw 8\\nSkipping line 18337: expected 7 fields, saw 8\\nSkipping line 18339: expected 7 fields, saw 8\\nSkipping line 18349: expected 7 fields, saw 8\\nSkipping line 18352: expected 7 fields, saw 8\\nSkipping line 18357: expected 7 fields, saw 8\\nSkipping line 18370: expected 7 fields, saw 8\\nSkipping line 18384: expected 7 fields, saw 8\\nSkipping line 18386: expected 7 fields, saw 8\\nSkipping line 18433: expected 7 fields, saw 8\\nSkipping line 18440: expected 7 fields, saw 8\\nSkipping line 18446: expected 7 fields, saw 9\\nSkipping line 18468: expected 7 fields, saw 8\\nSkipping line 18497: expected 7 fields, saw 8\\nSkipping line 18552: expected 7 fields, saw 8\\nSkipping line 18594: expected 7 fields, saw 8\\nSkipping line 18598: expected 7 fields, saw 8\\nSkipping line 18608: expected 7 fields, saw 8\\nSkipping line 18614: expected 7 fields, saw 8\\nSkipping line 18620: expected 7 fields, saw 8\\nSkipping line 18625: expected 7 fields, saw 8\\nSkipping line 18638: expected 7 fields, saw 8\\nSkipping line 18641: expected 7 fields, saw 8\\nSkipping line 18642: expected 7 fields, saw 8\\nSkipping line 18658: expected 7 fields, saw 8\\nSkipping line 18663: expected 7 fields, saw 8\\nSkipping line 18669: expected 7 fields, saw 8\\nSkipping line 18676: expected 7 fields, saw 8\\nSkipping line 18678: expected 7 fields, saw 8\\nSkipping line 18679: expected 7 fields, saw 8\\nSkipping line 18687: expected 7 fields, saw 9\\nSkipping line 18702: expected 7 fields, saw 8\\nSkipping line 18710: expected 7 fields, saw 8\\nSkipping line 18717: expected 7 fields, saw 8\\nSkipping line 18757: expected 7 fields, saw 8\\nSkipping line 18773: expected 7 fields, saw 8\\nSkipping line 18792: expected 7 fields, saw 8\\nSkipping line 18798: expected 7 fields, saw 8\\nSkipping line 18801: expected 7 fields, saw 8\\nSkipping line 18845: expected 7 fields, saw 8\\nSkipping line 18850: expected 7 fields, saw 8\\nSkipping line 18857: expected 7 fields, saw 8\\nSkipping line 18875: expected 7 fields, saw 8\\nSkipping line 18881: expected 7 fields, saw 8\\nSkipping line 18894: expected 7 fields, saw 8\\nSkipping line 18895: expected 7 fields, saw 8\\nSkipping line 18898: expected 7 fields, saw 8\\nSkipping line 18901: expected 7 fields, saw 8\\nSkipping line 18902: expected 7 fields, saw 8\\nSkipping line 18906: expected 7 fields, saw 8\\nSkipping line 18908: expected 7 fields, saw 8\\nSkipping line 18931: expected 7 fields, saw 8\\nSkipping line 18933: expected 7 fields, saw 8\\nSkipping line 18939: expected 7 fields, saw 8\\nSkipping line 18940: expected 7 fields, saw 8\\nSkipping line 18944: expected 7 fields, saw 8\\nSkipping line 18957: expected 7 fields, saw 8\\nSkipping line 18969: expected 7 fields, saw 8\\nSkipping line 19022: expected 7 fields, saw 8\\nSkipping line 19045: expected 7 fields, saw 8\\nSkipping line 19094: expected 7 fields, saw 8\\nSkipping line 19104: expected 7 fields, saw 8\\nSkipping line 19108: expected 7 fields, saw 8\\nSkipping line 19123: expected 7 fields, saw 8\\nSkipping line 19126: expected 7 fields, saw 9\\nSkipping line 19141: expected 7 fields, saw 8\\nSkipping line 19150: expected 7 fields, saw 8\\nSkipping line 19221: expected 7 fields, saw 8\\nSkipping line 19712: expected 7 fields, saw 8\\nSkipping line 19744: expected 7 fields, saw 8\\nSkipping line 19759: expected 7 fields, saw 8\\nSkipping line 19788: expected 7 fields, saw 8\\nSkipping line 19866: expected 7 fields, saw 8\\nSkipping line 20148: expected 7 fields, saw 8\\nSkipping line 20284: expected 7 fields, saw 8\\nSkipping line 20401: expected 7 fields, saw 8\\nSkipping line 20543: expected 7 fields, saw 8\\nSkipping line 20799: expected 7 fields, saw 8\\nSkipping line 20805: expected 7 fields, saw 8\\nSkipping line 20818: expected 7 fields, saw 8\\nSkipping line 20830: expected 7 fields, saw 8\\nSkipping line 20861: expected 7 fields, saw 8\\nSkipping line 21025: expected 7 fields, saw 8\\nSkipping line 21064: expected 7 fields, saw 8\\nSkipping line 21081: expected 7 fields, saw 8\\nSkipping line 21115: expected 7 fields, saw 8\\nSkipping line 21125: expected 7 fields, saw 8\\nSkipping line 21126: expected 7 fields, saw 8\\nSkipping line 21131: expected 7 fields, saw 8\\nSkipping line 21137: expected 7 fields, saw 8\\nSkipping line 21140: expected 7 fields, saw 9\\nSkipping line 21198: expected 7 fields, saw 8\\nSkipping line 21203: expected 7 fields, saw 8\\nSkipping line 21204: expected 7 fields, saw 8\\nSkipping line 21227: expected 7 fields, saw 9\\nSkipping line 21276: expected 7 fields, saw 8\\nSkipping line 21279: expected 7 fields, saw 8\\nSkipping line 21334: expected 7 fields, saw 8\\nSkipping line 21370: expected 7 fields, saw 8\\nSkipping line 21453: expected 7 fields, saw 8\\nSkipping line 21494: expected 7 fields, saw 8\\nSkipping line 21503: expected 7 fields, saw 8\\nSkipping line 21508: expected 7 fields, saw 8\\nSkipping line 21509: expected 7 fields, saw 8\\nSkipping line 21510: expected 7 fields, saw 8\\nSkipping line 21513: expected 7 fields, saw 8\\nSkipping line 21516: expected 7 fields, saw 8\\nSkipping line 21524: expected 7 fields, saw 8\\nSkipping line 21532: expected 7 fields, saw 8\\nSkipping line 21536: expected 7 fields, saw 8\\nSkipping line 21541: expected 7 fields, saw 8\\nSkipping line 21578: expected 7 fields, saw 8\\nSkipping line 21579: expected 7 fields, saw 8\\nSkipping line 21597: expected 7 fields, saw 9\\nSkipping line 21639: expected 7 fields, saw 8\\nSkipping line 22034: expected 7 fields, saw 8\\nSkipping line 22037: expected 7 fields, saw 8\\nSkipping line 22040: expected 7 fields, saw 8\\nSkipping line 22041: expected 7 fields, saw 8\\nSkipping line 22048: expected 7 fields, saw 8\\nSkipping line 22056: expected 7 fields, saw 8\\nSkipping line 22057: expected 7 fields, saw 8\\nSkipping line 22058: expected 7 fields, saw 8\\nSkipping line 22059: expected 7 fields, saw 8\\nSkipping line 22060: expected 7 fields, saw 8\\nSkipping line 22061: expected 7 fields, saw 8\\nSkipping line 22062: expected 7 fields, saw 8\\nSkipping line 22064: expected 7 fields, saw 8\\nSkipping line 22065: expected 7 fields, saw 8\\nSkipping line 22066: expected 7 fields, saw 8\\nSkipping line 22070: expected 7 fields, saw 8\\nSkipping line 22077: expected 7 fields, saw 8\\nSkipping line 22095: expected 7 fields, saw 8\\nSkipping line 22117: expected 7 fields, saw 8\\nSkipping line 22122: expected 7 fields, saw 8\\nSkipping line 22159: expected 7 fields, saw 8\\nSkipping line 22184: expected 7 fields, saw 8\\nSkipping line 22185: expected 7 fields, saw 8\\nSkipping line 22188: expected 7 fields, saw 8\\nSkipping line 22191: expected 7 fields, saw 8\\nSkipping line 22196: expected 7 fields, saw 8\\nSkipping line 22197: expected 7 fields, saw 8\\nSkipping line 22199: expected 7 fields, saw 8\\nSkipping line 22200: expected 7 fields, saw 8\\nSkipping line 22202: expected 7 fields, saw 8\\nSkipping line 22205: expected 7 fields, saw 8\\nSkipping line 22208: expected 7 fields, saw 8\\nSkipping line 22212: expected 7 fields, saw 8\\nSkipping line 22213: expected 7 fields, saw 8\\nSkipping line 22215: expected 7 fields, saw 8\\nSkipping line 22216: expected 7 fields, saw 8\\nSkipping line 22217: expected 7 fields, saw 8\\nSkipping line 22219: expected 7 fields, saw 8\\nSkipping line 22220: expected 7 fields, saw 8\\nSkipping line 22221: expected 7 fields, saw 8\\nSkipping line 22268: expected 7 fields, saw 8\\nSkipping line 22283: expected 7 fields, saw 8\\nSkipping line 22288: expected 7 fields, saw 8\\nSkipping line 22297: expected 7 fields, saw 8\\nSkipping line 22320: expected 7 fields, saw 8\\nSkipping line 22340: expected 7 fields, saw 8\\nSkipping line 22343: expected 7 fields, saw 8\\nSkipping line 22361: expected 7 fields, saw 8\\nSkipping line 22369: expected 7 fields, saw 8\\nSkipping line 22378: expected 7 fields, saw 9\\nSkipping line 22399: expected 7 fields, saw 8\\nSkipping line 22413: expected 7 fields, saw 8\\nSkipping line 22414: expected 7 fields, saw 8\\nSkipping line 22415: expected 7 fields, saw 8\\nSkipping line 22425: expected 7 fields, saw 8\\nSkipping line 22426: expected 7 fields, saw 8\\nSkipping line 22431: expected 7 fields, saw 8\\nSkipping line 22443: expected 7 fields, saw 8\\nSkipping line 22444: expected 7 fields, saw 8\\nSkipping line 22449: expected 7 fields, saw 8\\nSkipping line 22464: expected 7 fields, saw 8\\nSkipping line 22483: expected 7 fields, saw 8\\nSkipping line 22498: expected 7 fields, saw 8\\nSkipping line 22513: expected 7 fields, saw 8\\nSkipping line 22519: expected 7 fields, saw 8\\nSkipping line 22521: expected 7 fields, saw 8\\nSkipping line 22570: expected 7 fields, saw 8\\nSkipping line 22583: expected 7 fields, saw 8\\nSkipping line 22584: expected 7 fields, saw 8\\nSkipping line 22594: expected 7 fields, saw 8\\nSkipping line 22718: expected 7 fields, saw 8\\nSkipping line 22721: expected 7 fields, saw 8\\nSkipping line 22725: expected 7 fields, saw 8\\nSkipping line 22777: expected 7 fields, saw 8\\nSkipping line 22782: expected 7 fields, saw 8\\nSkipping line 22786: expected 7 fields, saw 8\\nSkipping line 22788: expected 7 fields, saw 8\\nSkipping line 22807: expected 7 fields, saw 8\\nSkipping line 22844: expected 7 fields, saw 8\\nSkipping line 22853: expected 7 fields, saw 8\\nSkipping line 22858: expected 7 fields, saw 8\\nSkipping line 22860: expected 7 fields, saw 8\\nSkipping line 22875: expected 7 fields, saw 8\\nSkipping line 22886: expected 7 fields, saw 8\\nSkipping line 22889: expected 7 fields, saw 8\\nSkipping line 22891: expected 7 fields, saw 8\\nSkipping line 22913: expected 7 fields, saw 8\\nSkipping line 22917: expected 7 fields, saw 8\\nSkipping line 22918: expected 7 fields, saw 8\\nSkipping line 22990: expected 7 fields, saw 8\\nSkipping line 23090: expected 7 fields, saw 8\\nSkipping line 23094: expected 7 fields, saw 8\\nSkipping line 23160: expected 7 fields, saw 8\\nSkipping line 23169: expected 7 fields, saw 8\\nSkipping line 23193: expected 7 fields, saw 8\\nSkipping line 23204: expected 7 fields, saw 8\\nSkipping line 23223: expected 7 fields, saw 8\\nSkipping line 23226: expected 7 fields, saw 8\\nSkipping line 23251: expected 7 fields, saw 8\\nSkipping line 23290: expected 7 fields, saw 8\\nSkipping line 23292: expected 7 fields, saw 8\\nSkipping line 23359: expected 7 fields, saw 8\\nSkipping line 23374: expected 7 fields, saw 8\\nSkipping line 23403: expected 7 fields, saw 8\\nSkipping line 23443: expected 7 fields, saw 8\\nSkipping line 23465: expected 7 fields, saw 8\\nSkipping line 23473: expected 7 fields, saw 8\\nSkipping line 23481: expected 7 fields, saw 8\\nSkipping line 23485: expected 7 fields, saw 8\\nSkipping line 23488: expected 7 fields, saw 8\\nSkipping line 23503: expected 7 fields, saw 8\\nSkipping line 23556: expected 7 fields, saw 8\\nSkipping line 23587: expected 7 fields, saw 8\\nSkipping line 23591: expected 7 fields, saw 8\\nSkipping line 23606: expected 7 fields, saw 8\\nSkipping line 23614: expected 7 fields, saw 8\\nSkipping line 23632: expected 7 fields, saw 8\\nSkipping line 23637: expected 7 fields, saw 8\\nSkipping line 23644: expected 7 fields, saw 8\\nSkipping line 23651: expected 7 fields, saw 8\\nSkipping line 23659: expected 7 fields, saw 8\\nSkipping line 23683: expected 7 fields, saw 8\\nSkipping line 23724: expected 7 fields, saw 8\\nSkipping line 23810: expected 7 fields, saw 8\\nSkipping line 23813: expected 7 fields, saw 8\\nSkipping line 23815: expected 7 fields, saw 8\\nSkipping line 23821: expected 7 fields, saw 8\\nSkipping line 23822: expected 7 fields, saw 8\\nSkipping line 23881: expected 7 fields, saw 8\\nSkipping line 23884: expected 7 fields, saw 8\\nSkipping line 23886: expected 7 fields, saw 8\\nSkipping line 23887: expected 7 fields, saw 8\\nSkipping line 23888: expected 7 fields, saw 8\\nSkipping line 23890: expected 7 fields, saw 8\\nSkipping line 23891: expected 7 fields, saw 8\\nSkipping line 23892: expected 7 fields, saw 8\\nSkipping line 23913: expected 7 fields, saw 8\\nSkipping line 23918: expected 7 fields, saw 8\\nSkipping line 23919: expected 7 fields, saw 8\\nSkipping line 23920: expected 7 fields, saw 8\\nSkipping line 23926: expected 7 fields, saw 9\\nSkipping line 23929: expected 7 fields, saw 8\\nSkipping line 23930: expected 7 fields, saw 8\\nSkipping line 23968: expected 7 fields, saw 8\\nSkipping line 23973: expected 7 fields, saw 8\\nSkipping line 23980: expected 7 fields, saw 8\\nSkipping line 24002: expected 7 fields, saw 8\\nSkipping line 24012: expected 7 fields, saw 8\\nSkipping line 24046: expected 7 fields, saw 8\\nSkipping line 24055: expected 7 fields, saw 8\\nSkipping line 24115: expected 7 fields, saw 8\\nSkipping line 24126: expected 7 fields, saw 8\\nSkipping line 24141: expected 7 fields, saw 8\\nSkipping line 24149: expected 7 fields, saw 8\\nSkipping line 24156: expected 7 fields, saw 8\\nSkipping line 24212: expected 7 fields, saw 9\\nSkipping line 24221: expected 7 fields, saw 8\\nSkipping line 24402: expected 7 fields, saw 8\\nSkipping line 24428: expected 7 fields, saw 8\\nSkipping line 24486: expected 7 fields, saw 8\\nSkipping line 24488: expected 7 fields, saw 8\\nSkipping line 24492: expected 7 fields, saw 8\\nSkipping line 24502: expected 7 fields, saw 8\\nSkipping line 24530: expected 7 fields, saw 8\\nSkipping line 24532: expected 7 fields, saw 8\\nSkipping line 24533: expected 7 fields, saw 8\\nSkipping line 24540: expected 7 fields, saw 8\\nSkipping line 24548: expected 7 fields, saw 8\\nSkipping line 24550: expected 7 fields, saw 8\\nSkipping line 24561: expected 7 fields, saw 8\\nSkipping line 24612: expected 7 fields, saw 9\\nSkipping line 24621: expected 7 fields, saw 8\\nSkipping line 24661: expected 7 fields, saw 8\\nSkipping line 24820: expected 7 fields, saw 8\\nSkipping line 25011: expected 7 fields, saw 8\\nSkipping line 25055: expected 7 fields, saw 8\\nSkipping line 25068: expected 7 fields, saw 8\\nSkipping line 25115: expected 7 fields, saw 8\\nSkipping line 25193: expected 7 fields, saw 9\\nSkipping line 25199: expected 7 fields, saw 8\\nSkipping line 25242: expected 7 fields, saw 8\\nSkipping line 25323: expected 7 fields, saw 8\\nSkipping line 25343: expected 7 fields, saw 8\\nSkipping line 25360: expected 7 fields, saw 8\\nSkipping line 25371: expected 7 fields, saw 8\\nSkipping line 25465: expected 7 fields, saw 9\\nSkipping line 25475: expected 7 fields, saw 8\\nSkipping line 25486: expected 7 fields, saw 8\\nSkipping line 25494: expected 7 fields, saw 8\\nSkipping line 25496: expected 7 fields, saw 8\\nSkipping line 25497: expected 7 fields, saw 8\\nSkipping line 25531: expected 7 fields, saw 8\\nSkipping line 25542: expected 7 fields, saw 8\\nSkipping line 25556: expected 7 fields, saw 8\\nSkipping line 25562: expected 7 fields, saw 8\\nSkipping line 25563: expected 7 fields, saw 8\\nSkipping line 25590: expected 7 fields, saw 8\\nSkipping line 25607: expected 7 fields, saw 8\\nSkipping line 25608: expected 7 fields, saw 8\\nSkipping line 25639: expected 7 fields, saw 8\\nSkipping line 25647: expected 7 fields, saw 8\\nSkipping line 25652: expected 7 fields, saw 8\\nSkipping line 25654: expected 7 fields, saw 8\\nSkipping line 25659: expected 7 fields, saw 8\\nSkipping line 25664: expected 7 fields, saw 8\\nSkipping line 25749: expected 7 fields, saw 8\\nSkipping line 25775: expected 7 fields, saw 8\\nSkipping line 25798: expected 7 fields, saw 8\\nSkipping line 25858: expected 7 fields, saw 8\\nSkipping line 25868: expected 7 fields, saw 8\\nSkipping line 25873: expected 7 fields, saw 8\\nSkipping line 25884: expected 7 fields, saw 8\\nSkipping line 25912: expected 7 fields, saw 8\\nSkipping line 25927: expected 7 fields, saw 8\\nSkipping line 25959: expected 7 fields, saw 8\\nSkipping line 25972: expected 7 fields, saw 8\\nSkipping line 26012: expected 7 fields, saw 8\\nSkipping line 26017: expected 7 fields, saw 8\\nSkipping line 26034: expected 7 fields, saw 8\\nSkipping line 26035: expected 7 fields, saw 8\\nSkipping line 26038: expected 7 fields, saw 8\\nSkipping line 26057: expected 7 fields, saw 8\\nSkipping line 26076: expected 7 fields, saw 8\\nSkipping line 26086: expected 7 fields, saw 8\\nSkipping line 26117: expected 7 fields, saw 8\\nSkipping line 26131: expected 7 fields, saw 8\\nSkipping line 26139: expected 7 fields, saw 8\\nSkipping line 26209: expected 7 fields, saw 8\\nSkipping line 26298: expected 7 fields, saw 8\\nSkipping line 26299: expected 7 fields, saw 8\\nSkipping line 26327: expected 7 fields, saw 8\\nSkipping line 26349: expected 7 fields, saw 8\\nSkipping line 26354: expected 7 fields, saw 8\\nSkipping line 26368: expected 7 fields, saw 8\\nSkipping line 26373: expected 7 fields, saw 8\\nSkipping line 26380: expected 7 fields, saw 8\\nSkipping line 26386: expected 7 fields, saw 8\\nSkipping line 26394: expected 7 fields, saw 8\\nSkipping line 26399: expected 7 fields, saw 8\\nSkipping line 26426: expected 7 fields, saw 8\\nSkipping line 26444: expected 7 fields, saw 8\\nSkipping line 26452: expected 7 fields, saw 8\\nSkipping line 26525: expected 7 fields, saw 8\\nSkipping line 26527: expected 7 fields, saw 8\\nSkipping line 26577: expected 7 fields, saw 8\\nSkipping line 26718: expected 7 fields, saw 8\\nSkipping line 26752: expected 7 fields, saw 8\\nSkipping line 26774: expected 7 fields, saw 8\\nSkipping line 26799: expected 7 fields, saw 8\\nSkipping line 26826: expected 7 fields, saw 8\\nSkipping line 26856: expected 7 fields, saw 8\\nSkipping line 26895: expected 7 fields, saw 8\\nSkipping line 26896: expected 7 fields, saw 8\\nSkipping line 26897: expected 7 fields, saw 8\\nSkipping line 26948: expected 7 fields, saw 8\\nSkipping line 26971: expected 7 fields, saw 8\\nSkipping line 26999: expected 7 fields, saw 8\\nSkipping line 27014: expected 7 fields, saw 8\\nSkipping line 27027: expected 7 fields, saw 9\\nSkipping line 27037: expected 7 fields, saw 8\\nSkipping line 27078: expected 7 fields, saw 8\\nSkipping line 27079: expected 7 fields, saw 8\\nSkipping line 27080: expected 7 fields, saw 8\\nSkipping line 27097: expected 7 fields, saw 9\\nSkipping line 27133: expected 7 fields, saw 8\\nSkipping line 27156: expected 7 fields, saw 8\\nSkipping line 27157: expected 7 fields, saw 8\\nSkipping line 27158: expected 7 fields, saw 8\\nSkipping line 27166: expected 7 fields, saw 9\\nSkipping line 27169: expected 7 fields, saw 8\\nSkipping line 27173: expected 7 fields, saw 8\\nSkipping line 27178: expected 7 fields, saw 8\\nSkipping line 27184: expected 7 fields, saw 8\\nSkipping line 27186: expected 7 fields, saw 9\\nSkipping line 27208: expected 7 fields, saw 8\\nSkipping line 27388: expected 7 fields, saw 8\\nSkipping line 27391: expected 7 fields, saw 8\\nSkipping line 27396: expected 7 fields, saw 8\\nSkipping line 27439: expected 7 fields, saw 8\\nSkipping line 27472: expected 7 fields, saw 8\\nSkipping line 27530: expected 7 fields, saw 8\\nSkipping line 27542: expected 7 fields, saw 8\\nSkipping line 27562: expected 7 fields, saw 8\\nSkipping line 27568: expected 7 fields, saw 8\\nSkipping line 27580: expected 7 fields, saw 8\\nSkipping line 27581: expected 7 fields, saw 8\\nSkipping line 27583: expected 7 fields, saw 9\\nSkipping line 27594: expected 7 fields, saw 8\\nSkipping line 27595: expected 7 fields, saw 8\\nSkipping line 27598: expected 7 fields, saw 8\\nSkipping line 27599: expected 7 fields, saw 8\\nSkipping line 27604: expected 7 fields, saw 8\\nSkipping line 27616: expected 7 fields, saw 8\\nSkipping line 27620: expected 7 fields, saw 8\\nSkipping line 27625: expected 7 fields, saw 8\\nSkipping line 27640: expected 7 fields, saw 8\\nSkipping line 27664: expected 7 fields, saw 8\\nSkipping line 27665: expected 7 fields, saw 8\\nSkipping line 27666: expected 7 fields, saw 8\\nSkipping line 27667: expected 7 fields, saw 8\\nSkipping line 27668: expected 7 fields, saw 8\\nSkipping line 27669: expected 7 fields, saw 8\\nSkipping line 27671: expected 7 fields, saw 8\\nSkipping line 27672: expected 7 fields, saw 8\\nSkipping line 27675: expected 7 fields, saw 8\\nSkipping line 27678: expected 7 fields, saw 8\\nSkipping line 27679: expected 7 fields, saw 8\\nSkipping line 27680: expected 7 fields, saw 8\\nSkipping line 27681: expected 7 fields, saw 8\\nSkipping line 27682: expected 7 fields, saw 8\\nSkipping line 27690: expected 7 fields, saw 8\\nSkipping line 27693: expected 7 fields, saw 8\\nSkipping line 27695: expected 7 fields, saw 8\\nSkipping line 27758: expected 7 fields, saw 8\\nSkipping line 27821: expected 7 fields, saw 8\\nSkipping line 27827: expected 7 fields, saw 8\\nSkipping line 27890: expected 7 fields, saw 8\\nSkipping line 28075: expected 7 fields, saw 8\\nSkipping line 28091: expected 7 fields, saw 8\\nSkipping line 28104: expected 7 fields, saw 8\\nSkipping line 28145: expected 7 fields, saw 8\\nSkipping line 28162: expected 7 fields, saw 8\\nSkipping line 28164: expected 7 fields, saw 8\\nSkipping line 28240: expected 7 fields, saw 8\\nSkipping line 28324: expected 7 fields, saw 8\\nSkipping line 28366: expected 7 fields, saw 8\\nSkipping line 28471: expected 7 fields, saw 8\\nSkipping line 28478: expected 7 fields, saw 8\\nSkipping line 28483: expected 7 fields, saw 8\\nSkipping line 28497: expected 7 fields, saw 8\\nSkipping line 28500: expected 7 fields, saw 8\\nSkipping line 28513: expected 7 fields, saw 8\\nSkipping line 28520: expected 7 fields, saw 8\\nSkipping line 28552: expected 7 fields, saw 8\\nSkipping line 28571: expected 7 fields, saw 8\\nSkipping line 28576: expected 7 fields, saw 8\\nSkipping line 28580: expected 7 fields, saw 8\\nSkipping line 28589: expected 7 fields, saw 8\\nSkipping line 28618: expected 7 fields, saw 8\\nSkipping line 28630: expected 7 fields, saw 8\\nSkipping line 28648: expected 7 fields, saw 8\\nSkipping line 28676: expected 7 fields, saw 8\\nSkipping line 28679: expected 7 fields, saw 8\\nSkipping line 28682: expected 7 fields, saw 8\\nSkipping line 28685: expected 7 fields, saw 8\\nSkipping line 28686: expected 7 fields, saw 8\\nSkipping line 28687: expected 7 fields, saw 8\\nSkipping line 28692: expected 7 fields, saw 8\\nSkipping line 28693: expected 7 fields, saw 8\\nSkipping line 28695: expected 7 fields, saw 8\\nSkipping line 28702: expected 7 fields, saw 8\\nSkipping line 28771: expected 7 fields, saw 8\\nSkipping line 28795: expected 7 fields, saw 8\\nSkipping line 28835: expected 7 fields, saw 8\\nSkipping line 28842: expected 7 fields, saw 8\\nSkipping line 28901: expected 7 fields, saw 8\\nSkipping line 28935: expected 7 fields, saw 8\\nSkipping line 28966: expected 7 fields, saw 8\\nSkipping line 28968: expected 7 fields, saw 8\\nSkipping line 28969: expected 7 fields, saw 8\\nSkipping line 28972: expected 7 fields, saw 8\\nSkipping line 28976: expected 7 fields, saw 8\\nSkipping line 28999: expected 7 fields, saw 8\\nSkipping line 29032: expected 7 fields, saw 8\\nSkipping line 29034: expected 7 fields, saw 8\\nSkipping line 29037: expected 7 fields, saw 8\\nSkipping line 29038: expected 7 fields, saw 8\\nSkipping line 29059: expected 7 fields, saw 8\\nSkipping line 29073: expected 7 fields, saw 9\\nSkipping line 29077: expected 7 fields, saw 8\\nSkipping line 29119: expected 7 fields, saw 8\\nSkipping line 29127: expected 7 fields, saw 8\\nSkipping line 29171: expected 7 fields, saw 8\\nSkipping line 29183: expected 7 fields, saw 8\\nSkipping line 29208: expected 7 fields, saw 8\\nSkipping line 29235: expected 7 fields, saw 8\\nSkipping line 29240: expected 7 fields, saw 8\\nSkipping line 29241: expected 7 fields, saw 8\\nSkipping line 29291: expected 7 fields, saw 8\\nSkipping line 29323: expected 7 fields, saw 8\\nSkipping line 29324: expected 7 fields, saw 8\\nSkipping line 29453: expected 7 fields, saw 8\\nSkipping line 29459: expected 7 fields, saw 8\\nSkipping line 29521: expected 7 fields, saw 8\\nSkipping line 29541: expected 7 fields, saw 8\\nSkipping line 29554: expected 7 fields, saw 8\\nSkipping line 29590: expected 7 fields, saw 8\\nSkipping line 29594: expected 7 fields, saw 8\\nSkipping line 29602: expected 7 fields, saw 8\\nSkipping line 29604: expected 7 fields, saw 8\\nSkipping line 29611: expected 7 fields, saw 8\\nSkipping line 29615: expected 7 fields, saw 8\\nSkipping line 29616: expected 7 fields, saw 8\\nSkipping line 29634: expected 7 fields, saw 8\\nSkipping line 29636: expected 7 fields, saw 8\\nSkipping line 29685: expected 7 fields, saw 8\\nSkipping line 29687: expected 7 fields, saw 9\\nSkipping line 29716: expected 7 fields, saw 8\\nSkipping line 29727: expected 7 fields, saw 8\\nSkipping line 29729: expected 7 fields, saw 8\\nSkipping line 29732: expected 7 fields, saw 8\\nSkipping line 29757: expected 7 fields, saw 8\\nSkipping line 29758: expected 7 fields, saw 8\\nSkipping line 29759: expected 7 fields, saw 8\\nSkipping line 29761: expected 7 fields, saw 8\\nSkipping line 29763: expected 7 fields, saw 8\\nSkipping line 29767: expected 7 fields, saw 8\\nSkipping line 29769: expected 7 fields, saw 8\\nSkipping line 29775: expected 7 fields, saw 8\\nSkipping line 29783: expected 7 fields, saw 8\\nSkipping line 29795: expected 7 fields, saw 8\\nSkipping line 29813: expected 7 fields, saw 8\\nSkipping line 29836: expected 7 fields, saw 8\\nSkipping line 29978: expected 7 fields, saw 8\\nSkipping line 29981: expected 7 fields, saw 8\\nSkipping line 29986: expected 7 fields, saw 8\\nSkipping line 30147: expected 7 fields, saw 8\\nSkipping line 30155: expected 7 fields, saw 8\\nSkipping line 30161: expected 7 fields, saw 8\\nSkipping line 30167: expected 7 fields, saw 8\\nSkipping line 30173: expected 7 fields, saw 8\\nSkipping line 30287: expected 7 fields, saw 8\\nSkipping line 30288: expected 7 fields, saw 8\\nSkipping line 30313: expected 7 fields, saw 8\\nSkipping line 30355: expected 7 fields, saw 8\\nSkipping line 30364: expected 7 fields, saw 8\\nSkipping line 30365: expected 7 fields, saw 8\\nSkipping line 30370: expected 7 fields, saw 8\\nSkipping line 30371: expected 7 fields, saw 8\\nSkipping line 30382: expected 7 fields, saw 8\\nSkipping line 30426: expected 7 fields, saw 8\\nSkipping line 30459: expected 7 fields, saw 8\\nSkipping line 30469: expected 7 fields, saw 8\\nSkipping line 30497: expected 7 fields, saw 8\\nSkipping line 30509: expected 7 fields, saw 8\\nSkipping line 30568: expected 7 fields, saw 8\\nSkipping line 30578: expected 7 fields, saw 8\\nSkipping line 30582: expected 7 fields, saw 8\\nSkipping line 30588: expected 7 fields, saw 8\\nSkipping line 30615: expected 7 fields, saw 8\\nSkipping line 30637: expected 7 fields, saw 8\\nSkipping line 30697: expected 7 fields, saw 8\\nSkipping line 30712: expected 7 fields, saw 8\\nSkipping line 30720: expected 7 fields, saw 8\\nSkipping line 30727: expected 7 fields, saw 8\\nSkipping line 30738: expected 7 fields, saw 8\\nSkipping line 30749: expected 7 fields, saw 8\\nSkipping line 30765: expected 7 fields, saw 8\\nSkipping line 30779: expected 7 fields, saw 8\\nSkipping line 30789: expected 7 fields, saw 8\\nSkipping line 30813: expected 7 fields, saw 8\\nSkipping line 30819: expected 7 fields, saw 8\\nSkipping line 30823: expected 7 fields, saw 8\\nSkipping line 30836: expected 7 fields, saw 8\\nSkipping line 30838: expected 7 fields, saw 8\\nSkipping line 30842: expected 7 fields, saw 8\\nSkipping line 30853: expected 7 fields, saw 8\\nSkipping line 30865: expected 7 fields, saw 8\\nSkipping line 30904: expected 7 fields, saw 9\\nSkipping line 30942: expected 7 fields, saw 8\\nSkipping line 31015: expected 7 fields, saw 8\\nSkipping line 31107: expected 7 fields, saw 8\\nSkipping line 31150: expected 7 fields, saw 8\\nSkipping line 31248: expected 7 fields, saw 8\\nSkipping line 31420: expected 7 fields, saw 8\\nSkipping line 31818: expected 7 fields, saw 8\\nSkipping line 31830: expected 7 fields, saw 8\\nSkipping line 31856: expected 7 fields, saw 8\\nSkipping line 31939: expected 7 fields, saw 8\\nSkipping line 32091: expected 7 fields, saw 8\\nSkipping line 32166: expected 7 fields, saw 9\\nSkipping line 32217: expected 7 fields, saw 8\\nSkipping line 32232: expected 7 fields, saw 8\\nSkipping line 32461: expected 7 fields, saw 8\\nSkipping line 32560: expected 7 fields, saw 8\\nSkipping line 32714: expected 7 fields, saw 8\\nSkipping line 32954: expected 7 fields, saw 8\\nSkipping line 32993: expected 7 fields, saw 8\\nSkipping line 33003: expected 7 fields, saw 8\\nSkipping line 33012: expected 7 fields, saw 8\\nSkipping line 33079: expected 7 fields, saw 8\\nSkipping line 33483: expected 7 fields, saw 8\\nSkipping line 33490: expected 7 fields, saw 8\\nSkipping line 33516: expected 7 fields, saw 8\\nSkipping line 33764: expected 7 fields, saw 8\\nSkipping line 33927: expected 7 fields, saw 8\\nSkipping line 34223: expected 7 fields, saw 8\\nSkipping line 34994: expected 7 fields, saw 8\\nSkipping line 35030: expected 7 fields, saw 8\\nSkipping line 35035: expected 7 fields, saw 8\\nSkipping line 35038: expected 7 fields, saw 8\\nSkipping line 35045: expected 7 fields, saw 8\\nSkipping line 35049: expected 7 fields, saw 8\\nSkipping line 35056: expected 7 fields, saw 8\\nSkipping line 35108: expected 7 fields, saw 8\\nSkipping line 35116: expected 7 fields, saw 8\\nSkipping line 35122: expected 7 fields, saw 8\\nSkipping line 35138: expected 7 fields, saw 8\\nSkipping line 35165: expected 7 fields, saw 8\\nSkipping line 35211: expected 7 fields, saw 9\\nSkipping line 35220: expected 7 fields, saw 8\\nSkipping line 35232: expected 7 fields, saw 8\\nSkipping line 35238: expected 7 fields, saw 8\\nSkipping line 35245: expected 7 fields, saw 8\\nSkipping line 35255: expected 7 fields, saw 8\\nSkipping line 35270: expected 7 fields, saw 8\\nSkipping line 35278: expected 7 fields, saw 8\\nSkipping line 35299: expected 7 fields, saw 8\\nSkipping line 35309: expected 7 fields, saw 8\\nSkipping line 35310: expected 7 fields, saw 8\\nSkipping line 35312: expected 7 fields, saw 8\\nSkipping line 35343: expected 7 fields, saw 8\\nSkipping line 35404: expected 7 fields, saw 8\\nSkipping line 35426: expected 7 fields, saw 8\\nSkipping line 35427: expected 7 fields, saw 8\\nSkipping line 35622: expected 7 fields, saw 8\\nSkipping line 35667: expected 7 fields, saw 8\\nSkipping line 35683: expected 7 fields, saw 8\\nSkipping line 35714: expected 7 fields, saw 8\\nSkipping line 35722: expected 7 fields, saw 8\\nSkipping line 35775: expected 7 fields, saw 8\\nSkipping line 35834: expected 7 fields, saw 8\\nSkipping line 35905: expected 7 fields, saw 8\\nSkipping line 35920: expected 7 fields, saw 8\\nSkipping line 35950: expected 7 fields, saw 9\\nSkipping line 35963: expected 7 fields, saw 8\\nSkipping line 36025: expected 7 fields, saw 8\\nSkipping line 36057: expected 7 fields, saw 8\\nSkipping line 36062: expected 7 fields, saw 8\\nSkipping line 36101: expected 7 fields, saw 8\\nSkipping line 36134: expected 7 fields, saw 8\\nSkipping line 36226: expected 7 fields, saw 8\\nSkipping line 36245: expected 7 fields, saw 8\\nSkipping line 36252: expected 7 fields, saw 8\\nSkipping line 36274: expected 7 fields, saw 8\\nSkipping line 36288: expected 7 fields, saw 8\\nSkipping line 36316: expected 7 fields, saw 8\\nSkipping line 36320: expected 7 fields, saw 8\\nSkipping line 36368: expected 7 fields, saw 8\\nSkipping line 36395: expected 7 fields, saw 8\\nSkipping line 36401: expected 7 fields, saw 8\\nSkipping line 36536: expected 7 fields, saw 8\\nSkipping line 36551: expected 7 fields, saw 8\\nSkipping line 36562: expected 7 fields, saw 8\\nSkipping line 36582: expected 7 fields, saw 8\\nSkipping line 36618: expected 7 fields, saw 8\\nSkipping line 36632: expected 7 fields, saw 8\\nSkipping line 36714: expected 7 fields, saw 8\\nSkipping line 36785: expected 7 fields, saw 8\\nSkipping line 36792: expected 7 fields, saw 8\\nSkipping line 36793: expected 7 fields, saw 8\\nSkipping line 36799: expected 7 fields, saw 8\\n'\n"
          ],
          "name": "stderr"
        }
      ]
    },
    {
      "cell_type": "code",
      "metadata": {
        "colab": {
          "base_uri": "https://localhost:8080/"
        },
        "id": "qPcCSx4405IO",
        "outputId": "c3661257-bd12-4b5e-e037-2a12e39bc21f"
      },
      "source": [
        "info = []\n",
        "\n",
        "for index in entities.iterrows(): \n",
        "  if index[0][0] == 'Disease::MESH:D010024':  # OsteoporosisD002318\n",
        "    print(\"yes\")\n",
        "    info.append(index)"
      ],
      "execution_count": 5,
      "outputs": [
        {
          "output_type": "stream",
          "text": [
            "yes\n"
          ],
          "name": "stdout"
        }
      ]
    },
    {
      "cell_type": "code",
      "metadata": {
        "colab": {
          "base_uri": "https://localhost:8080/"
        },
        "id": "-_ZpEHe60_oi",
        "outputId": "8215ad72-3b71-4f4e-85af-97d1aa14ec36"
      },
      "source": [
        "info"
      ],
      "execution_count": 6,
      "outputs": [
        {
          "output_type": "execute_result",
          "data": {
            "text/plain": [
              "[(('Disease::MESH:D010024',\n",
              "   '[Drugbank] https://www.drugbank.ca/atc',\n",
              "   '[Hetionet] Biomedical knowledge graph https://het.io/about/',\n",
              "   '[GNBR] Data extracted from biomedical texts see https://www.ncbi.nlm.nih.gov/pubmed/29490008/',\n",
              "   nan),\n",
              "  Gene::                                    NaN\n",
              "  [IntAct] https://www.ebi.ac.uk/intact/    NaN\n",
              "  Name: (Disease::MESH:D010024, [Drugbank] https://www.drugbank.ca/atc, [Hetionet] Biomedical knowledge graph https://het.io/about/, [GNBR] Data extracted from biomedical texts see https://www.ncbi.nlm.nih.gov/pubmed/29490008/, nan), dtype: object)]"
            ]
          },
          "metadata": {},
          "execution_count": 6
        }
      ]
    },
    {
      "cell_type": "code",
      "metadata": {
        "id": "ZYsiy1VI1EAd"
      },
      "source": [
        "info = []\n",
        "\n",
        "for index in entities.iterrows(): \n",
        "  if index[0][0] == 'Compound::D004074':  # Cardiovascular Diseases\n",
        "    print(\"yes\")\n",
        "    info.append(index)"
      ],
      "execution_count": 7,
      "outputs": []
    },
    {
      "cell_type": "code",
      "metadata": {
        "colab": {
          "base_uri": "https://localhost:8080/"
        },
        "id": "j284bzRV1Gh9",
        "outputId": "acf14a61-3383-4b22-802a-c0310d558200"
      },
      "source": [
        "info"
      ],
      "execution_count": 8,
      "outputs": [
        {
          "output_type": "execute_result",
          "data": {
            "text/plain": [
              "[]"
            ]
          },
          "metadata": {},
          "execution_count": 8
        }
      ]
    },
    {
      "cell_type": "code",
      "metadata": {
        "colab": {
          "base_uri": "https://localhost:8080/"
        },
        "id": "biYEXgoS1KPH",
        "outputId": "6bd7e3e8-5c21-41b2-daeb-b0a69934c5f1"
      },
      "source": [
        "info = []\n",
        "\n",
        "for index in entities.iterrows(): \n",
        "  if index[0][0] == 'Compound::DB13618':  # calcium\n",
        "    print(\"yes\")\n",
        "    info.append(index)"
      ],
      "execution_count": 9,
      "outputs": [
        {
          "output_type": "stream",
          "text": [
            "yes\n"
          ],
          "name": "stdout"
        }
      ]
    },
    {
      "cell_type": "code",
      "metadata": {
        "colab": {
          "base_uri": "https://localhost:8080/"
        },
        "id": "y1jolK514raI",
        "outputId": "cec9f71c-1ce0-4029-ba75-cc1ce6f56dcc"
      },
      "source": [
        "info"
      ],
      "execution_count": 22,
      "outputs": [
        {
          "output_type": "execute_result",
          "data": {
            "text/plain": [
              "[(('Compound::DB13618',\n",
              "   '[Drugbank] https://www.drugbank.ca/atc',\n",
              "   '[GNBR] Data extracted from biomedical texts see https://www.ncbi.nlm.nih.gov/pubmed/29490008/',\n",
              "   nan,\n",
              "   nan),\n",
              "  Gene::                                    NaN\n",
              "  [IntAct] https://www.ebi.ac.uk/intact/    NaN\n",
              "  Name: (Compound::DB13618, [Drugbank] https://www.drugbank.ca/atc, [GNBR] Data extracted from biomedical texts see https://www.ncbi.nlm.nih.gov/pubmed/29490008/, nan, nan), dtype: object)]"
            ]
          },
          "metadata": {},
          "execution_count": 22
        }
      ]
    },
    {
      "cell_type": "code",
      "metadata": {
        "id": "5U2GT-Of1Lc8"
      },
      "source": [
        "%%capture \n",
        "!pip install ampligraph; "
      ],
      "execution_count": 10,
      "outputs": []
    },
    {
      "cell_type": "code",
      "metadata": {
        "colab": {
          "base_uri": "https://localhost:8080/",
          "height": 52
        },
        "id": "mZ673CUQ1OtY",
        "outputId": "bb6048f4-ec3b-4b9c-c063-0ef3ee243d58"
      },
      "source": [
        "%tensorflow_version 1.x \n",
        "import numpy as np\n",
        "import pandas as pd\n",
        "import ampligraph\n",
        "\n",
        "ampligraph.__version__"
      ],
      "execution_count": 11,
      "outputs": [
        {
          "output_type": "stream",
          "text": [
            "TensorFlow 1.x selected.\n"
          ],
          "name": "stdout"
        },
        {
          "output_type": "execute_result",
          "data": {
            "application/vnd.google.colaboratory.intrinsic+json": {
              "type": "string"
            },
            "text/plain": [
              "'1.4.0'"
            ]
          },
          "metadata": {},
          "execution_count": 11
        }
      ]
    },
    {
      "cell_type": "code",
      "metadata": {
        "id": "qtTbiKoP1RVP"
      },
      "source": [
        "from ampligraph.latent_features import save_model, restore_model\n",
        "\n",
        "model = restore_model('drive/MyDrive/WBS/distmult_DRKG_2.pkl')"
      ],
      "execution_count": 12,
      "outputs": []
    },
    {
      "cell_type": "code",
      "metadata": {
        "colab": {
          "base_uri": "https://localhost:8080/"
        },
        "id": "Mg59hUuL1oV8",
        "outputId": "e221cddd-fc7f-4a44-a1f6-8785203bd11f"
      },
      "source": [
        "if model.is_fitted:\n",
        "    print('The model is fit!')\n",
        "else:\n",
        "    print('The model is not fit! Did you skip a step?')"
      ],
      "execution_count": 13,
      "outputs": [
        {
          "output_type": "stream",
          "text": [
            "The model is fit!\n"
          ],
          "name": "stdout"
        }
      ]
    },
    {
      "cell_type": "code",
      "metadata": {
        "id": "JXQSi3gn1tEo"
      },
      "source": [
        "X_unseen = np.array([\n",
        "    ['Compound::DB01373', 'Hetionet::CtD::Compound:Disease', 'Disease::MESH:D010024'],    # Calcium - osteoporosis\n",
        "    ['Compound::DB01373', 'Hetionet::CtD::Compound:Disease', 'Disease::MESH:D002318'],  # calcium - cardiovascular\n",
        "    ['Compound::DB01396', 'Hetionet::CtD::Compound:Disease', 'Disease::MESH:D010024'], # digitoxin - osteoporosis\n",
        "    ['Compound::DB01396', 'Hetionet::CtD::Compound:Disease', 'Disease::MESH:D002318'],  # digitoxin - cardiovascular\n",
        "    ['Compound::DB13618', 'Hetionet::CtD::Compound:Disease', 'Disease::MESH:D010024'],   #  ipriflavone  - osteoporosis\n",
        "    ['Compound::DB13618', 'Hetionet::CtD::Compound:Disease', 'Disease::MESH:D002318'],   #  ipriflavone - cardiovascular\n",
        "    ['Compound::DB01373', 'GNBR::T::Compound:Disease', 'Disease::MESH:D010024'],       # Calcium - osteoporosis\n",
        "    ['Compound::DB01373', 'GNBR::T::Compound:Disease', 'Disease::MESH:D002318'],     # calcium - cardiovascular\n",
        "    ['Compound::DB01396', 'GNBR::T::Compound:Disease', 'Disease::MESH:D010024'],   # digitoxin - osteoporosis\n",
        "    [\"Compound::DB01396\", 'GNBR::T::Compound:Disease', 'Disease::MESH:D002318'],   # digitoxin - cardiovascular\n",
        "    [\"Compound::DB13618\", 'GNBR::T::Compound:Disease', 'Disease::MESH:D010024'],    #  ipriflavone  - osteoporosis\n",
        "    [\"Compound::DB13618\", 'GNBR::T::Compound:Disease', 'Disease::MESH:D002318'],    #  ipriflavone - cardiovascular\n",
        "    [\"Compound::DB01610\", 'GNBR::T::Compound:Disease', 'Disease::SARS-CoV2 Spike']\n",
        "])"
      ],
      "execution_count": 14,
      "outputs": []
    },
    {
      "cell_type": "code",
      "metadata": {
        "id": "2nbBD0Cr9HO4"
      },
      "source": [
        "present_in_graph = []\n",
        "\n",
        "for el in X_unseen:\n",
        "  for row in relevant_rows: \n",
        "    if el[0] in str(row) and el[1] in str(row) and el[2] in str(row):\n",
        "      present_in_graph.append(el)"
      ],
      "execution_count": 42,
      "outputs": []
    },
    {
      "cell_type": "code",
      "metadata": {
        "colab": {
          "base_uri": "https://localhost:8080/"
        },
        "id": "sGsFjTfk_7Au",
        "outputId": "9dac8078-080c-4374-e964-29f4f2577125"
      },
      "source": [
        "present_in_graph"
      ],
      "execution_count": 43,
      "outputs": [
        {
          "output_type": "execute_result",
          "data": {
            "text/plain": [
              "[array(['Compound::DB01373', 'GNBR::T::Compound:Disease',\n",
              "        'Disease::MESH:D010024'], dtype='<U31'),\n",
              " array(['Compound::DB01396', 'GNBR::T::Compound:Disease',\n",
              "        'Disease::MESH:D002318'], dtype='<U31'),\n",
              " array(['Compound::DB13618', 'GNBR::T::Compound:Disease',\n",
              "        'Disease::MESH:D010024'], dtype='<U31')]"
            ]
          },
          "metadata": {},
          "execution_count": 43
        }
      ]
    },
    {
      "cell_type": "code",
      "metadata": {
        "id": "FsGaRk3NSuMa"
      },
      "source": [
        "X_unseen = np.array([\n",
        "    ['Compound::DB01373', 'Hetionet::CtD::Compound:Disease', 'Disease::MESH:D010024'],    # Calcium - osteoporosis\n",
        "    ['Compound::DB01373', 'Hetionet::CtD::Compound:Disease', 'Disease::MESH:D002318'],  # calcium - cardiovascular\n",
        "    ['Compound::DB01396', 'Hetionet::CtD::Compound:Disease', 'Disease::MESH:D010024'], # digitoxin - osteoporosis\n",
        "    ['Compound::DB01396', 'Hetionet::CtD::Compound:Disease', 'Disease::MESH:D002318'],  # digitoxin - cardiovascular\n",
        "    ['Compound::DB13618', 'Hetionet::CtD::Compound:Disease', 'Disease::MESH:D010024'],   #  ipriflavone  - osteoporosis\n",
        "    ['Compound::DB13618', 'Hetionet::CtD::Compound:Disease', 'Disease::MESH:D002318'],   #  ipriflavone - cardiovascular\n",
        "    [\"Compound::DB01610\", 'GNBR::T::Compound:Disease', 'Disease::SARS-CoV2 Spike']\n",
        "])"
      ],
      "execution_count": 44,
      "outputs": []
    },
    {
      "cell_type": "code",
      "metadata": {
        "id": "_zNxkHLL1uNO"
      },
      "source": [
        "import requests\n",
        "from ampligraph.datasets import load_from_csv\n",
        "\n",
        "X = load_from_csv('drive/MyDrive/WBS', 'drkg.tsv', sep='\\t')"
      ],
      "execution_count": 15,
      "outputs": []
    },
    {
      "cell_type": "code",
      "metadata": {
        "id": "hwKyCylG1x9M"
      },
      "source": [
        "positives_filter = X"
      ],
      "execution_count": 16,
      "outputs": []
    },
    {
      "cell_type": "code",
      "metadata": {
        "id": "WE7noAQo11Hn"
      },
      "source": [
        "unseen_filter = np.array(list({tuple(i) for i in np.vstack((positives_filter, X_unseen))}))"
      ],
      "execution_count": 45,
      "outputs": []
    },
    {
      "cell_type": "code",
      "metadata": {
        "colab": {
          "base_uri": "https://localhost:8080/"
        },
        "id": "6Tom5p6s13_D",
        "outputId": "cce14b6a-f342-488e-cd1f-5e75a5274a5a"
      },
      "source": [
        "len(positives_filter)"
      ],
      "execution_count": 46,
      "outputs": [
        {
          "output_type": "execute_result",
          "data": {
            "text/plain": [
              "5874258"
            ]
          },
          "metadata": {},
          "execution_count": 46
        }
      ]
    },
    {
      "cell_type": "code",
      "metadata": {
        "colab": {
          "base_uri": "https://localhost:8080/"
        },
        "id": "fctRvMfV1_Q8",
        "outputId": "d6fb9cf1-3fc2-4002-a65b-f6f575d3425f"
      },
      "source": [
        "len(unseen_filter)"
      ],
      "execution_count": 47,
      "outputs": [
        {
          "output_type": "execute_result",
          "data": {
            "text/plain": [
              "5874265"
            ]
          },
          "metadata": {},
          "execution_count": 47
        }
      ]
    },
    {
      "cell_type": "code",
      "metadata": {
        "colab": {
          "base_uri": "https://localhost:8080/"
        },
        "id": "HwiI90t_2Bpm",
        "outputId": "dc7dc1f5-88df-4762-a8b7-e8ce8ffce0ab"
      },
      "source": [
        "from ampligraph.evaluation import evaluate_performance\n",
        "\n",
        "ranks_unseen = evaluate_performance(\n",
        "    X_unseen, \n",
        "    model=model, \n",
        "    filter_triples=unseen_filter,   # Corruption strategy filter defined above \n",
        "    corrupt_side = 's+o',\n",
        "    use_default_protocol=False, # corrupt subj and obj separately while evaluating\n",
        "    verbose=True\n",
        ")"
      ],
      "execution_count": 48,
      "outputs": [
        {
          "output_type": "stream",
          "text": [
            "WARNING - You are attempting to use 97238 distinct entities to generate synthetic negatives in the evaluation\n",
            "    protocol. This may be unnecessary and will lead to a 'harder' task. Besides, it will lead to a much slower\n",
            "    evaluation procedure. We recommended to set the 'corruption_entities' argument to a reasonably sized set\n",
            "    of entities. The size of corruption_entities depends on your domain-specific task.\n"
          ],
          "name": "stdout"
        },
        {
          "output_type": "stream",
          "text": [
            "/usr/local/lib/python3.7/dist-packages/ampligraph/evaluation/protocol.py:952: UserWarning: You are attempting to use 97238 distinct entities to generate synthetic negatives in the evaluation\n",
            "    protocol. This may be unnecessary and will lead to a 'harder' task. Besides, it will lead to a much slower\n",
            "    evaluation procedure. We recommended to set the 'corruption_entities' argument to a reasonably sized set\n",
            "    of entities. The size of corruption_entities depends on your domain-specific task.\n",
            "  warnings.warn(warn_msg % ent_for_corruption_size)\n",
            "100%|██████████| 7/7 [00:00<00:00, 46.93it/s]\n"
          ],
          "name": "stderr"
        }
      ]
    },
    {
      "cell_type": "code",
      "metadata": {
        "id": "AJ4DPAHy2JWg"
      },
      "source": [
        "import numpy as np\n",
        "\n",
        "test = np.load('drive/MyDrive/WBS/test_data.npy', allow_pickle=True)"
      ],
      "execution_count": 49,
      "outputs": []
    },
    {
      "cell_type": "markdown",
      "metadata": {
        "id": "6p4WuY1a2L-I"
      },
      "source": [
        "# Results with no calibration"
      ]
    },
    {
      "cell_type": "code",
      "metadata": {
        "id": "NzKL1xPp4-A6"
      },
      "source": [
        "scores = model.predict(X_unseen)"
      ],
      "execution_count": 50,
      "outputs": []
    },
    {
      "cell_type": "code",
      "metadata": {
        "id": "EyqbJK7P5Aud"
      },
      "source": [
        "from scipy.special import expit\n",
        "probs = expit(scores)"
      ],
      "execution_count": 51,
      "outputs": []
    },
    {
      "cell_type": "code",
      "metadata": {
        "id": "HMF8O2CH5DSz"
      },
      "source": [
        "df = pd.DataFrame(list(zip([' '.join(x) for x in X_unseen], \n",
        "                      ranks_unseen, \n",
        "                      np.squeeze(scores),\n",
        "                      np.squeeze(probs))), \n",
        "             columns=['statement', 'rank', 'score', 'prob']).sort_values(\"score\")"
      ],
      "execution_count": 52,
      "outputs": []
    },
    {
      "cell_type": "code",
      "metadata": {
        "colab": {
          "base_uri": "https://localhost:8080/",
          "height": 265
        },
        "id": "hLp-Au8n5F7b",
        "outputId": "0485ab18-688f-469a-c6e3-ae98ffee3931"
      },
      "source": [
        "df"
      ],
      "execution_count": 53,
      "outputs": [
        {
          "output_type": "execute_result",
          "data": {
            "text/html": [
              "<div>\n",
              "<style scoped>\n",
              "    .dataframe tbody tr th:only-of-type {\n",
              "        vertical-align: middle;\n",
              "    }\n",
              "\n",
              "    .dataframe tbody tr th {\n",
              "        vertical-align: top;\n",
              "    }\n",
              "\n",
              "    .dataframe thead th {\n",
              "        text-align: right;\n",
              "    }\n",
              "</style>\n",
              "<table border=\"1\" class=\"dataframe\">\n",
              "  <thead>\n",
              "    <tr style=\"text-align: right;\">\n",
              "      <th></th>\n",
              "      <th>statement</th>\n",
              "      <th>rank</th>\n",
              "      <th>score</th>\n",
              "      <th>prob</th>\n",
              "    </tr>\n",
              "  </thead>\n",
              "  <tbody>\n",
              "    <tr>\n",
              "      <th>0</th>\n",
              "      <td>Compound::DB01373 Hetionet::CtD::Compound:Dise...</td>\n",
              "      <td>186254</td>\n",
              "      <td>-1.770101</td>\n",
              "      <td>0.145530</td>\n",
              "    </tr>\n",
              "    <tr>\n",
              "      <th>1</th>\n",
              "      <td>Compound::DB01373 Hetionet::CtD::Compound:Dise...</td>\n",
              "      <td>190983</td>\n",
              "      <td>-1.732704</td>\n",
              "      <td>0.150242</td>\n",
              "    </tr>\n",
              "    <tr>\n",
              "      <th>3</th>\n",
              "      <td>Compound::DB01396 Hetionet::CtD::Compound:Dise...</td>\n",
              "      <td>179461</td>\n",
              "      <td>-1.127072</td>\n",
              "      <td>0.244702</td>\n",
              "    </tr>\n",
              "    <tr>\n",
              "      <th>2</th>\n",
              "      <td>Compound::DB01396 Hetionet::CtD::Compound:Dise...</td>\n",
              "      <td>164438</td>\n",
              "      <td>-0.907342</td>\n",
              "      <td>0.287544</td>\n",
              "    </tr>\n",
              "    <tr>\n",
              "      <th>5</th>\n",
              "      <td>Compound::DB13618 Hetionet::CtD::Compound:Dise...</td>\n",
              "      <td>82672</td>\n",
              "      <td>0.218439</td>\n",
              "      <td>0.554394</td>\n",
              "    </tr>\n",
              "    <tr>\n",
              "      <th>6</th>\n",
              "      <td>Compound::DB01610 GNBR::T::Compound:Disease Di...</td>\n",
              "      <td>74693</td>\n",
              "      <td>0.348674</td>\n",
              "      <td>0.586296</td>\n",
              "    </tr>\n",
              "    <tr>\n",
              "      <th>4</th>\n",
              "      <td>Compound::DB13618 Hetionet::CtD::Compound:Dise...</td>\n",
              "      <td>33425</td>\n",
              "      <td>0.764024</td>\n",
              "      <td>0.682227</td>\n",
              "    </tr>\n",
              "  </tbody>\n",
              "</table>\n",
              "</div>"
            ],
            "text/plain": [
              "                                           statement  ...      prob\n",
              "0  Compound::DB01373 Hetionet::CtD::Compound:Dise...  ...  0.145530\n",
              "1  Compound::DB01373 Hetionet::CtD::Compound:Dise...  ...  0.150242\n",
              "3  Compound::DB01396 Hetionet::CtD::Compound:Dise...  ...  0.244702\n",
              "2  Compound::DB01396 Hetionet::CtD::Compound:Dise...  ...  0.287544\n",
              "5  Compound::DB13618 Hetionet::CtD::Compound:Dise...  ...  0.554394\n",
              "6  Compound::DB01610 GNBR::T::Compound:Disease Di...  ...  0.586296\n",
              "4  Compound::DB13618 Hetionet::CtD::Compound:Dise...  ...  0.682227\n",
              "\n",
              "[7 rows x 4 columns]"
            ]
          },
          "metadata": {},
          "execution_count": 53
        }
      ]
    },
    {
      "cell_type": "code",
      "metadata": {
        "colab": {
          "base_uri": "https://localhost:8080/"
        },
        "id": "9IWMaGVP5N48",
        "outputId": "a4371067-0293-4a45-ec5d-0d563edabc80"
      },
      "source": [
        "l = list(df['statement'])\n",
        "l"
      ],
      "execution_count": 54,
      "outputs": [
        {
          "output_type": "execute_result",
          "data": {
            "text/plain": [
              "['Compound::DB01373 Hetionet::CtD::Compound:Disease Disease::MESH:D010024',\n",
              " 'Compound::DB01373 Hetionet::CtD::Compound:Disease Disease::MESH:D002318',\n",
              " 'Compound::DB01396 Hetionet::CtD::Compound:Disease Disease::MESH:D002318',\n",
              " 'Compound::DB01396 Hetionet::CtD::Compound:Disease Disease::MESH:D010024',\n",
              " 'Compound::DB13618 Hetionet::CtD::Compound:Disease Disease::MESH:D002318',\n",
              " 'Compound::DB01610 GNBR::T::Compound:Disease Disease::SARS-CoV2 Spike',\n",
              " 'Compound::DB13618 Hetionet::CtD::Compound:Disease Disease::MESH:D010024']"
            ]
          },
          "metadata": {},
          "execution_count": 54
        }
      ]
    },
    {
      "cell_type": "markdown",
      "metadata": {
        "id": "1UPS9_Ox5VLg"
      },
      "source": [
        "# Results with calibration"
      ]
    },
    {
      "cell_type": "code",
      "metadata": {
        "colab": {
          "base_uri": "https://localhost:8080/"
        },
        "id": "9T8WtLEf5Vs3",
        "outputId": "9b1005a0-da5c-4631-9a31-d9435e9367bf"
      },
      "source": [
        "# Calibrate with just positives and base rate of 50%\n",
        "\n",
        "model.calibrate(test, positive_base_rate=0.5)\n",
        "probas_pos = model.predict_proba(X_unseen)"
      ],
      "execution_count": 55,
      "outputs": [
        {
          "output_type": "stream",
          "text": [
            "Calibration Loss:   0.114083: 100%|██████████| 50/50 [00:12<00:00,  3.96epoch/s]\n"
          ],
          "name": "stderr"
        }
      ]
    },
    {
      "cell_type": "code",
      "metadata": {
        "id": "niVtXPQD5Ybb"
      },
      "source": [
        "df_2 = pd.DataFrame(list(zip([' '.join(x) for x in X_unseen], \n",
        "                      ranks_unseen, \n",
        "                      np.squeeze(scores),\n",
        "                      np.squeeze(probas_pos))), \n",
        "             columns=['statement', 'rank', 'score', 'prob']).sort_values(\"score\")"
      ],
      "execution_count": 56,
      "outputs": []
    },
    {
      "cell_type": "code",
      "metadata": {
        "colab": {
          "base_uri": "https://localhost:8080/",
          "height": 265
        },
        "id": "EQetM2Tn5bDf",
        "outputId": "3ab9e7f9-3feb-4b84-8a56-ccd06901365a"
      },
      "source": [
        "df_2"
      ],
      "execution_count": 57,
      "outputs": [
        {
          "output_type": "execute_result",
          "data": {
            "text/html": [
              "<div>\n",
              "<style scoped>\n",
              "    .dataframe tbody tr th:only-of-type {\n",
              "        vertical-align: middle;\n",
              "    }\n",
              "\n",
              "    .dataframe tbody tr th {\n",
              "        vertical-align: top;\n",
              "    }\n",
              "\n",
              "    .dataframe thead th {\n",
              "        text-align: right;\n",
              "    }\n",
              "</style>\n",
              "<table border=\"1\" class=\"dataframe\">\n",
              "  <thead>\n",
              "    <tr style=\"text-align: right;\">\n",
              "      <th></th>\n",
              "      <th>statement</th>\n",
              "      <th>rank</th>\n",
              "      <th>score</th>\n",
              "      <th>prob</th>\n",
              "    </tr>\n",
              "  </thead>\n",
              "  <tbody>\n",
              "    <tr>\n",
              "      <th>0</th>\n",
              "      <td>Compound::DB01373 Hetionet::CtD::Compound:Dise...</td>\n",
              "      <td>186254</td>\n",
              "      <td>-1.770101</td>\n",
              "      <td>0.014599</td>\n",
              "    </tr>\n",
              "    <tr>\n",
              "      <th>1</th>\n",
              "      <td>Compound::DB01373 Hetionet::CtD::Compound:Dise...</td>\n",
              "      <td>190983</td>\n",
              "      <td>-1.732704</td>\n",
              "      <td>0.014892</td>\n",
              "    </tr>\n",
              "    <tr>\n",
              "      <th>3</th>\n",
              "      <td>Compound::DB01396 Hetionet::CtD::Compound:Dise...</td>\n",
              "      <td>179461</td>\n",
              "      <td>-1.127072</td>\n",
              "      <td>0.020529</td>\n",
              "    </tr>\n",
              "    <tr>\n",
              "      <th>2</th>\n",
              "      <td>Compound::DB01396 Hetionet::CtD::Compound:Dise...</td>\n",
              "      <td>164438</td>\n",
              "      <td>-0.907342</td>\n",
              "      <td>0.023053</td>\n",
              "    </tr>\n",
              "    <tr>\n",
              "      <th>5</th>\n",
              "      <td>Compound::DB13618 Hetionet::CtD::Compound:Dise...</td>\n",
              "      <td>82672</td>\n",
              "      <td>0.218439</td>\n",
              "      <td>0.041514</td>\n",
              "    </tr>\n",
              "    <tr>\n",
              "      <th>6</th>\n",
              "      <td>Compound::DB01610 GNBR::T::Compound:Disease Di...</td>\n",
              "      <td>74693</td>\n",
              "      <td>0.348674</td>\n",
              "      <td>0.044401</td>\n",
              "    </tr>\n",
              "    <tr>\n",
              "      <th>4</th>\n",
              "      <td>Compound::DB13618 Hetionet::CtD::Compound:Dise...</td>\n",
              "      <td>33425</td>\n",
              "      <td>0.764024</td>\n",
              "      <td>0.054941</td>\n",
              "    </tr>\n",
              "  </tbody>\n",
              "</table>\n",
              "</div>"
            ],
            "text/plain": [
              "                                           statement  ...      prob\n",
              "0  Compound::DB01373 Hetionet::CtD::Compound:Dise...  ...  0.014599\n",
              "1  Compound::DB01373 Hetionet::CtD::Compound:Dise...  ...  0.014892\n",
              "3  Compound::DB01396 Hetionet::CtD::Compound:Dise...  ...  0.020529\n",
              "2  Compound::DB01396 Hetionet::CtD::Compound:Dise...  ...  0.023053\n",
              "5  Compound::DB13618 Hetionet::CtD::Compound:Dise...  ...  0.041514\n",
              "6  Compound::DB01610 GNBR::T::Compound:Disease Di...  ...  0.044401\n",
              "4  Compound::DB13618 Hetionet::CtD::Compound:Dise...  ...  0.054941\n",
              "\n",
              "[7 rows x 4 columns]"
            ]
          },
          "metadata": {},
          "execution_count": 57
        }
      ]
    },
    {
      "cell_type": "code",
      "metadata": {
        "colab": {
          "base_uri": "https://localhost:8080/"
        },
        "id": "y050dWgm5qb5",
        "outputId": "ca4c4280-9e15-46bb-cbf7-112b088b5b37"
      },
      "source": [
        "l = list(df_2['statement'])\n",
        "l"
      ],
      "execution_count": 58,
      "outputs": [
        {
          "output_type": "execute_result",
          "data": {
            "text/plain": [
              "['Compound::DB01373 Hetionet::CtD::Compound:Disease Disease::MESH:D010024',\n",
              " 'Compound::DB01373 Hetionet::CtD::Compound:Disease Disease::MESH:D002318',\n",
              " 'Compound::DB01396 Hetionet::CtD::Compound:Disease Disease::MESH:D002318',\n",
              " 'Compound::DB01396 Hetionet::CtD::Compound:Disease Disease::MESH:D010024',\n",
              " 'Compound::DB13618 Hetionet::CtD::Compound:Disease Disease::MESH:D002318',\n",
              " 'Compound::DB01610 GNBR::T::Compound:Disease Disease::SARS-CoV2 Spike',\n",
              " 'Compound::DB13618 Hetionet::CtD::Compound:Disease Disease::MESH:D010024']"
            ]
          },
          "metadata": {},
          "execution_count": 58
        }
      ]
    }
  ]
}