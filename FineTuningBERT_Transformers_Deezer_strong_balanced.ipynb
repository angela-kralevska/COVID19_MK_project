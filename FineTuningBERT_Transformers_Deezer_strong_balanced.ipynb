{
  "nbformat": 4,
  "nbformat_minor": 0,
  "metadata": {
    "colab": {
      "name": "FineTuningBERT_Transformers_Deezer_strong_balanced.ipynb",
      "provenance": [],
      "collapsed_sections": [],
      "machine_shape": "hm",
      "include_colab_link": true
    },
    "kernelspec": {
      "name": "python3",
      "display_name": "Python 3"
    },
    "accelerator": "GPU"
  },
  "cells": [
    {
      "cell_type": "markdown",
      "metadata": {
        "id": "view-in-github",
        "colab_type": "text"
      },
      "source": [
        "<a href=\"https://colab.research.google.com/github/angela-kralevska/COVID19_MK_project/blob/master/FineTuningBERT_Transformers_Deezer_strong_balanced.ipynb\" target=\"_parent\"><img src=\"https://colab.research.google.com/assets/colab-badge.svg\" alt=\"Open In Colab\"/></a>"
      ]
    },
    {
      "cell_type": "markdown",
      "metadata": {
        "id": "x7S4OcJit4-E"
      },
      "source": [
        "# Loading the dataset Deezer strong balanced"
      ]
    },
    {
      "cell_type": "code",
      "metadata": {
        "colab": {
          "base_uri": "https://localhost:8080/"
        },
        "id": "sz-WhXsfMkZL",
        "outputId": "1b548bc8-c967-47dc-e42e-89e8f9a46502"
      },
      "source": [
        "from google.colab import drive\n",
        "drive.mount('/content/drive')"
      ],
      "execution_count": null,
      "outputs": [
        {
          "output_type": "stream",
          "text": [
            "Drive already mounted at /content/drive; to attempt to forcibly remount, call drive.mount(\"/content/drive\", force_remount=True).\n"
          ],
          "name": "stdout"
        }
      ]
    },
    {
      "cell_type": "code",
      "metadata": {
        "colab": {
          "base_uri": "https://localhost:8080/",
          "height": 220
        },
        "id": "VFf6RqIvMl4u",
        "outputId": "7c4f4ded-364c-4e66-bc64-b875293fa4ff"
      },
      "source": [
        "import pandas as pd\n",
        "\n",
        "dataset_ml = pd.read_csv('drive/My Drive/MER_NLP/deezer_strong_balanced.csv')\n",
        "del dataset_ml['Unnamed: 0']\n",
        "\n",
        "print(dataset_ml.shape)\n",
        "dataset_ml.head()"
      ],
      "execution_count": null,
      "outputs": [
        {
          "output_type": "stream",
          "text": [
            "(2760, 9)\n"
          ],
          "name": "stdout"
        },
        {
          "output_type": "execute_result",
          "data": {
            "text/html": [
              "<div>\n",
              "<style scoped>\n",
              "    .dataframe tbody tr th:only-of-type {\n",
              "        vertical-align: middle;\n",
              "    }\n",
              "\n",
              "    .dataframe tbody tr th {\n",
              "        vertical-align: top;\n",
              "    }\n",
              "\n",
              "    .dataframe thead th {\n",
              "        text-align: right;\n",
              "    }\n",
              "</style>\n",
              "<table border=\"1\" class=\"dataframe\">\n",
              "  <thead>\n",
              "    <tr style=\"text-align: right;\">\n",
              "      <th></th>\n",
              "      <th>dzr_sng_id</th>\n",
              "      <th>MSD_sng_id</th>\n",
              "      <th>MSD_track_id</th>\n",
              "      <th>valence</th>\n",
              "      <th>arousal</th>\n",
              "      <th>artist_name</th>\n",
              "      <th>track_name</th>\n",
              "      <th>Lyrics</th>\n",
              "      <th>strong_mood</th>\n",
              "    </tr>\n",
              "  </thead>\n",
              "  <tbody>\n",
              "    <tr>\n",
              "      <th>0</th>\n",
              "      <td>534268</td>\n",
              "      <td>SODNNXL12A58A7B9BC</td>\n",
              "      <td>TRUDSEY128F425AC3C</td>\n",
              "      <td>1.071901</td>\n",
              "      <td>0.846830</td>\n",
              "      <td>Marilyn Horne</td>\n",
              "      <td>All Through the Night</td>\n",
              "      <td>I want a woman like Marilyn Monroe The kind of...</td>\n",
              "      <td>happy</td>\n",
              "    </tr>\n",
              "    <tr>\n",
              "      <th>1</th>\n",
              "      <td>534847</td>\n",
              "      <td>SOVMVFH12AB0184F26</td>\n",
              "      <td>TRFBNQX128F92E3A87</td>\n",
              "      <td>0.682591</td>\n",
              "      <td>0.754644</td>\n",
              "      <td>Daughtry</td>\n",
              "      <td>Crashed</td>\n",
              "      <td>Well, I was moving at the speed of sound Head-...</td>\n",
              "      <td>happy</td>\n",
              "    </tr>\n",
              "    <tr>\n",
              "      <th>2</th>\n",
              "      <td>535204</td>\n",
              "      <td>SOXOFZV12A8AE473FB</td>\n",
              "      <td>TRQGUZM128F425B7F6</td>\n",
              "      <td>1.178325</td>\n",
              "      <td>1.183311</td>\n",
              "      <td>The Hoosiers</td>\n",
              "      <td>Worried About Ray</td>\n",
              "      <td>Truth be told, the truth be told I'm worried w...</td>\n",
              "      <td>happy</td>\n",
              "    </tr>\n",
              "    <tr>\n",
              "      <th>3</th>\n",
              "      <td>536164</td>\n",
              "      <td>SOHEUAX12AB018744C</td>\n",
              "      <td>TRRKNMB12903CC6B7E</td>\n",
              "      <td>1.071901</td>\n",
              "      <td>0.846830</td>\n",
              "      <td>Tina Arena</td>\n",
              "      <td>I Want To Know What Love Is</td>\n",
              "      <td>Gotta take a little time A little time to thin...</td>\n",
              "      <td>happy</td>\n",
              "    </tr>\n",
              "    <tr>\n",
              "      <th>4</th>\n",
              "      <td>538694</td>\n",
              "      <td>SOEDNXV12A8AE47B16</td>\n",
              "      <td>TRFXWUO128F425EAB3</td>\n",
              "      <td>1.071901</td>\n",
              "      <td>0.846830</td>\n",
              "      <td>Westlife</td>\n",
              "      <td>I'm Already There</td>\n",
              "      <td>He called her on the road From a lonely cold h...</td>\n",
              "      <td>happy</td>\n",
              "    </tr>\n",
              "  </tbody>\n",
              "</table>\n",
              "</div>"
            ],
            "text/plain": [
              "   dzr_sng_id  ... strong_mood\n",
              "0      534268  ...       happy\n",
              "1      534847  ...       happy\n",
              "2      535204  ...       happy\n",
              "3      536164  ...       happy\n",
              "4      538694  ...       happy\n",
              "\n",
              "[5 rows x 9 columns]"
            ]
          },
          "metadata": {
            "tags": []
          },
          "execution_count": 2
        }
      ]
    },
    {
      "cell_type": "code",
      "metadata": {
        "id": "o6EfWLCGNa2H"
      },
      "source": [
        "from sklearn.model_selection import train_test_split\n",
        "\n",
        "dataset_ml['strong_mood'] = dataset_ml['strong_mood'].replace({'relaxed':0, 'happy':1, 'angry':2, 'sad':3})\n",
        "X = dataset_ml['Lyrics']\n",
        "y = dataset_ml['strong_mood']\n",
        "X_train, X_test, y_train, y_test = train_test_split(X, y, test_size=0.25, random_state = 42)"
      ],
      "execution_count": null,
      "outputs": []
    },
    {
      "cell_type": "code",
      "metadata": {
        "id": "exzrRdzfNvEM"
      },
      "source": [
        "from tensorflow.keras.preprocessing.text import Tokenizer\n",
        "\n",
        "tokenizer = Tokenizer(num_words=None)\n",
        "tokenizer.fit_on_texts(dataset_ml['Lyrics'])"
      ],
      "execution_count": null,
      "outputs": []
    },
    {
      "cell_type": "code",
      "metadata": {
        "colab": {
          "base_uri": "https://localhost:8080/"
        },
        "id": "dn4vKJkUNwKp",
        "outputId": "f1b588f0-a452-4b2f-c67d-6f16f345df56"
      },
      "source": [
        "import numpy as np\n",
        "\n",
        "num_words = len(tokenizer.word_index)\n",
        "tokens = tokenizer.texts_to_sequences(dataset_ml['Lyrics'])\n",
        "num_t = [len(t) for t in tokens]\n",
        "num_t = np.array(num_t)\n",
        "avg = np.mean(num_t)\n",
        "avg"
      ],
      "execution_count": null,
      "outputs": [
        {
          "output_type": "execute_result",
          "data": {
            "text/plain": [
              "561.6641304347826"
            ]
          },
          "metadata": {
            "tags": []
          },
          "execution_count": 5
        }
      ]
    },
    {
      "cell_type": "markdown",
      "metadata": {
        "id": "4MVEDAS_t_oH"
      },
      "source": [
        "# Setting up the environment for HF transformers"
      ]
    },
    {
      "cell_type": "code",
      "metadata": {
        "colab": {
          "base_uri": "https://localhost:8080/"
        },
        "id": "262Td2bPGm8L",
        "outputId": "c0bfb598-84bc-4753-b9f4-a792e50d6429"
      },
      "source": [
        "!pip install transformers"
      ],
      "execution_count": null,
      "outputs": [
        {
          "output_type": "stream",
          "text": [
            "Requirement already satisfied: transformers in /usr/local/lib/python3.7/dist-packages (4.8.2)\n",
            "Requirement already satisfied: huggingface-hub==0.0.12 in /usr/local/lib/python3.7/dist-packages (from transformers) (0.0.12)\n",
            "Requirement already satisfied: importlib-metadata in /usr/local/lib/python3.7/dist-packages (from transformers) (4.6.1)\n",
            "Requirement already satisfied: requests in /usr/local/lib/python3.7/dist-packages (from transformers) (2.23.0)\n",
            "Requirement already satisfied: packaging in /usr/local/lib/python3.7/dist-packages (from transformers) (21.0)\n",
            "Requirement already satisfied: tokenizers<0.11,>=0.10.1 in /usr/local/lib/python3.7/dist-packages (from transformers) (0.10.3)\n",
            "Requirement already satisfied: regex!=2019.12.17 in /usr/local/lib/python3.7/dist-packages (from transformers) (2019.12.20)\n",
            "Requirement already satisfied: tqdm>=4.27 in /usr/local/lib/python3.7/dist-packages (from transformers) (4.41.1)\n",
            "Requirement already satisfied: filelock in /usr/local/lib/python3.7/dist-packages (from transformers) (3.0.12)\n",
            "Requirement already satisfied: sacremoses in /usr/local/lib/python3.7/dist-packages (from transformers) (0.0.45)\n",
            "Requirement already satisfied: numpy>=1.17 in /usr/local/lib/python3.7/dist-packages (from transformers) (1.19.5)\n",
            "Requirement already satisfied: pyyaml in /usr/local/lib/python3.7/dist-packages (from transformers) (3.13)\n",
            "Requirement already satisfied: typing-extensions in /usr/local/lib/python3.7/dist-packages (from huggingface-hub==0.0.12->transformers) (3.7.4.3)\n",
            "Requirement already satisfied: pyparsing>=2.0.2 in /usr/local/lib/python3.7/dist-packages (from packaging->transformers) (2.4.7)\n",
            "Requirement already satisfied: zipp>=0.5 in /usr/local/lib/python3.7/dist-packages (from importlib-metadata->transformers) (3.5.0)\n",
            "Requirement already satisfied: chardet<4,>=3.0.2 in /usr/local/lib/python3.7/dist-packages (from requests->transformers) (3.0.4)\n",
            "Requirement already satisfied: idna<3,>=2.5 in /usr/local/lib/python3.7/dist-packages (from requests->transformers) (2.10)\n",
            "Requirement already satisfied: urllib3!=1.25.0,!=1.25.1,<1.26,>=1.21.1 in /usr/local/lib/python3.7/dist-packages (from requests->transformers) (1.24.3)\n",
            "Requirement already satisfied: certifi>=2017.4.17 in /usr/local/lib/python3.7/dist-packages (from requests->transformers) (2021.5.30)\n",
            "Requirement already satisfied: joblib in /usr/local/lib/python3.7/dist-packages (from sacremoses->transformers) (1.0.1)\n",
            "Requirement already satisfied: click in /usr/local/lib/python3.7/dist-packages (from sacremoses->transformers) (7.1.2)\n",
            "Requirement already satisfied: six in /usr/local/lib/python3.7/dist-packages (from sacremoses->transformers) (1.15.0)\n"
          ],
          "name": "stdout"
        }
      ]
    },
    {
      "cell_type": "code",
      "metadata": {
        "id": "OwAkTJcAJnkG"
      },
      "source": [
        "import torch\n",
        "from transformers.file_utils import is_tf_available, is_torch_available, is_torch_tpu_available\n",
        "from transformers import BertTokenizerFast, BertForSequenceClassification\n",
        "from transformers import Trainer, TrainingArguments\n",
        "import numpy as np\n",
        "import random\n",
        "from sklearn.model_selection import train_test_split"
      ],
      "execution_count": null,
      "outputs": []
    },
    {
      "cell_type": "code",
      "metadata": {
        "id": "sFv-FiYtKuuf"
      },
      "source": [
        "def set_seed(seed: int):\n",
        "    \"\"\"\n",
        "    Helper function for reproducible behavior to set the seed in ``random``, ``numpy``, ``torch`` and/or ``tf`` (if\n",
        "    installed).\n",
        " \n",
        "    Args:\n",
        "        seed (:obj:`int`): The seed to set.\n",
        "    \"\"\"\n",
        "    random.seed(seed)\n",
        "    np.random.seed(seed)\n",
        "    if is_torch_available():\n",
        "        torch.manual_seed(seed)\n",
        "        torch.cuda.manual_seed_all(seed)\n",
        "        # ^^ safe to call this function even if cuda is not available\n",
        "    if is_tf_available():\n",
        "        import tensorflow as tf\n",
        " \n",
        "        tf.random.set_seed(seed)\n",
        " \n",
        "set_seed(1)"
      ],
      "execution_count": null,
      "outputs": []
    },
    {
      "cell_type": "code",
      "metadata": {
        "id": "gDRivaE1KYWA"
      },
      "source": [
        "# the model we gonna train, base uncased BERT\n",
        "model_name = \"bert-base-uncased\"\n",
        "# max sequence length for each document/sentence sample\n",
        "max_length = 512"
      ],
      "execution_count": null,
      "outputs": []
    },
    {
      "cell_type": "code",
      "metadata": {
        "id": "HWtlkkVKXHc0"
      },
      "source": [
        "# load the tokenizer\n",
        "tokenizer = BertTokenizerFast.from_pretrained(model_name, do_lower_case=True)"
      ],
      "execution_count": null,
      "outputs": []
    },
    {
      "cell_type": "code",
      "metadata": {
        "id": "aSanWgrgXhbG"
      },
      "source": [
        "from sklearn.model_selection import train_test_split\n",
        "\n",
        "X = list(X)\n",
        "y = list(y)\n",
        "(train_texts, valid_texts, train_labels, valid_labels) = train_test_split(X, y, test_size=0.25)"
      ],
      "execution_count": null,
      "outputs": []
    },
    {
      "cell_type": "code",
      "metadata": {
        "id": "E_r0ECJaXO-y"
      },
      "source": [
        "# tokenize the dataset, truncate when passed `max_length`, \n",
        "# and pad with 0's when less than `max_length`\n",
        "train_encodings = tokenizer(train_texts, truncation=True, padding=True, max_length=max_length)\n",
        "valid_encodings = tokenizer(valid_texts, truncation=True, padding=True, max_length=max_length)"
      ],
      "execution_count": null,
      "outputs": []
    },
    {
      "cell_type": "code",
      "metadata": {
        "id": "7riiOpJiXdTd"
      },
      "source": [
        "class DeezerDataset(torch.utils.data.Dataset):\n",
        "    def __init__(self, encodings, labels):\n",
        "        self.encodings = encodings\n",
        "        self.labels = labels\n",
        "\n",
        "    def __getitem__(self, idx):\n",
        "        item = {k: torch.tensor(v[idx]) for k, v in self.encodings.items()}\n",
        "        item[\"labels\"] = torch.tensor([self.labels[idx]])\n",
        "        return item\n",
        "\n",
        "    def __len__(self):\n",
        "        return len(self.labels)\n",
        "\n",
        "# convert our tokenized data into a torch Dataset\n",
        "train_dataset = DeezerDataset(train_encodings, train_labels)\n",
        "valid_dataset = DeezerDataset(valid_encodings, valid_labels)"
      ],
      "execution_count": null,
      "outputs": []
    },
    {
      "cell_type": "code",
      "metadata": {
        "colab": {
          "base_uri": "https://localhost:8080/"
        },
        "id": "I4aAwDGZXnyk",
        "outputId": "a7fdc5a8-c122-4823-ea6a-23786e97711b"
      },
      "source": [
        "# load the model and pass to CUDA\n",
        "model = BertForSequenceClassification.from_pretrained(model_name, num_labels=4).to(\"cuda\")"
      ],
      "execution_count": null,
      "outputs": [
        {
          "output_type": "stream",
          "text": [
            "Some weights of the model checkpoint at bert-base-uncased were not used when initializing BertForSequenceClassification: ['cls.predictions.transform.LayerNorm.bias', 'cls.predictions.transform.dense.bias', 'cls.predictions.transform.dense.weight', 'cls.seq_relationship.weight', 'cls.seq_relationship.bias', 'cls.predictions.transform.LayerNorm.weight', 'cls.predictions.decoder.weight', 'cls.predictions.bias']\n",
            "- This IS expected if you are initializing BertForSequenceClassification from the checkpoint of a model trained on another task or with another architecture (e.g. initializing a BertForSequenceClassification model from a BertForPreTraining model).\n",
            "- This IS NOT expected if you are initializing BertForSequenceClassification from the checkpoint of a model that you expect to be exactly identical (initializing a BertForSequenceClassification model from a BertForSequenceClassification model).\n",
            "Some weights of BertForSequenceClassification were not initialized from the model checkpoint at bert-base-uncased and are newly initialized: ['classifier.weight', 'classifier.bias']\n",
            "You should probably TRAIN this model on a down-stream task to be able to use it for predictions and inference.\n"
          ],
          "name": "stderr"
        }
      ]
    },
    {
      "cell_type": "code",
      "metadata": {
        "id": "AkZN1X-zOoe0"
      },
      "source": [
        "from sklearn.metrics import accuracy_score, precision_score, recall_score\n",
        "\n",
        "def compute_metrics(pred):\n",
        "  labels = pred.label_ids\n",
        "  preds = pred.predictions.argmax(-1)\n",
        "  # calculate accuracy using sklearn's function\n",
        "  acc = accuracy_score(labels, preds)\n",
        "  prec = precision_score(labels, preds, average='weighted')\n",
        "  rec = recall_score(labels, preds, average='weighted')\n",
        "  return {\n",
        "      'accuracy': acc,\n",
        "      'precision': prec,\n",
        "      'recall': rec\n",
        "  }"
      ],
      "execution_count": null,
      "outputs": []
    },
    {
      "cell_type": "code",
      "metadata": {
        "id": "MjMB9f01Pyiu"
      },
      "source": [
        "training_args = TrainingArguments(\n",
        "    output_dir='./results',          # output directory\n",
        "    num_train_epochs=3,              # total number of training epochs\n",
        "    per_device_train_batch_size=8,  # batch size per device during training\n",
        "    per_device_eval_batch_size=4,   # batch size for evaluation\n",
        "    warmup_steps=100,                # number of warmup steps for learning rate scheduler\n",
        "    weight_decay=0.01,               # strength of weight decay\n",
        "    logging_dir='./logs',            # directory for storing logs\n",
        "    load_best_model_at_end=True,     # load the best model when finished training (default metric is loss)\n",
        "    logging_steps=50,               # log & save weights each logging_steps\n",
        "    evaluation_strategy=\"steps\",     # evaluate each `logging_steps`\n",
        ")"
      ],
      "execution_count": null,
      "outputs": []
    },
    {
      "cell_type": "code",
      "metadata": {
        "id": "BukYQXs2P35S"
      },
      "source": [
        "trainer = Trainer(\n",
        "    model=model,                         # the instantiated Transformers model to be trained\n",
        "    args=training_args,                  # training arguments, defined above\n",
        "    train_dataset=train_dataset,         # training dataset\n",
        "    eval_dataset=valid_dataset,          # evaluation dataset\n",
        "    compute_metrics=compute_metrics,     # the callback that computes metrics of interest\n",
        ")"
      ],
      "execution_count": null,
      "outputs": []
    },
    {
      "cell_type": "code",
      "metadata": {
        "colab": {
          "base_uri": "https://localhost:8080/",
          "height": 1000
        },
        "id": "s5a7QY_wP5iD",
        "outputId": "45ca4d65-65bf-4785-9474-9526a3613dba"
      },
      "source": [
        "# train the model\n",
        "trainer.train()"
      ],
      "execution_count": null,
      "outputs": [
        {
          "output_type": "stream",
          "text": [
            "***** Running training *****\n",
            "  Num examples = 2070\n",
            "  Num Epochs = 3\n",
            "  Instantaneous batch size per device = 8\n",
            "  Total train batch size (w. parallel, distributed & accumulation) = 8\n",
            "  Gradient Accumulation steps = 1\n",
            "  Total optimization steps = 777\n"
          ],
          "name": "stderr"
        },
        {
          "output_type": "display_data",
          "data": {
            "text/html": [
              "\n",
              "    <div>\n",
              "      \n",
              "      <progress value='777' max='777' style='width:300px; height:20px; vertical-align: middle;'></progress>\n",
              "      [777/777 18:34, Epoch 3/3]\n",
              "    </div>\n",
              "    <table border=\"1\" class=\"dataframe\">\n",
              "  <thead>\n",
              "    <tr style=\"text-align: left;\">\n",
              "      <th>Step</th>\n",
              "      <th>Training Loss</th>\n",
              "      <th>Validation Loss</th>\n",
              "      <th>Accuracy</th>\n",
              "      <th>Precision</th>\n",
              "      <th>Recall</th>\n",
              "    </tr>\n",
              "  </thead>\n",
              "  <tbody>\n",
              "    <tr>\n",
              "      <td>50</td>\n",
              "      <td>1.446100</td>\n",
              "      <td>1.417763</td>\n",
              "      <td>0.297101</td>\n",
              "      <td>0.396420</td>\n",
              "      <td>0.297101</td>\n",
              "    </tr>\n",
              "    <tr>\n",
              "      <td>100</td>\n",
              "      <td>1.382100</td>\n",
              "      <td>1.398499</td>\n",
              "      <td>0.240580</td>\n",
              "      <td>0.184315</td>\n",
              "      <td>0.240580</td>\n",
              "    </tr>\n",
              "    <tr>\n",
              "      <td>150</td>\n",
              "      <td>1.381000</td>\n",
              "      <td>1.307236</td>\n",
              "      <td>0.372464</td>\n",
              "      <td>0.304718</td>\n",
              "      <td>0.372464</td>\n",
              "    </tr>\n",
              "    <tr>\n",
              "      <td>200</td>\n",
              "      <td>1.370000</td>\n",
              "      <td>1.305035</td>\n",
              "      <td>0.352174</td>\n",
              "      <td>0.356413</td>\n",
              "      <td>0.352174</td>\n",
              "    </tr>\n",
              "    <tr>\n",
              "      <td>250</td>\n",
              "      <td>1.329300</td>\n",
              "      <td>1.299689</td>\n",
              "      <td>0.368116</td>\n",
              "      <td>0.387927</td>\n",
              "      <td>0.368116</td>\n",
              "    </tr>\n",
              "    <tr>\n",
              "      <td>300</td>\n",
              "      <td>1.263500</td>\n",
              "      <td>1.263886</td>\n",
              "      <td>0.420290</td>\n",
              "      <td>0.489848</td>\n",
              "      <td>0.420290</td>\n",
              "    </tr>\n",
              "    <tr>\n",
              "      <td>350</td>\n",
              "      <td>1.189700</td>\n",
              "      <td>1.267147</td>\n",
              "      <td>0.420290</td>\n",
              "      <td>0.432230</td>\n",
              "      <td>0.420290</td>\n",
              "    </tr>\n",
              "    <tr>\n",
              "      <td>400</td>\n",
              "      <td>1.213300</td>\n",
              "      <td>1.235031</td>\n",
              "      <td>0.459420</td>\n",
              "      <td>0.487017</td>\n",
              "      <td>0.459420</td>\n",
              "    </tr>\n",
              "    <tr>\n",
              "      <td>450</td>\n",
              "      <td>1.209500</td>\n",
              "      <td>1.245520</td>\n",
              "      <td>0.473913</td>\n",
              "      <td>0.474763</td>\n",
              "      <td>0.473913</td>\n",
              "    </tr>\n",
              "    <tr>\n",
              "      <td>500</td>\n",
              "      <td>1.169700</td>\n",
              "      <td>1.236288</td>\n",
              "      <td>0.447826</td>\n",
              "      <td>0.484697</td>\n",
              "      <td>0.447826</td>\n",
              "    </tr>\n",
              "    <tr>\n",
              "      <td>550</td>\n",
              "      <td>1.016200</td>\n",
              "      <td>1.321451</td>\n",
              "      <td>0.473913</td>\n",
              "      <td>0.517314</td>\n",
              "      <td>0.473913</td>\n",
              "    </tr>\n",
              "    <tr>\n",
              "      <td>600</td>\n",
              "      <td>0.919500</td>\n",
              "      <td>1.298383</td>\n",
              "      <td>0.463768</td>\n",
              "      <td>0.506349</td>\n",
              "      <td>0.463768</td>\n",
              "    </tr>\n",
              "    <tr>\n",
              "      <td>650</td>\n",
              "      <td>0.913900</td>\n",
              "      <td>1.298747</td>\n",
              "      <td>0.473913</td>\n",
              "      <td>0.500241</td>\n",
              "      <td>0.473913</td>\n",
              "    </tr>\n",
              "    <tr>\n",
              "      <td>700</td>\n",
              "      <td>0.791200</td>\n",
              "      <td>1.307742</td>\n",
              "      <td>0.478261</td>\n",
              "      <td>0.503862</td>\n",
              "      <td>0.478261</td>\n",
              "    </tr>\n",
              "    <tr>\n",
              "      <td>750</td>\n",
              "      <td>0.812200</td>\n",
              "      <td>1.333251</td>\n",
              "      <td>0.476812</td>\n",
              "      <td>0.499866</td>\n",
              "      <td>0.476812</td>\n",
              "    </tr>\n",
              "  </tbody>\n",
              "</table><p>"
            ],
            "text/plain": [
              "<IPython.core.display.HTML object>"
            ]
          },
          "metadata": {
            "tags": []
          }
        },
        {
          "output_type": "stream",
          "text": [
            "***** Running Evaluation *****\n",
            "  Num examples = 690\n",
            "  Batch size = 4\n",
            "/usr/local/lib/python3.7/dist-packages/sklearn/metrics/_classification.py:1272: UndefinedMetricWarning: Precision is ill-defined and being set to 0.0 in labels with no predicted samples. Use `zero_division` parameter to control this behavior.\n",
            "  _warn_prf(average, modifier, msg_start, len(result))\n",
            "Saving model checkpoint to ./results/checkpoint-50\n",
            "Configuration saved in ./results/checkpoint-50/config.json\n",
            "Model weights saved in ./results/checkpoint-50/pytorch_model.bin\n",
            "***** Running Evaluation *****\n",
            "  Num examples = 690\n",
            "  Batch size = 4\n",
            "/usr/local/lib/python3.7/dist-packages/sklearn/metrics/_classification.py:1272: UndefinedMetricWarning: Precision is ill-defined and being set to 0.0 in labels with no predicted samples. Use `zero_division` parameter to control this behavior.\n",
            "  _warn_prf(average, modifier, msg_start, len(result))\n",
            "Saving model checkpoint to ./results/checkpoint-100\n",
            "Configuration saved in ./results/checkpoint-100/config.json\n",
            "Model weights saved in ./results/checkpoint-100/pytorch_model.bin\n",
            "***** Running Evaluation *****\n",
            "  Num examples = 690\n",
            "  Batch size = 4\n",
            "/usr/local/lib/python3.7/dist-packages/sklearn/metrics/_classification.py:1272: UndefinedMetricWarning: Precision is ill-defined and being set to 0.0 in labels with no predicted samples. Use `zero_division` parameter to control this behavior.\n",
            "  _warn_prf(average, modifier, msg_start, len(result))\n",
            "Saving model checkpoint to ./results/checkpoint-150\n",
            "Configuration saved in ./results/checkpoint-150/config.json\n",
            "Model weights saved in ./results/checkpoint-150/pytorch_model.bin\n",
            "***** Running Evaluation *****\n",
            "  Num examples = 690\n",
            "  Batch size = 4\n",
            "Saving model checkpoint to ./results/checkpoint-200\n",
            "Configuration saved in ./results/checkpoint-200/config.json\n",
            "Model weights saved in ./results/checkpoint-200/pytorch_model.bin\n",
            "***** Running Evaluation *****\n",
            "  Num examples = 690\n",
            "  Batch size = 4\n",
            "Saving model checkpoint to ./results/checkpoint-250\n",
            "Configuration saved in ./results/checkpoint-250/config.json\n",
            "Model weights saved in ./results/checkpoint-250/pytorch_model.bin\n",
            "***** Running Evaluation *****\n",
            "  Num examples = 690\n",
            "  Batch size = 4\n",
            "Saving model checkpoint to ./results/checkpoint-300\n",
            "Configuration saved in ./results/checkpoint-300/config.json\n",
            "Model weights saved in ./results/checkpoint-300/pytorch_model.bin\n",
            "***** Running Evaluation *****\n",
            "  Num examples = 690\n",
            "  Batch size = 4\n",
            "Saving model checkpoint to ./results/checkpoint-350\n",
            "Configuration saved in ./results/checkpoint-350/config.json\n",
            "Model weights saved in ./results/checkpoint-350/pytorch_model.bin\n",
            "***** Running Evaluation *****\n",
            "  Num examples = 690\n",
            "  Batch size = 4\n",
            "Saving model checkpoint to ./results/checkpoint-400\n",
            "Configuration saved in ./results/checkpoint-400/config.json\n",
            "Model weights saved in ./results/checkpoint-400/pytorch_model.bin\n",
            "***** Running Evaluation *****\n",
            "  Num examples = 690\n",
            "  Batch size = 4\n",
            "Saving model checkpoint to ./results/checkpoint-450\n",
            "Configuration saved in ./results/checkpoint-450/config.json\n",
            "Model weights saved in ./results/checkpoint-450/pytorch_model.bin\n",
            "***** Running Evaluation *****\n",
            "  Num examples = 690\n",
            "  Batch size = 4\n",
            "Saving model checkpoint to ./results/checkpoint-500\n",
            "Configuration saved in ./results/checkpoint-500/config.json\n",
            "Model weights saved in ./results/checkpoint-500/pytorch_model.bin\n",
            "***** Running Evaluation *****\n",
            "  Num examples = 690\n",
            "  Batch size = 4\n",
            "Saving model checkpoint to ./results/checkpoint-550\n",
            "Configuration saved in ./results/checkpoint-550/config.json\n",
            "Model weights saved in ./results/checkpoint-550/pytorch_model.bin\n",
            "***** Running Evaluation *****\n",
            "  Num examples = 690\n",
            "  Batch size = 4\n",
            "Saving model checkpoint to ./results/checkpoint-600\n",
            "Configuration saved in ./results/checkpoint-600/config.json\n",
            "Model weights saved in ./results/checkpoint-600/pytorch_model.bin\n",
            "***** Running Evaluation *****\n",
            "  Num examples = 690\n",
            "  Batch size = 4\n",
            "Saving model checkpoint to ./results/checkpoint-650\n",
            "Configuration saved in ./results/checkpoint-650/config.json\n",
            "Model weights saved in ./results/checkpoint-650/pytorch_model.bin\n",
            "***** Running Evaluation *****\n",
            "  Num examples = 690\n",
            "  Batch size = 4\n",
            "Saving model checkpoint to ./results/checkpoint-700\n",
            "Configuration saved in ./results/checkpoint-700/config.json\n",
            "Model weights saved in ./results/checkpoint-700/pytorch_model.bin\n",
            "***** Running Evaluation *****\n",
            "  Num examples = 690\n",
            "  Batch size = 4\n",
            "Saving model checkpoint to ./results/checkpoint-750\n",
            "Configuration saved in ./results/checkpoint-750/config.json\n",
            "Model weights saved in ./results/checkpoint-750/pytorch_model.bin\n",
            "\n",
            "\n",
            "Training completed. Do not forget to share your model on huggingface.co/models =)\n",
            "\n",
            "\n",
            "Loading best model from ./results/checkpoint-400 (score: 1.2350306510925293).\n"
          ],
          "name": "stderr"
        },
        {
          "output_type": "execute_result",
          "data": {
            "text/plain": [
              "TrainOutput(global_step=777, training_loss=1.1484586993086139, metrics={'train_runtime': 1115.6934, 'train_samples_per_second': 5.566, 'train_steps_per_second': 0.696, 'total_flos': 2088664511569920.0, 'train_loss': 1.1484586993086139, 'epoch': 3.0})"
            ]
          },
          "metadata": {
            "tags": []
          },
          "execution_count": 18
        }
      ]
    },
    {
      "cell_type": "code",
      "metadata": {
        "id": "cdWlnZxAR0XA",
        "colab": {
          "base_uri": "https://localhost:8080/",
          "height": 222
        },
        "outputId": "de125c79-2b59-4fc5-9df5-b887c72851b9"
      },
      "source": [
        "# evaluate the current model after training\n",
        "trainer.evaluate()"
      ],
      "execution_count": null,
      "outputs": [
        {
          "output_type": "stream",
          "text": [
            "***** Running Evaluation *****\n",
            "  Num examples = 690\n",
            "  Batch size = 4\n"
          ],
          "name": "stderr"
        },
        {
          "output_type": "display_data",
          "data": {
            "text/html": [
              "\n",
              "    <div>\n",
              "      \n",
              "      <progress value='173' max='173' style='width:300px; height:20px; vertical-align: middle;'></progress>\n",
              "      [173/173 00:26]\n",
              "    </div>\n",
              "    "
            ],
            "text/plain": [
              "<IPython.core.display.HTML object>"
            ]
          },
          "metadata": {
            "tags": []
          }
        },
        {
          "output_type": "execute_result",
          "data": {
            "text/plain": [
              "{'epoch': 3.0,\n",
              " 'eval_accuracy': 0.45942028985507244,\n",
              " 'eval_loss': 1.2350306510925293,\n",
              " 'eval_precision': 0.4870171946447093,\n",
              " 'eval_recall': 0.45942028985507244,\n",
              " 'eval_runtime': 26.917,\n",
              " 'eval_samples_per_second': 25.634,\n",
              " 'eval_steps_per_second': 6.427}"
            ]
          },
          "metadata": {
            "tags": []
          },
          "execution_count": 19
        }
      ]
    },
    {
      "cell_type": "code",
      "metadata": {
        "id": "ojgBg7cfSp4J",
        "colab": {
          "base_uri": "https://localhost:8080/"
        },
        "outputId": "81ce6c6d-c9af-4b5d-a026-183810aff7a5"
      },
      "source": [
        "# saving the fine tuned model & tokenizer\n",
        "model_path = \"drive/My Drive/MER_NLP/deezer-bert-base-uncased\"\n",
        "model.save_pretrained(model_path)\n",
        "tokenizer.save_pretrained(model_path)"
      ],
      "execution_count": null,
      "outputs": [
        {
          "output_type": "stream",
          "text": [
            "Configuration saved in drive/My Drive/MER_NLP/deezer-bert-base-uncased/config.json\n",
            "Model weights saved in drive/My Drive/MER_NLP/deezer-bert-base-uncased/pytorch_model.bin\n",
            "tokenizer config file saved in drive/My Drive/MER_NLP/deezer-bert-base-uncased/tokenizer_config.json\n",
            "Special tokens file saved in drive/My Drive/MER_NLP/deezer-bert-base-uncased/special_tokens_map.json\n"
          ],
          "name": "stderr"
        },
        {
          "output_type": "execute_result",
          "data": {
            "text/plain": [
              "('drive/My Drive/MER_NLP/deezer-bert-base-uncased/tokenizer_config.json',\n",
              " 'drive/My Drive/MER_NLP/deezer-bert-base-uncased/special_tokens_map.json',\n",
              " 'drive/My Drive/MER_NLP/deezer-bert-base-uncased/vocab.txt',\n",
              " 'drive/My Drive/MER_NLP/deezer-bert-base-uncased/added_tokens.json',\n",
              " 'drive/My Drive/MER_NLP/deezer-bert-base-uncased/tokenizer.json')"
            ]
          },
          "metadata": {
            "tags": []
          },
          "execution_count": 20
        }
      ]
    },
    {
      "cell_type": "code",
      "metadata": {
        "id": "KXHXb7RYTARC",
        "colab": {
          "base_uri": "https://localhost:8080/"
        },
        "outputId": "e51d9154-10e8-4f36-b6cf-6bd7c01cd21d"
      },
      "source": [
        "# reload our model/tokenizer. Optional, only usable when in Python files instead of notebooks\n",
        "model = BertForSequenceClassification.from_pretrained(model_path, num_labels=4).to(\"cuda\")\n",
        "tokenizer = BertTokenizerFast.from_pretrained(model_path)"
      ],
      "execution_count": null,
      "outputs": [
        {
          "output_type": "stream",
          "text": [
            "loading configuration file drive/My Drive/MER_NLP/deezer-bert-base-uncased/config.json\n",
            "Model config BertConfig {\n",
            "  \"_name_or_path\": \"bert-base-uncased\",\n",
            "  \"architectures\": [\n",
            "    \"BertForSequenceClassification\"\n",
            "  ],\n",
            "  \"attention_probs_dropout_prob\": 0.1,\n",
            "  \"gradient_checkpointing\": false,\n",
            "  \"hidden_act\": \"gelu\",\n",
            "  \"hidden_dropout_prob\": 0.1,\n",
            "  \"hidden_size\": 768,\n",
            "  \"id2label\": {\n",
            "    \"0\": \"LABEL_0\",\n",
            "    \"1\": \"LABEL_1\",\n",
            "    \"2\": \"LABEL_2\",\n",
            "    \"3\": \"LABEL_3\"\n",
            "  },\n",
            "  \"initializer_range\": 0.02,\n",
            "  \"intermediate_size\": 3072,\n",
            "  \"label2id\": {\n",
            "    \"LABEL_0\": 0,\n",
            "    \"LABEL_1\": 1,\n",
            "    \"LABEL_2\": 2,\n",
            "    \"LABEL_3\": 3\n",
            "  },\n",
            "  \"layer_norm_eps\": 1e-12,\n",
            "  \"max_position_embeddings\": 512,\n",
            "  \"model_type\": \"bert\",\n",
            "  \"num_attention_heads\": 12,\n",
            "  \"num_hidden_layers\": 12,\n",
            "  \"pad_token_id\": 0,\n",
            "  \"position_embedding_type\": \"absolute\",\n",
            "  \"problem_type\": \"single_label_classification\",\n",
            "  \"transformers_version\": \"4.8.2\",\n",
            "  \"type_vocab_size\": 2,\n",
            "  \"use_cache\": true,\n",
            "  \"vocab_size\": 30522\n",
            "}\n",
            "\n",
            "loading weights file drive/My Drive/MER_NLP/deezer-bert-base-uncased/pytorch_model.bin\n",
            "All model checkpoint weights were used when initializing BertForSequenceClassification.\n",
            "\n",
            "All the weights of BertForSequenceClassification were initialized from the model checkpoint at drive/My Drive/MER_NLP/deezer-bert-base-uncased.\n",
            "If your task is similar to the task the model of the checkpoint was trained on, you can already use BertForSequenceClassification for predictions without further training.\n",
            "Didn't find file drive/My Drive/MER_NLP/deezer-bert-base-uncased/added_tokens.json. We won't load it.\n",
            "loading file drive/My Drive/MER_NLP/deezer-bert-base-uncased/vocab.txt\n",
            "loading file drive/My Drive/MER_NLP/deezer-bert-base-uncased/tokenizer.json\n",
            "loading file None\n",
            "loading file drive/My Drive/MER_NLP/deezer-bert-base-uncased/special_tokens_map.json\n",
            "loading file drive/My Drive/MER_NLP/deezer-bert-base-uncased/tokenizer_config.json\n"
          ],
          "name": "stderr"
        }
      ]
    },
    {
      "cell_type": "code",
      "metadata": {
        "id": "96uWKthsR8fS"
      },
      "source": [
        "def get_prediction(text):\n",
        "    # prepare our text into tokenized sequence\n",
        "    inputs = tokenizer(text, padding=True, truncation=True, max_length=max_length, return_tensors=\"pt\").to(\"cuda\")\n",
        "    # perform inference to our model\n",
        "    outputs = model(**inputs)\n",
        "    # get output probabilities by doing softmax\n",
        "    probs = outputs[0].softmax(1)\n",
        "    # executing argmax function to get the candidate label\n",
        "    if probs.argmax().item()==0:\n",
        "      label='relaxed'\n",
        "    elif probs.argmax().item()==1:\n",
        "      label='happy'\n",
        "    elif probs.argmax().item()==2:\n",
        "      label='angry'\n",
        "    else:\n",
        "      label='sad'\n",
        "    return label"
      ],
      "execution_count": null,
      "outputs": []
    },
    {
      "cell_type": "code",
      "metadata": {
        "id": "ZwXfb-SHf92j",
        "colab": {
          "base_uri": "https://localhost:8080/"
        },
        "outputId": "c57c2ec2-669a-4c12-d1a9-65f699a3e4fc"
      },
      "source": [
        "# Example #1\n",
        "text = \"\"\"\n",
        "Because I'm happy\n",
        "Clap along if you feel like a room without a roof\n",
        "Because I'm happy\n",
        "Clap along if you feel like happiness is the truth\n",
        "Because I'm happy\n",
        "Clap along if you know what happiness is to you\n",
        "Because I'm happy\n",
        "Clap along if you feel like that's what you wanna do\n",
        "\"\"\"\n",
        "print(get_prediction(text))"
      ],
      "execution_count": null,
      "outputs": [
        {
          "output_type": "stream",
          "text": [
            "happy\n"
          ],
          "name": "stdout"
        }
      ]
    },
    {
      "cell_type": "code",
      "metadata": {
        "id": "nZMGwF_OgfZc",
        "colab": {
          "base_uri": "https://localhost:8080/"
        },
        "outputId": "63e48b47-84d7-4b63-fe46-49ae9ef36c22"
      },
      "source": [
        "# Example #2\n",
        "text = \"\"\"\n",
        "Does it get your blood boiling, does it make you see red?\n",
        "Do you wanna destroy it, does it get in your head?\n",
        "'Cause it gets my blood boiling and I'm coming unglued\n",
        "It would hit you like poison if you knew what I knew\n",
        "You would be angry took\n",
        "Calm down girl, why you so mad?\n",
        "Why's your heart gone\n",
        "It's all good girl, why you upset?\n",
        "Guess they have forgotten what they did\n",
        "And does it get your blood boiling and does it make you see red?\n",
        "And do you wanna destroy it, does it get in your head?\n",
        "'Cause it gets my blood boiling and I'm coming unglued\n",
        "It would hit you like poison if you knew what I knew\n",
        "You would be angry, you would be angry\n",
        "You would be angry, you would be angry too\n",
        "\"\"\"\n",
        "print(get_prediction(text))"
      ],
      "execution_count": null,
      "outputs": [
        {
          "output_type": "stream",
          "text": [
            "angry\n"
          ],
          "name": "stdout"
        }
      ]
    },
    {
      "cell_type": "code",
      "metadata": {
        "id": "B5n8Z_MzXI9w",
        "colab": {
          "base_uri": "https://localhost:8080/"
        },
        "outputId": "1eba03c4-7e2a-4eb5-fa96-da99c43c6123"
      },
      "source": [
        "# Example #3\n",
        "text = \"\"\"\n",
        "I get a good feeling, yeah\n",
        "Oh, sometimes I get a good feeling, yeah\n",
        "Get a feeling that I\n",
        "Never, never, never, never had before, oh, no\n",
        "I get a good feeling, yeah\n",
        "Oh, sometimes I get a good feeling, yeah\n",
        "Get a feeling that I\n",
        "Never, never, never, never had before, oh, no\n",
        "I get a good feeling, yeah\n",
        "Just wanna tell ya right now that I\n",
        "I really do believe it\n",
        "\"\"\"\n",
        "print(get_prediction(text))"
      ],
      "execution_count": null,
      "outputs": [
        {
          "output_type": "stream",
          "text": [
            "happy\n"
          ],
          "name": "stdout"
        }
      ]
    },
    {
      "cell_type": "code",
      "metadata": {
        "id": "r6kO55YTXNqx",
        "colab": {
          "base_uri": "https://localhost:8080/"
        },
        "outputId": "7680a91a-91fa-4218-a6ce-2b605e6c635c"
      },
      "source": [
        "# Example #4\n",
        "text = \"\"\"\n",
        "Beneath the stains of time\n",
        "The feelings disappear\n",
        "You are someone else\n",
        "I'm still right here\n",
        "What have I become?\n",
        "My sweetest friend\n",
        "Everyone I know goes away\n",
        "In the end\n",
        "And you could have it all\n",
        "My empire of dirt\n",
        "I will let you down\n",
        "I will make you hurt\n",
        "If I could start again\n",
        "A million miles away\n",
        "I would keep myself\n",
        "I would find a way\n",
        "\"\"\"\n",
        "print(get_prediction(text))"
      ],
      "execution_count": null,
      "outputs": [
        {
          "output_type": "stream",
          "text": [
            "angry\n"
          ],
          "name": "stdout"
        }
      ]
    },
    {
      "cell_type": "markdown",
      "metadata": {
        "id": "XmQfd-gGQl6K"
      },
      "source": [
        "# Model evaluation on Moody Lyrics dataset"
      ]
    },
    {
      "cell_type": "code",
      "metadata": {
        "id": "nDkgLTnZQpfi",
        "colab": {
          "base_uri": "https://localhost:8080/",
          "height": 220
        },
        "outputId": "abf90bd0-951c-4ebe-b1a8-b3fd972bb9d1"
      },
      "source": [
        "dataset_ml = pd.read_csv('drive/My Drive/MER_NLP/MoodyLyrics_complete.csv')\n",
        "del dataset_ml['Unnamed: 0']\n",
        "\n",
        "print(dataset_ml.shape)\n",
        "dataset_ml.head()"
      ],
      "execution_count": null,
      "outputs": [
        {
          "output_type": "stream",
          "text": [
            "(1968, 4)\n"
          ],
          "name": "stdout"
        },
        {
          "output_type": "execute_result",
          "data": {
            "text/html": [
              "<div>\n",
              "<style scoped>\n",
              "    .dataframe tbody tr th:only-of-type {\n",
              "        vertical-align: middle;\n",
              "    }\n",
              "\n",
              "    .dataframe tbody tr th {\n",
              "        vertical-align: top;\n",
              "    }\n",
              "\n",
              "    .dataframe thead th {\n",
              "        text-align: right;\n",
              "    }\n",
              "</style>\n",
              "<table border=\"1\" class=\"dataframe\">\n",
              "  <thead>\n",
              "    <tr style=\"text-align: right;\">\n",
              "      <th></th>\n",
              "      <th>Artist</th>\n",
              "      <th>Title</th>\n",
              "      <th>Mood</th>\n",
              "      <th>Lyrics</th>\n",
              "    </tr>\n",
              "  </thead>\n",
              "  <tbody>\n",
              "    <tr>\n",
              "      <th>0</th>\n",
              "      <td>.38 Special</td>\n",
              "      <td>Fantasy Girl</td>\n",
              "      <td>relaxed</td>\n",
              "      <td>Lately, I'm learnin' That so many yearnings ar...</td>\n",
              "    </tr>\n",
              "    <tr>\n",
              "      <th>1</th>\n",
              "      <td>.38 Special</td>\n",
              "      <td>Second Chance</td>\n",
              "      <td>happy</td>\n",
              "      <td>Since you've been gone I feel my life slipping...</td>\n",
              "    </tr>\n",
              "    <tr>\n",
              "      <th>2</th>\n",
              "      <td>3 Inches Of Blood</td>\n",
              "      <td>Trial Of Champions</td>\n",
              "      <td>angry</td>\n",
              "      <td>Enslaved by warlords from far away lands Force...</td>\n",
              "    </tr>\n",
              "    <tr>\n",
              "      <th>3</th>\n",
              "      <td>30 Seconds To Mars</td>\n",
              "      <td>Search And Destroy</td>\n",
              "      <td>angry</td>\n",
              "      <td>Grab your gun, time to go to hell I'm no hero ...</td>\n",
              "    </tr>\n",
              "    <tr>\n",
              "      <th>4</th>\n",
              "      <td>311</td>\n",
              "      <td>Lovesong</td>\n",
              "      <td>happy</td>\n",
              "      <td>Whenever I'm alone with you You make me feel l...</td>\n",
              "    </tr>\n",
              "  </tbody>\n",
              "</table>\n",
              "</div>"
            ],
            "text/plain": [
              "               Artist  ...                                             Lyrics\n",
              "0         .38 Special  ...  Lately, I'm learnin' That so many yearnings ar...\n",
              "1         .38 Special  ...  Since you've been gone I feel my life slipping...\n",
              "2   3 Inches Of Blood  ...  Enslaved by warlords from far away lands Force...\n",
              "3  30 Seconds To Mars  ...  Grab your gun, time to go to hell I'm no hero ...\n",
              "4                 311  ...  Whenever I'm alone with you You make me feel l...\n",
              "\n",
              "[5 rows x 4 columns]"
            ]
          },
          "metadata": {
            "tags": []
          },
          "execution_count": 41
        }
      ]
    },
    {
      "cell_type": "code",
      "metadata": {
        "id": "u-twTbb3cX0u"
      },
      "source": [
        "filter = dataset_ml[\"Lyrics\"] != \"\"\n",
        "dataset_ml = dataset_ml[filter]\n",
        "dataset_ml = dataset_ml.dropna()\n",
        "dataset_ml = dataset_ml.drop_duplicates(subset='Lyrics', keep=\"first\")"
      ],
      "execution_count": null,
      "outputs": []
    },
    {
      "cell_type": "code",
      "metadata": {
        "id": "LNHTIPb7QrqD"
      },
      "source": [
        "X = dataset_ml['Lyrics']"
      ],
      "execution_count": null,
      "outputs": []
    },
    {
      "cell_type": "code",
      "metadata": {
        "id": "PfRPGQSPQuUF"
      },
      "source": [
        "list_of_predictions = []\n",
        "for el in X:\n",
        "  prediction = get_prediction(el)\n",
        "  list_of_predictions.append(prediction)"
      ],
      "execution_count": null,
      "outputs": []
    },
    {
      "cell_type": "code",
      "metadata": {
        "id": "lWLMu5tYQwCd"
      },
      "source": [
        "from sklearn.metrics import confusion_matrix\n",
        "\n",
        "y = dataset_ml['Mood']\n",
        "cm = confusion_matrix(y, list_of_predictions, labels=[\"happy\", \"sad\", \"relaxed\", \"angry\"])"
      ],
      "execution_count": null,
      "outputs": []
    },
    {
      "cell_type": "code",
      "metadata": {
        "id": "rhvVFyq2Qx-e",
        "colab": {
          "base_uri": "https://localhost:8080/"
        },
        "outputId": "e547732b-8b4a-4467-d831-0f64ed7862ee"
      },
      "source": [
        "cm"
      ],
      "execution_count": null,
      "outputs": [
        {
          "output_type": "execute_result",
          "data": {
            "text/plain": [
              "array([[307,  39, 131,   7],\n",
              "       [216, 100,  69,  95],\n",
              "       [256,  32, 187,  11],\n",
              "       [180,  66,  42, 189]])"
            ]
          },
          "metadata": {
            "tags": []
          },
          "execution_count": 52
        }
      ]
    },
    {
      "cell_type": "code",
      "metadata": {
        "id": "W-TGjAJSQz5J"
      },
      "source": [
        "import sklearn\n",
        "from sklearn.metrics import confusion_matrix \n",
        "import itertools \n",
        "import matplotlib.pyplot as plt\n",
        "import numpy \n",
        "\n",
        "def confusion_matrix(cm, classes,\n",
        "                          title='Confusion matrix',\n",
        "                          cmap=plt.cm.Blues):\n",
        "\n",
        "    plt.imshow(cm, interpolation='nearest', cmap=cmap)\n",
        "    plt.title(title)\n",
        "    plt.colorbar()\n",
        "    tick_marks = numpy.arange(len(classes))\n",
        "    plt.xticks(tick_marks, classes, rotation=45)\n",
        "    plt.yticks(tick_marks, classes)\n",
        "    plt.rcParams[\"figure.figsize\"] = (10,10)\n",
        "\n",
        "    thresh = cm.max() / 2.\n",
        "    for i, j in itertools.product(range(cm.shape[0]), range(cm.shape[1])):\n",
        "        plt.text(j, i, cm[i, j],\n",
        "                 horizontalalignment=\"center\",\n",
        "                 color=\"white\" if cm[i, j] > thresh else \"black\")\n",
        "\n",
        "    plt.tight_layout()\n",
        "    plt.ylabel('True label')\n",
        "    plt.xlabel('Predicted label')\n",
        "\n",
        "def plot_cnf(true_y,pred, labels):\n",
        "\n",
        "    cnf_matrix=sklearn.metrics.confusion_matrix(true_y, pred, labels)\n",
        "    plt.rcParams[\"figure.figsize\"] = (10,10)\n",
        "    plt.figure()\n",
        "    a=confusion_matrix(cnf_matrix, classes=labels,title='Confusion matrix')"
      ],
      "execution_count": null,
      "outputs": []
    },
    {
      "cell_type": "code",
      "metadata": {
        "id": "92hKqieTQ2rL",
        "colab": {
          "base_uri": "https://localhost:8080/",
          "height": 729
        },
        "outputId": "0d3b5f31-a7e2-46f4-ccf0-d881dbd083cc"
      },
      "source": [
        "plot_cnf(y, list_of_predictions, [\"happy\", \"sad\", \"relaxed\", \"angry\"])"
      ],
      "execution_count": null,
      "outputs": [
        {
          "output_type": "display_data",
          "data": {
            "image/png": "[encoded data removed]",
            "text/plain": [
              "<Figure size 720x720 with 2 Axes>"
            ]
          },
          "metadata": {
            "tags": [],
            "needs_background": "light"
          }
        }
      ]
    },
    {
      "cell_type": "code",
      "metadata": {
        "id": "YwKLiy5GQ5T1",
        "colab": {
          "base_uri": "https://localhost:8080/"
        },
        "outputId": "8f4ab92a-233d-47f5-9879-1ae75c99693d"
      },
      "source": [
        "import numpy as np\n",
        "from sklearn.metrics import precision_recall_fscore_support\n",
        "\n",
        "y_true = np.array(y)\n",
        "y_pred = np.array(list_of_predictions)\n",
        "precision_recall_fscore_support(y_true, y_pred, average='weighted')"
      ],
      "execution_count": null,
      "outputs": [
        {
          "output_type": "execute_result",
          "data": {
            "text/plain": [
              "(0.4503571510389161, 0.4063310845874416, 0.3995546691780594, None)"
            ]
          },
          "metadata": {
            "tags": []
          },
          "execution_count": 55
        }
      ]
    },
    {
      "cell_type": "code",
      "metadata": {
        "id": "GSt1i2tIQ72r",
        "colab": {
          "base_uri": "https://localhost:8080/"
        },
        "outputId": "f2c57477-9dbc-4fe0-8bd9-a0363b73c877"
      },
      "source": [
        "precision_recall_fscore_support(y_true, y_pred, average=None, labels=[\"happy\", \"sad\", \"relaxed\", \"angry\"])"
      ],
      "execution_count": null,
      "outputs": [
        {
          "output_type": "execute_result",
          "data": {
            "text/plain": [
              "(array([0.32012513, 0.42194093, 0.43589744, 0.62582781]),\n",
              " array([0.63429752, 0.20833333, 0.38477366, 0.39622642]),\n",
              " array([0.42550243, 0.27894003, 0.40874317, 0.48523748]),\n",
              " array([484, 480, 486, 477]))"
            ]
          },
          "metadata": {
            "tags": []
          },
          "execution_count": 56
        }
      ]
    }
  ]
}