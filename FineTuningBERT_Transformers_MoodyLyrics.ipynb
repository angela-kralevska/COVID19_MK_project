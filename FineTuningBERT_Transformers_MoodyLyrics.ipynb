{
  "nbformat": 4,
  "nbformat_minor": 0,
  "metadata": {
    "colab": {
      "name": "FineTuningBERT_Transformers_MoodyLyrics.ipynb",
      "provenance": [],
      "collapsed_sections": [],
      "machine_shape": "hm",
      "include_colab_link": true
    },
    "kernelspec": {
      "name": "python3",
      "display_name": "Python 3"
    },
    "accelerator": "GPU",
    "widgets": {
      "application/vnd.jupyter.widget-state+json": {
        "c30f50bbad2f4b33b59d8e26d7d8264e": {
          "model_module": "@jupyter-widgets/controls",
          "model_name": "HBoxModel",
          "model_module_version": "1.5.0",
          "state": {
            "_view_name": "HBoxView",
            "_dom_classes": [],
            "_model_name": "HBoxModel",
            "_view_module": "@jupyter-widgets/controls",
            "_model_module_version": "1.5.0",
            "_view_count": null,
            "_view_module_version": "1.5.0",
            "box_style": "",
            "layout": "IPY_MODEL_b4681c77a2004933ad96674191baaf14",
            "_model_module": "@jupyter-widgets/controls",
            "children": [
              "IPY_MODEL_ac97a204539c4bafa59ea0d1ad1a81ce",
              "IPY_MODEL_bd143b398ae946228405e32d49b002e9"
            ]
          }
        },
        "b4681c77a2004933ad96674191baaf14": {
          "model_module": "@jupyter-widgets/base",
          "model_name": "LayoutModel",
          "model_module_version": "1.2.0",
          "state": {
            "_view_name": "LayoutView",
            "grid_template_rows": null,
            "right": null,
            "justify_content": null,
            "_view_module": "@jupyter-widgets/base",
            "overflow": null,
            "_model_module_version": "1.2.0",
            "_view_count": null,
            "flex_flow": null,
            "width": null,
            "min_width": null,
            "border": null,
            "align_items": null,
            "bottom": null,
            "_model_module": "@jupyter-widgets/base",
            "top": null,
            "grid_column": null,
            "overflow_y": null,
            "overflow_x": null,
            "grid_auto_flow": null,
            "grid_area": null,
            "grid_template_columns": null,
            "flex": null,
            "_model_name": "LayoutModel",
            "justify_items": null,
            "grid_row": null,
            "max_height": null,
            "align_content": null,
            "visibility": null,
            "align_self": null,
            "height": null,
            "min_height": null,
            "padding": null,
            "grid_auto_rows": null,
            "grid_gap": null,
            "max_width": null,
            "order": null,
            "_view_module_version": "1.2.0",
            "grid_template_areas": null,
            "object_position": null,
            "object_fit": null,
            "grid_auto_columns": null,
            "margin": null,
            "display": null,
            "left": null
          }
        },
        "ac97a204539c4bafa59ea0d1ad1a81ce": {
          "model_module": "@jupyter-widgets/controls",
          "model_name": "FloatProgressModel",
          "model_module_version": "1.5.0",
          "state": {
            "_view_name": "ProgressView",
            "style": "IPY_MODEL_549e60b27b054d2d8ae2743d48bac233",
            "_dom_classes": [],
            "description": "Downloading: 100%",
            "_model_name": "FloatProgressModel",
            "bar_style": "success",
            "max": 231508,
            "_view_module": "@jupyter-widgets/controls",
            "_model_module_version": "1.5.0",
            "value": 231508,
            "_view_count": null,
            "_view_module_version": "1.5.0",
            "orientation": "horizontal",
            "min": 0,
            "description_tooltip": null,
            "_model_module": "@jupyter-widgets/controls",
            "layout": "IPY_MODEL_2513b48fb61741d19f9bb17ec63cf688"
          }
        },
        "bd143b398ae946228405e32d49b002e9": {
          "model_module": "@jupyter-widgets/controls",
          "model_name": "HTMLModel",
          "model_module_version": "1.5.0",
          "state": {
            "_view_name": "HTMLView",
            "style": "IPY_MODEL_84e725595cba46ecbc0c66ddb3dab755",
            "_dom_classes": [],
            "description": "",
            "_model_name": "HTMLModel",
            "placeholder": "​",
            "_view_module": "@jupyter-widgets/controls",
            "_model_module_version": "1.5.0",
            "value": " 232k/232k [00:00&lt;00:00, 257kB/s]",
            "_view_count": null,
            "_view_module_version": "1.5.0",
            "description_tooltip": null,
            "_model_module": "@jupyter-widgets/controls",
            "layout": "IPY_MODEL_a59b8fe09fa8405dbccfafc2ff80daf5"
          }
        },
        "549e60b27b054d2d8ae2743d48bac233": {
          "model_module": "@jupyter-widgets/controls",
          "model_name": "ProgressStyleModel",
          "model_module_version": "1.5.0",
          "state": {
            "_view_name": "StyleView",
            "_model_name": "ProgressStyleModel",
            "description_width": "initial",
            "_view_module": "@jupyter-widgets/base",
            "_model_module_version": "1.5.0",
            "_view_count": null,
            "_view_module_version": "1.2.0",
            "bar_color": null,
            "_model_module": "@jupyter-widgets/controls"
          }
        },
        "2513b48fb61741d19f9bb17ec63cf688": {
          "model_module": "@jupyter-widgets/base",
          "model_name": "LayoutModel",
          "model_module_version": "1.2.0",
          "state": {
            "_view_name": "LayoutView",
            "grid_template_rows": null,
            "right": null,
            "justify_content": null,
            "_view_module": "@jupyter-widgets/base",
            "overflow": null,
            "_model_module_version": "1.2.0",
            "_view_count": null,
            "flex_flow": null,
            "width": null,
            "min_width": null,
            "border": null,
            "align_items": null,
            "bottom": null,
            "_model_module": "@jupyter-widgets/base",
            "top": null,
            "grid_column": null,
            "overflow_y": null,
            "overflow_x": null,
            "grid_auto_flow": null,
            "grid_area": null,
            "grid_template_columns": null,
            "flex": null,
            "_model_name": "LayoutModel",
            "justify_items": null,
            "grid_row": null,
            "max_height": null,
            "align_content": null,
            "visibility": null,
            "align_self": null,
            "height": null,
            "min_height": null,
            "padding": null,
            "grid_auto_rows": null,
            "grid_gap": null,
            "max_width": null,
            "order": null,
            "_view_module_version": "1.2.0",
            "grid_template_areas": null,
            "object_position": null,
            "object_fit": null,
            "grid_auto_columns": null,
            "margin": null,
            "display": null,
            "left": null
          }
        },
        "84e725595cba46ecbc0c66ddb3dab755": {
          "model_module": "@jupyter-widgets/controls",
          "model_name": "DescriptionStyleModel",
          "model_module_version": "1.5.0",
          "state": {
            "_view_name": "StyleView",
            "_model_name": "DescriptionStyleModel",
            "description_width": "",
            "_view_module": "@jupyter-widgets/base",
            "_model_module_version": "1.5.0",
            "_view_count": null,
            "_view_module_version": "1.2.0",
            "_model_module": "@jupyter-widgets/controls"
          }
        },
        "a59b8fe09fa8405dbccfafc2ff80daf5": {
          "model_module": "@jupyter-widgets/base",
          "model_name": "LayoutModel",
          "model_module_version": "1.2.0",
          "state": {
            "_view_name": "LayoutView",
            "grid_template_rows": null,
            "right": null,
            "justify_content": null,
            "_view_module": "@jupyter-widgets/base",
            "overflow": null,
            "_model_module_version": "1.2.0",
            "_view_count": null,
            "flex_flow": null,
            "width": null,
            "min_width": null,
            "border": null,
            "align_items": null,
            "bottom": null,
            "_model_module": "@jupyter-widgets/base",
            "top": null,
            "grid_column": null,
            "overflow_y": null,
            "overflow_x": null,
            "grid_auto_flow": null,
            "grid_area": null,
            "grid_template_columns": null,
            "flex": null,
            "_model_name": "LayoutModel",
            "justify_items": null,
            "grid_row": null,
            "max_height": null,
            "align_content": null,
            "visibility": null,
            "align_self": null,
            "height": null,
            "min_height": null,
            "padding": null,
            "grid_auto_rows": null,
            "grid_gap": null,
            "max_width": null,
            "order": null,
            "_view_module_version": "1.2.0",
            "grid_template_areas": null,
            "object_position": null,
            "object_fit": null,
            "grid_auto_columns": null,
            "margin": null,
            "display": null,
            "left": null
          }
        },
        "48822c19f2274beba82c743667ce2854": {
          "model_module": "@jupyter-widgets/controls",
          "model_name": "HBoxModel",
          "model_module_version": "1.5.0",
          "state": {
            "_view_name": "HBoxView",
            "_dom_classes": [],
            "_model_name": "HBoxModel",
            "_view_module": "@jupyter-widgets/controls",
            "_model_module_version": "1.5.0",
            "_view_count": null,
            "_view_module_version": "1.5.0",
            "box_style": "",
            "layout": "IPY_MODEL_19fab086ca014410871efe50083cc8d8",
            "_model_module": "@jupyter-widgets/controls",
            "children": [
              "IPY_MODEL_a599ac8bc03544f6a1d1b3987654666f",
              "IPY_MODEL_f09c2ceb720a4dd9bc0672360b790879"
            ]
          }
        },
        "19fab086ca014410871efe50083cc8d8": {
          "model_module": "@jupyter-widgets/base",
          "model_name": "LayoutModel",
          "model_module_version": "1.2.0",
          "state": {
            "_view_name": "LayoutView",
            "grid_template_rows": null,
            "right": null,
            "justify_content": null,
            "_view_module": "@jupyter-widgets/base",
            "overflow": null,
            "_model_module_version": "1.2.0",
            "_view_count": null,
            "flex_flow": null,
            "width": null,
            "min_width": null,
            "border": null,
            "align_items": null,
            "bottom": null,
            "_model_module": "@jupyter-widgets/base",
            "top": null,
            "grid_column": null,
            "overflow_y": null,
            "overflow_x": null,
            "grid_auto_flow": null,
            "grid_area": null,
            "grid_template_columns": null,
            "flex": null,
            "_model_name": "LayoutModel",
            "justify_items": null,
            "grid_row": null,
            "max_height": null,
            "align_content": null,
            "visibility": null,
            "align_self": null,
            "height": null,
            "min_height": null,
            "padding": null,
            "grid_auto_rows": null,
            "grid_gap": null,
            "max_width": null,
            "order": null,
            "_view_module_version": "1.2.0",
            "grid_template_areas": null,
            "object_position": null,
            "object_fit": null,
            "grid_auto_columns": null,
            "margin": null,
            "display": null,
            "left": null
          }
        },
        "a599ac8bc03544f6a1d1b3987654666f": {
          "model_module": "@jupyter-widgets/controls",
          "model_name": "FloatProgressModel",
          "model_module_version": "1.5.0",
          "state": {
            "_view_name": "ProgressView",
            "style": "IPY_MODEL_0f6a433c52634eb6910216e9254b2403",
            "_dom_classes": [],
            "description": "Downloading: 100%",
            "_model_name": "FloatProgressModel",
            "bar_style": "success",
            "max": 466062,
            "_view_module": "@jupyter-widgets/controls",
            "_model_module_version": "1.5.0",
            "value": 466062,
            "_view_count": null,
            "_view_module_version": "1.5.0",
            "orientation": "horizontal",
            "min": 0,
            "description_tooltip": null,
            "_model_module": "@jupyter-widgets/controls",
            "layout": "IPY_MODEL_21c97d3a68104447bfd10d308a072be0"
          }
        },
        "f09c2ceb720a4dd9bc0672360b790879": {
          "model_module": "@jupyter-widgets/controls",
          "model_name": "HTMLModel",
          "model_module_version": "1.5.0",
          "state": {
            "_view_name": "HTMLView",
            "style": "IPY_MODEL_96679cc4b22441348553dc435387efc0",
            "_dom_classes": [],
            "description": "",
            "_model_name": "HTMLModel",
            "placeholder": "​",
            "_view_module": "@jupyter-widgets/controls",
            "_model_module_version": "1.5.0",
            "value": " 466k/466k [00:03&lt;00:00, 134kB/s]",
            "_view_count": null,
            "_view_module_version": "1.5.0",
            "description_tooltip": null,
            "_model_module": "@jupyter-widgets/controls",
            "layout": "IPY_MODEL_a64eb76192324d4493f45927f3e2d5cf"
          }
        },
        "0f6a433c52634eb6910216e9254b2403": {
          "model_module": "@jupyter-widgets/controls",
          "model_name": "ProgressStyleModel",
          "model_module_version": "1.5.0",
          "state": {
            "_view_name": "StyleView",
            "_model_name": "ProgressStyleModel",
            "description_width": "initial",
            "_view_module": "@jupyter-widgets/base",
            "_model_module_version": "1.5.0",
            "_view_count": null,
            "_view_module_version": "1.2.0",
            "bar_color": null,
            "_model_module": "@jupyter-widgets/controls"
          }
        },
        "21c97d3a68104447bfd10d308a072be0": {
          "model_module": "@jupyter-widgets/base",
          "model_name": "LayoutModel",
          "model_module_version": "1.2.0",
          "state": {
            "_view_name": "LayoutView",
            "grid_template_rows": null,
            "right": null,
            "justify_content": null,
            "_view_module": "@jupyter-widgets/base",
            "overflow": null,
            "_model_module_version": "1.2.0",
            "_view_count": null,
            "flex_flow": null,
            "width": null,
            "min_width": null,
            "border": null,
            "align_items": null,
            "bottom": null,
            "_model_module": "@jupyter-widgets/base",
            "top": null,
            "grid_column": null,
            "overflow_y": null,
            "overflow_x": null,
            "grid_auto_flow": null,
            "grid_area": null,
            "grid_template_columns": null,
            "flex": null,
            "_model_name": "LayoutModel",
            "justify_items": null,
            "grid_row": null,
            "max_height": null,
            "align_content": null,
            "visibility": null,
            "align_self": null,
            "height": null,
            "min_height": null,
            "padding": null,
            "grid_auto_rows": null,
            "grid_gap": null,
            "max_width": null,
            "order": null,
            "_view_module_version": "1.2.0",
            "grid_template_areas": null,
            "object_position": null,
            "object_fit": null,
            "grid_auto_columns": null,
            "margin": null,
            "display": null,
            "left": null
          }
        },
        "96679cc4b22441348553dc435387efc0": {
          "model_module": "@jupyter-widgets/controls",
          "model_name": "DescriptionStyleModel",
          "model_module_version": "1.5.0",
          "state": {
            "_view_name": "StyleView",
            "_model_name": "DescriptionStyleModel",
            "description_width": "",
            "_view_module": "@jupyter-widgets/base",
            "_model_module_version": "1.5.0",
            "_view_count": null,
            "_view_module_version": "1.2.0",
            "_model_module": "@jupyter-widgets/controls"
          }
        },
        "a64eb76192324d4493f45927f3e2d5cf": {
          "model_module": "@jupyter-widgets/base",
          "model_name": "LayoutModel",
          "model_module_version": "1.2.0",
          "state": {
            "_view_name": "LayoutView",
            "grid_template_rows": null,
            "right": null,
            "justify_content": null,
            "_view_module": "@jupyter-widgets/base",
            "overflow": null,
            "_model_module_version": "1.2.0",
            "_view_count": null,
            "flex_flow": null,
            "width": null,
            "min_width": null,
            "border": null,
            "align_items": null,
            "bottom": null,
            "_model_module": "@jupyter-widgets/base",
            "top": null,
            "grid_column": null,
            "overflow_y": null,
            "overflow_x": null,
            "grid_auto_flow": null,
            "grid_area": null,
            "grid_template_columns": null,
            "flex": null,
            "_model_name": "LayoutModel",
            "justify_items": null,
            "grid_row": null,
            "max_height": null,
            "align_content": null,
            "visibility": null,
            "align_self": null,
            "height": null,
            "min_height": null,
            "padding": null,
            "grid_auto_rows": null,
            "grid_gap": null,
            "max_width": null,
            "order": null,
            "_view_module_version": "1.2.0",
            "grid_template_areas": null,
            "object_position": null,
            "object_fit": null,
            "grid_auto_columns": null,
            "margin": null,
            "display": null,
            "left": null
          }
        },
        "54676f21595e4b89a523a478b4dd93f5": {
          "model_module": "@jupyter-widgets/controls",
          "model_name": "HBoxModel",
          "model_module_version": "1.5.0",
          "state": {
            "_view_name": "HBoxView",
            "_dom_classes": [],
            "_model_name": "HBoxModel",
            "_view_module": "@jupyter-widgets/controls",
            "_model_module_version": "1.5.0",
            "_view_count": null,
            "_view_module_version": "1.5.0",
            "box_style": "",
            "layout": "IPY_MODEL_bf950e8ef4c24b86876541b81dcbf9d7",
            "_model_module": "@jupyter-widgets/controls",
            "children": [
              "IPY_MODEL_78afd7ae0d25412eba2b1530d5595552",
              "IPY_MODEL_8c28a76867b24e13a3e593f3c919a54c"
            ]
          }
        },
        "bf950e8ef4c24b86876541b81dcbf9d7": {
          "model_module": "@jupyter-widgets/base",
          "model_name": "LayoutModel",
          "model_module_version": "1.2.0",
          "state": {
            "_view_name": "LayoutView",
            "grid_template_rows": null,
            "right": null,
            "justify_content": null,
            "_view_module": "@jupyter-widgets/base",
            "overflow": null,
            "_model_module_version": "1.2.0",
            "_view_count": null,
            "flex_flow": null,
            "width": null,
            "min_width": null,
            "border": null,
            "align_items": null,
            "bottom": null,
            "_model_module": "@jupyter-widgets/base",
            "top": null,
            "grid_column": null,
            "overflow_y": null,
            "overflow_x": null,
            "grid_auto_flow": null,
            "grid_area": null,
            "grid_template_columns": null,
            "flex": null,
            "_model_name": "LayoutModel",
            "justify_items": null,
            "grid_row": null,
            "max_height": null,
            "align_content": null,
            "visibility": null,
            "align_self": null,
            "height": null,
            "min_height": null,
            "padding": null,
            "grid_auto_rows": null,
            "grid_gap": null,
            "max_width": null,
            "order": null,
            "_view_module_version": "1.2.0",
            "grid_template_areas": null,
            "object_position": null,
            "object_fit": null,
            "grid_auto_columns": null,
            "margin": null,
            "display": null,
            "left": null
          }
        },
        "78afd7ae0d25412eba2b1530d5595552": {
          "model_module": "@jupyter-widgets/controls",
          "model_name": "FloatProgressModel",
          "model_module_version": "1.5.0",
          "state": {
            "_view_name": "ProgressView",
            "style": "IPY_MODEL_a65bc4fe262e4939a281150a346ee019",
            "_dom_classes": [],
            "description": "Downloading: 100%",
            "_model_name": "FloatProgressModel",
            "bar_style": "success",
            "max": 28,
            "_view_module": "@jupyter-widgets/controls",
            "_model_module_version": "1.5.0",
            "value": 28,
            "_view_count": null,
            "_view_module_version": "1.5.0",
            "orientation": "horizontal",
            "min": 0,
            "description_tooltip": null,
            "_model_module": "@jupyter-widgets/controls",
            "layout": "IPY_MODEL_8d23591ccc67452aab9bc62f3a584805"
          }
        },
        "8c28a76867b24e13a3e593f3c919a54c": {
          "model_module": "@jupyter-widgets/controls",
          "model_name": "HTMLModel",
          "model_module_version": "1.5.0",
          "state": {
            "_view_name": "HTMLView",
            "style": "IPY_MODEL_d297840851db4f15885c60ffe6b931ea",
            "_dom_classes": [],
            "description": "",
            "_model_name": "HTMLModel",
            "placeholder": "​",
            "_view_module": "@jupyter-widgets/controls",
            "_model_module_version": "1.5.0",
            "value": " 28.0/28.0 [00:01&lt;00:00, 15.3B/s]",
            "_view_count": null,
            "_view_module_version": "1.5.0",
            "description_tooltip": null,
            "_model_module": "@jupyter-widgets/controls",
            "layout": "IPY_MODEL_52e4c0eb4d614043ad169a299fd837fc"
          }
        },
        "a65bc4fe262e4939a281150a346ee019": {
          "model_module": "@jupyter-widgets/controls",
          "model_name": "ProgressStyleModel",
          "model_module_version": "1.5.0",
          "state": {
            "_view_name": "StyleView",
            "_model_name": "ProgressStyleModel",
            "description_width": "initial",
            "_view_module": "@jupyter-widgets/base",
            "_model_module_version": "1.5.0",
            "_view_count": null,
            "_view_module_version": "1.2.0",
            "bar_color": null,
            "_model_module": "@jupyter-widgets/controls"
          }
        },
        "8d23591ccc67452aab9bc62f3a584805": {
          "model_module": "@jupyter-widgets/base",
          "model_name": "LayoutModel",
          "model_module_version": "1.2.0",
          "state": {
            "_view_name": "LayoutView",
            "grid_template_rows": null,
            "right": null,
            "justify_content": null,
            "_view_module": "@jupyter-widgets/base",
            "overflow": null,
            "_model_module_version": "1.2.0",
            "_view_count": null,
            "flex_flow": null,
            "width": null,
            "min_width": null,
            "border": null,
            "align_items": null,
            "bottom": null,
            "_model_module": "@jupyter-widgets/base",
            "top": null,
            "grid_column": null,
            "overflow_y": null,
            "overflow_x": null,
            "grid_auto_flow": null,
            "grid_area": null,
            "grid_template_columns": null,
            "flex": null,
            "_model_name": "LayoutModel",
            "justify_items": null,
            "grid_row": null,
            "max_height": null,
            "align_content": null,
            "visibility": null,
            "align_self": null,
            "height": null,
            "min_height": null,
            "padding": null,
            "grid_auto_rows": null,
            "grid_gap": null,
            "max_width": null,
            "order": null,
            "_view_module_version": "1.2.0",
            "grid_template_areas": null,
            "object_position": null,
            "object_fit": null,
            "grid_auto_columns": null,
            "margin": null,
            "display": null,
            "left": null
          }
        },
        "d297840851db4f15885c60ffe6b931ea": {
          "model_module": "@jupyter-widgets/controls",
          "model_name": "DescriptionStyleModel",
          "model_module_version": "1.5.0",
          "state": {
            "_view_name": "StyleView",
            "_model_name": "DescriptionStyleModel",
            "description_width": "",
            "_view_module": "@jupyter-widgets/base",
            "_model_module_version": "1.5.0",
            "_view_count": null,
            "_view_module_version": "1.2.0",
            "_model_module": "@jupyter-widgets/controls"
          }
        },
        "52e4c0eb4d614043ad169a299fd837fc": {
          "model_module": "@jupyter-widgets/base",
          "model_name": "LayoutModel",
          "model_module_version": "1.2.0",
          "state": {
            "_view_name": "LayoutView",
            "grid_template_rows": null,
            "right": null,
            "justify_content": null,
            "_view_module": "@jupyter-widgets/base",
            "overflow": null,
            "_model_module_version": "1.2.0",
            "_view_count": null,
            "flex_flow": null,
            "width": null,
            "min_width": null,
            "border": null,
            "align_items": null,
            "bottom": null,
            "_model_module": "@jupyter-widgets/base",
            "top": null,
            "grid_column": null,
            "overflow_y": null,
            "overflow_x": null,
            "grid_auto_flow": null,
            "grid_area": null,
            "grid_template_columns": null,
            "flex": null,
            "_model_name": "LayoutModel",
            "justify_items": null,
            "grid_row": null,
            "max_height": null,
            "align_content": null,
            "visibility": null,
            "align_self": null,
            "height": null,
            "min_height": null,
            "padding": null,
            "grid_auto_rows": null,
            "grid_gap": null,
            "max_width": null,
            "order": null,
            "_view_module_version": "1.2.0",
            "grid_template_areas": null,
            "object_position": null,
            "object_fit": null,
            "grid_auto_columns": null,
            "margin": null,
            "display": null,
            "left": null
          }
        },
        "d57a8d22f29b458bb1c15b261b3c4269": {
          "model_module": "@jupyter-widgets/controls",
          "model_name": "HBoxModel",
          "model_module_version": "1.5.0",
          "state": {
            "_view_name": "HBoxView",
            "_dom_classes": [],
            "_model_name": "HBoxModel",
            "_view_module": "@jupyter-widgets/controls",
            "_model_module_version": "1.5.0",
            "_view_count": null,
            "_view_module_version": "1.5.0",
            "box_style": "",
            "layout": "IPY_MODEL_84d2a140d79b472d8817562bc9a7c090",
            "_model_module": "@jupyter-widgets/controls",
            "children": [
              "IPY_MODEL_fd378b193a0f45d8b7e21ae6398ce18b",
              "IPY_MODEL_d905fef7708744a2b4628cc308841008"
            ]
          }
        },
        "84d2a140d79b472d8817562bc9a7c090": {
          "model_module": "@jupyter-widgets/base",
          "model_name": "LayoutModel",
          "model_module_version": "1.2.0",
          "state": {
            "_view_name": "LayoutView",
            "grid_template_rows": null,
            "right": null,
            "justify_content": null,
            "_view_module": "@jupyter-widgets/base",
            "overflow": null,
            "_model_module_version": "1.2.0",
            "_view_count": null,
            "flex_flow": null,
            "width": null,
            "min_width": null,
            "border": null,
            "align_items": null,
            "bottom": null,
            "_model_module": "@jupyter-widgets/base",
            "top": null,
            "grid_column": null,
            "overflow_y": null,
            "overflow_x": null,
            "grid_auto_flow": null,
            "grid_area": null,
            "grid_template_columns": null,
            "flex": null,
            "_model_name": "LayoutModel",
            "justify_items": null,
            "grid_row": null,
            "max_height": null,
            "align_content": null,
            "visibility": null,
            "align_self": null,
            "height": null,
            "min_height": null,
            "padding": null,
            "grid_auto_rows": null,
            "grid_gap": null,
            "max_width": null,
            "order": null,
            "_view_module_version": "1.2.0",
            "grid_template_areas": null,
            "object_position": null,
            "object_fit": null,
            "grid_auto_columns": null,
            "margin": null,
            "display": null,
            "left": null
          }
        },
        "fd378b193a0f45d8b7e21ae6398ce18b": {
          "model_module": "@jupyter-widgets/controls",
          "model_name": "FloatProgressModel",
          "model_module_version": "1.5.0",
          "state": {
            "_view_name": "ProgressView",
            "style": "IPY_MODEL_070791504765497d99853dbd1bb0c92c",
            "_dom_classes": [],
            "description": "Downloading: 100%",
            "_model_name": "FloatProgressModel",
            "bar_style": "success",
            "max": 570,
            "_view_module": "@jupyter-widgets/controls",
            "_model_module_version": "1.5.0",
            "value": 570,
            "_view_count": null,
            "_view_module_version": "1.5.0",
            "orientation": "horizontal",
            "min": 0,
            "description_tooltip": null,
            "_model_module": "@jupyter-widgets/controls",
            "layout": "IPY_MODEL_55c0134bdc014b3abdabdf8d999221a4"
          }
        },
        "d905fef7708744a2b4628cc308841008": {
          "model_module": "@jupyter-widgets/controls",
          "model_name": "HTMLModel",
          "model_module_version": "1.5.0",
          "state": {
            "_view_name": "HTMLView",
            "style": "IPY_MODEL_e4f81dcf411e46f7945423f812eb4d18",
            "_dom_classes": [],
            "description": "",
            "_model_name": "HTMLModel",
            "placeholder": "​",
            "_view_module": "@jupyter-widgets/controls",
            "_model_module_version": "1.5.0",
            "value": " 570/570 [00:25&lt;00:00, 22.0B/s]",
            "_view_count": null,
            "_view_module_version": "1.5.0",
            "description_tooltip": null,
            "_model_module": "@jupyter-widgets/controls",
            "layout": "IPY_MODEL_46abc33dc7834d50874d685525d6f140"
          }
        },
        "070791504765497d99853dbd1bb0c92c": {
          "model_module": "@jupyter-widgets/controls",
          "model_name": "ProgressStyleModel",
          "model_module_version": "1.5.0",
          "state": {
            "_view_name": "StyleView",
            "_model_name": "ProgressStyleModel",
            "description_width": "initial",
            "_view_module": "@jupyter-widgets/base",
            "_model_module_version": "1.5.0",
            "_view_count": null,
            "_view_module_version": "1.2.0",
            "bar_color": null,
            "_model_module": "@jupyter-widgets/controls"
          }
        },
        "55c0134bdc014b3abdabdf8d999221a4": {
          "model_module": "@jupyter-widgets/base",
          "model_name": "LayoutModel",
          "model_module_version": "1.2.0",
          "state": {
            "_view_name": "LayoutView",
            "grid_template_rows": null,
            "right": null,
            "justify_content": null,
            "_view_module": "@jupyter-widgets/base",
            "overflow": null,
            "_model_module_version": "1.2.0",
            "_view_count": null,
            "flex_flow": null,
            "width": null,
            "min_width": null,
            "border": null,
            "align_items": null,
            "bottom": null,
            "_model_module": "@jupyter-widgets/base",
            "top": null,
            "grid_column": null,
            "overflow_y": null,
            "overflow_x": null,
            "grid_auto_flow": null,
            "grid_area": null,
            "grid_template_columns": null,
            "flex": null,
            "_model_name": "LayoutModel",
            "justify_items": null,
            "grid_row": null,
            "max_height": null,
            "align_content": null,
            "visibility": null,
            "align_self": null,
            "height": null,
            "min_height": null,
            "padding": null,
            "grid_auto_rows": null,
            "grid_gap": null,
            "max_width": null,
            "order": null,
            "_view_module_version": "1.2.0",
            "grid_template_areas": null,
            "object_position": null,
            "object_fit": null,
            "grid_auto_columns": null,
            "margin": null,
            "display": null,
            "left": null
          }
        },
        "e4f81dcf411e46f7945423f812eb4d18": {
          "model_module": "@jupyter-widgets/controls",
          "model_name": "DescriptionStyleModel",
          "model_module_version": "1.5.0",
          "state": {
            "_view_name": "StyleView",
            "_model_name": "DescriptionStyleModel",
            "description_width": "",
            "_view_module": "@jupyter-widgets/base",
            "_model_module_version": "1.5.0",
            "_view_count": null,
            "_view_module_version": "1.2.0",
            "_model_module": "@jupyter-widgets/controls"
          }
        },
        "46abc33dc7834d50874d685525d6f140": {
          "model_module": "@jupyter-widgets/base",
          "model_name": "LayoutModel",
          "model_module_version": "1.2.0",
          "state": {
            "_view_name": "LayoutView",
            "grid_template_rows": null,
            "right": null,
            "justify_content": null,
            "_view_module": "@jupyter-widgets/base",
            "overflow": null,
            "_model_module_version": "1.2.0",
            "_view_count": null,
            "flex_flow": null,
            "width": null,
            "min_width": null,
            "border": null,
            "align_items": null,
            "bottom": null,
            "_model_module": "@jupyter-widgets/base",
            "top": null,
            "grid_column": null,
            "overflow_y": null,
            "overflow_x": null,
            "grid_auto_flow": null,
            "grid_area": null,
            "grid_template_columns": null,
            "flex": null,
            "_model_name": "LayoutModel",
            "justify_items": null,
            "grid_row": null,
            "max_height": null,
            "align_content": null,
            "visibility": null,
            "align_self": null,
            "height": null,
            "min_height": null,
            "padding": null,
            "grid_auto_rows": null,
            "grid_gap": null,
            "max_width": null,
            "order": null,
            "_view_module_version": "1.2.0",
            "grid_template_areas": null,
            "object_position": null,
            "object_fit": null,
            "grid_auto_columns": null,
            "margin": null,
            "display": null,
            "left": null
          }
        },
        "ef53b15fe9bc470aabddc506f91f8645": {
          "model_module": "@jupyter-widgets/controls",
          "model_name": "HBoxModel",
          "model_module_version": "1.5.0",
          "state": {
            "_view_name": "HBoxView",
            "_dom_classes": [],
            "_model_name": "HBoxModel",
            "_view_module": "@jupyter-widgets/controls",
            "_model_module_version": "1.5.0",
            "_view_count": null,
            "_view_module_version": "1.5.0",
            "box_style": "",
            "layout": "IPY_MODEL_09895770e7964e9483f6eeb8a0b868d8",
            "_model_module": "@jupyter-widgets/controls",
            "children": [
              "IPY_MODEL_1c7b7dea830f416a966486b044f8f57f",
              "IPY_MODEL_9d697d5b6a7f42fab8d93e12d3da4f67"
            ]
          }
        },
        "09895770e7964e9483f6eeb8a0b868d8": {
          "model_module": "@jupyter-widgets/base",
          "model_name": "LayoutModel",
          "model_module_version": "1.2.0",
          "state": {
            "_view_name": "LayoutView",
            "grid_template_rows": null,
            "right": null,
            "justify_content": null,
            "_view_module": "@jupyter-widgets/base",
            "overflow": null,
            "_model_module_version": "1.2.0",
            "_view_count": null,
            "flex_flow": null,
            "width": null,
            "min_width": null,
            "border": null,
            "align_items": null,
            "bottom": null,
            "_model_module": "@jupyter-widgets/base",
            "top": null,
            "grid_column": null,
            "overflow_y": null,
            "overflow_x": null,
            "grid_auto_flow": null,
            "grid_area": null,
            "grid_template_columns": null,
            "flex": null,
            "_model_name": "LayoutModel",
            "justify_items": null,
            "grid_row": null,
            "max_height": null,
            "align_content": null,
            "visibility": null,
            "align_self": null,
            "height": null,
            "min_height": null,
            "padding": null,
            "grid_auto_rows": null,
            "grid_gap": null,
            "max_width": null,
            "order": null,
            "_view_module_version": "1.2.0",
            "grid_template_areas": null,
            "object_position": null,
            "object_fit": null,
            "grid_auto_columns": null,
            "margin": null,
            "display": null,
            "left": null
          }
        },
        "1c7b7dea830f416a966486b044f8f57f": {
          "model_module": "@jupyter-widgets/controls",
          "model_name": "FloatProgressModel",
          "model_module_version": "1.5.0",
          "state": {
            "_view_name": "ProgressView",
            "style": "IPY_MODEL_92add1aecc9d42078a30d21f73cd5a47",
            "_dom_classes": [],
            "description": "Downloading: 100%",
            "_model_name": "FloatProgressModel",
            "bar_style": "success",
            "max": 440473133,
            "_view_module": "@jupyter-widgets/controls",
            "_model_module_version": "1.5.0",
            "value": 440473133,
            "_view_count": null,
            "_view_module_version": "1.5.0",
            "orientation": "horizontal",
            "min": 0,
            "description_tooltip": null,
            "_model_module": "@jupyter-widgets/controls",
            "layout": "IPY_MODEL_a6b8f2a1ffd0406ea21b8b7c7da39403"
          }
        },
        "9d697d5b6a7f42fab8d93e12d3da4f67": {
          "model_module": "@jupyter-widgets/controls",
          "model_name": "HTMLModel",
          "model_module_version": "1.5.0",
          "state": {
            "_view_name": "HTMLView",
            "style": "IPY_MODEL_51f63fc9abdb49f8a434646363e9c6a8",
            "_dom_classes": [],
            "description": "",
            "_model_name": "HTMLModel",
            "placeholder": "​",
            "_view_module": "@jupyter-widgets/controls",
            "_model_module_version": "1.5.0",
            "value": " 440M/440M [00:14&lt;00:00, 30.9MB/s]",
            "_view_count": null,
            "_view_module_version": "1.5.0",
            "description_tooltip": null,
            "_model_module": "@jupyter-widgets/controls",
            "layout": "IPY_MODEL_d1d8e4a0e0e04a3fab418c1b2409737a"
          }
        },
        "92add1aecc9d42078a30d21f73cd5a47": {
          "model_module": "@jupyter-widgets/controls",
          "model_name": "ProgressStyleModel",
          "model_module_version": "1.5.0",
          "state": {
            "_view_name": "StyleView",
            "_model_name": "ProgressStyleModel",
            "description_width": "initial",
            "_view_module": "@jupyter-widgets/base",
            "_model_module_version": "1.5.0",
            "_view_count": null,
            "_view_module_version": "1.2.0",
            "bar_color": null,
            "_model_module": "@jupyter-widgets/controls"
          }
        },
        "a6b8f2a1ffd0406ea21b8b7c7da39403": {
          "model_module": "@jupyter-widgets/base",
          "model_name": "LayoutModel",
          "model_module_version": "1.2.0",
          "state": {
            "_view_name": "LayoutView",
            "grid_template_rows": null,
            "right": null,
            "justify_content": null,
            "_view_module": "@jupyter-widgets/base",
            "overflow": null,
            "_model_module_version": "1.2.0",
            "_view_count": null,
            "flex_flow": null,
            "width": null,
            "min_width": null,
            "border": null,
            "align_items": null,
            "bottom": null,
            "_model_module": "@jupyter-widgets/base",
            "top": null,
            "grid_column": null,
            "overflow_y": null,
            "overflow_x": null,
            "grid_auto_flow": null,
            "grid_area": null,
            "grid_template_columns": null,
            "flex": null,
            "_model_name": "LayoutModel",
            "justify_items": null,
            "grid_row": null,
            "max_height": null,
            "align_content": null,
            "visibility": null,
            "align_self": null,
            "height": null,
            "min_height": null,
            "padding": null,
            "grid_auto_rows": null,
            "grid_gap": null,
            "max_width": null,
            "order": null,
            "_view_module_version": "1.2.0",
            "grid_template_areas": null,
            "object_position": null,
            "object_fit": null,
            "grid_auto_columns": null,
            "margin": null,
            "display": null,
            "left": null
          }
        },
        "51f63fc9abdb49f8a434646363e9c6a8": {
          "model_module": "@jupyter-widgets/controls",
          "model_name": "DescriptionStyleModel",
          "model_module_version": "1.5.0",
          "state": {
            "_view_name": "StyleView",
            "_model_name": "DescriptionStyleModel",
            "description_width": "",
            "_view_module": "@jupyter-widgets/base",
            "_model_module_version": "1.5.0",
            "_view_count": null,
            "_view_module_version": "1.2.0",
            "_model_module": "@jupyter-widgets/controls"
          }
        },
        "d1d8e4a0e0e04a3fab418c1b2409737a": {
          "model_module": "@jupyter-widgets/base",
          "model_name": "LayoutModel",
          "model_module_version": "1.2.0",
          "state": {
            "_view_name": "LayoutView",
            "grid_template_rows": null,
            "right": null,
            "justify_content": null,
            "_view_module": "@jupyter-widgets/base",
            "overflow": null,
            "_model_module_version": "1.2.0",
            "_view_count": null,
            "flex_flow": null,
            "width": null,
            "min_width": null,
            "border": null,
            "align_items": null,
            "bottom": null,
            "_model_module": "@jupyter-widgets/base",
            "top": null,
            "grid_column": null,
            "overflow_y": null,
            "overflow_x": null,
            "grid_auto_flow": null,
            "grid_area": null,
            "grid_template_columns": null,
            "flex": null,
            "_model_name": "LayoutModel",
            "justify_items": null,
            "grid_row": null,
            "max_height": null,
            "align_content": null,
            "visibility": null,
            "align_self": null,
            "height": null,
            "min_height": null,
            "padding": null,
            "grid_auto_rows": null,
            "grid_gap": null,
            "max_width": null,
            "order": null,
            "_view_module_version": "1.2.0",
            "grid_template_areas": null,
            "object_position": null,
            "object_fit": null,
            "grid_auto_columns": null,
            "margin": null,
            "display": null,
            "left": null
          }
        }
      }
    }
  },
  "cells": [
    {
      "cell_type": "markdown",
      "metadata": {
        "id": "view-in-github",
        "colab_type": "text"
      },
      "source": [
        "<a href=\"https://colab.research.google.com/github/angela-kralevska/COVID19_MK_project/blob/master/FineTuningBERT_Transformers_MoodyLyrics.ipynb\" target=\"_parent\"><img src=\"https://colab.research.google.com/assets/colab-badge.svg\" alt=\"Open In Colab\"/></a>"
      ]
    },
    {
      "cell_type": "markdown",
      "metadata": {
        "id": "x7S4OcJit4-E"
      },
      "source": [
        "# Loading the dataset Moody Lyrics"
      ]
    },
    {
      "cell_type": "code",
      "metadata": {
        "colab": {
          "base_uri": "https://localhost:8080/"
        },
        "id": "sz-WhXsfMkZL",
        "outputId": "56570568-35bb-4337-fca1-a19c94dbb67e"
      },
      "source": [
        "from google.colab import drive\n",
        "drive.mount('/content/drive')"
      ],
      "execution_count": null,
      "outputs": [
        {
          "output_type": "stream",
          "text": [
            "Mounted at /content/drive\n"
          ],
          "name": "stdout"
        }
      ]
    },
    {
      "cell_type": "code",
      "metadata": {
        "colab": {
          "base_uri": "https://localhost:8080/",
          "height": 220
        },
        "id": "VFf6RqIvMl4u",
        "outputId": "acf57321-8c72-4f25-d76d-44caab74cdc1"
      },
      "source": [
        "import pandas as pd\n",
        "\n",
        "dataset_ml = pd.read_csv('drive/My Drive/MER_NLP/MoodyLyrics_complete.csv')\n",
        "del dataset_ml['Unnamed: 0']\n",
        "\n",
        "print(dataset_ml.shape)\n",
        "dataset_ml.head()"
      ],
      "execution_count": null,
      "outputs": [
        {
          "output_type": "stream",
          "text": [
            "(1968, 4)\n"
          ],
          "name": "stdout"
        },
        {
          "output_type": "execute_result",
          "data": {
            "text/html": [
              "<div>\n",
              "<style scoped>\n",
              "    .dataframe tbody tr th:only-of-type {\n",
              "        vertical-align: middle;\n",
              "    }\n",
              "\n",
              "    .dataframe tbody tr th {\n",
              "        vertical-align: top;\n",
              "    }\n",
              "\n",
              "    .dataframe thead th {\n",
              "        text-align: right;\n",
              "    }\n",
              "</style>\n",
              "<table border=\"1\" class=\"dataframe\">\n",
              "  <thead>\n",
              "    <tr style=\"text-align: right;\">\n",
              "      <th></th>\n",
              "      <th>Artist</th>\n",
              "      <th>Title</th>\n",
              "      <th>Mood</th>\n",
              "      <th>Lyrics</th>\n",
              "    </tr>\n",
              "  </thead>\n",
              "  <tbody>\n",
              "    <tr>\n",
              "      <th>0</th>\n",
              "      <td>.38 Special</td>\n",
              "      <td>Fantasy Girl</td>\n",
              "      <td>relaxed</td>\n",
              "      <td>Lately, I'm learnin' That so many yearnings ar...</td>\n",
              "    </tr>\n",
              "    <tr>\n",
              "      <th>1</th>\n",
              "      <td>.38 Special</td>\n",
              "      <td>Second Chance</td>\n",
              "      <td>happy</td>\n",
              "      <td>Since you've been gone I feel my life slipping...</td>\n",
              "    </tr>\n",
              "    <tr>\n",
              "      <th>2</th>\n",
              "      <td>3 Inches Of Blood</td>\n",
              "      <td>Trial Of Champions</td>\n",
              "      <td>angry</td>\n",
              "      <td>Enslaved by warlords from far away lands Force...</td>\n",
              "    </tr>\n",
              "    <tr>\n",
              "      <th>3</th>\n",
              "      <td>30 Seconds To Mars</td>\n",
              "      <td>Search And Destroy</td>\n",
              "      <td>angry</td>\n",
              "      <td>Grab your gun, time to go to hell I'm no hero ...</td>\n",
              "    </tr>\n",
              "    <tr>\n",
              "      <th>4</th>\n",
              "      <td>311</td>\n",
              "      <td>Lovesong</td>\n",
              "      <td>happy</td>\n",
              "      <td>Whenever I'm alone with you You make me feel l...</td>\n",
              "    </tr>\n",
              "  </tbody>\n",
              "</table>\n",
              "</div>"
            ],
            "text/plain": [
              "               Artist  ...                                             Lyrics\n",
              "0         .38 Special  ...  Lately, I'm learnin' That so many yearnings ar...\n",
              "1         .38 Special  ...  Since you've been gone I feel my life slipping...\n",
              "2   3 Inches Of Blood  ...  Enslaved by warlords from far away lands Force...\n",
              "3  30 Seconds To Mars  ...  Grab your gun, time to go to hell I'm no hero ...\n",
              "4                 311  ...  Whenever I'm alone with you You make me feel l...\n",
              "\n",
              "[5 rows x 4 columns]"
            ]
          },
          "metadata": {
            "tags": []
          },
          "execution_count": 2
        }
      ]
    },
    {
      "cell_type": "code",
      "metadata": {
        "id": "54_72G6lMpvH"
      },
      "source": [
        "filter = dataset_ml[\"Lyrics\"] != \"\"\n",
        "dataset_ml = dataset_ml[filter]"
      ],
      "execution_count": null,
      "outputs": []
    },
    {
      "cell_type": "code",
      "metadata": {
        "id": "wiF3YHLgMsru"
      },
      "source": [
        "dataset_ml = dataset_ml.dropna()\n",
        "dataset_ml = dataset_ml.drop_duplicates(subset='Lyrics', keep=\"first\")"
      ],
      "execution_count": null,
      "outputs": []
    },
    {
      "cell_type": "code",
      "metadata": {
        "colab": {
          "base_uri": "https://localhost:8080/",
          "height": 172
        },
        "id": "GdCZbO47M2-z",
        "outputId": "900a7baa-19e8-4985-cff3-00c6b89dc35c"
      },
      "source": [
        "dataset_ml.describe()"
      ],
      "execution_count": null,
      "outputs": [
        {
          "output_type": "execute_result",
          "data": {
            "text/html": [
              "<div>\n",
              "<style scoped>\n",
              "    .dataframe tbody tr th:only-of-type {\n",
              "        vertical-align: middle;\n",
              "    }\n",
              "\n",
              "    .dataframe tbody tr th {\n",
              "        vertical-align: top;\n",
              "    }\n",
              "\n",
              "    .dataframe thead th {\n",
              "        text-align: right;\n",
              "    }\n",
              "</style>\n",
              "<table border=\"1\" class=\"dataframe\">\n",
              "  <thead>\n",
              "    <tr style=\"text-align: right;\">\n",
              "      <th></th>\n",
              "      <th>Artist</th>\n",
              "      <th>Title</th>\n",
              "      <th>Mood</th>\n",
              "      <th>Lyrics</th>\n",
              "    </tr>\n",
              "  </thead>\n",
              "  <tbody>\n",
              "    <tr>\n",
              "      <th>count</th>\n",
              "      <td>1927</td>\n",
              "      <td>1927</td>\n",
              "      <td>1927</td>\n",
              "      <td>1927</td>\n",
              "    </tr>\n",
              "    <tr>\n",
              "      <th>unique</th>\n",
              "      <td>1376</td>\n",
              "      <td>1771</td>\n",
              "      <td>4</td>\n",
              "      <td>1927</td>\n",
              "    </tr>\n",
              "    <tr>\n",
              "      <th>top</th>\n",
              "      <td>The Beatles</td>\n",
              "      <td>Silent Night</td>\n",
              "      <td>relaxed</td>\n",
              "      <td>Rollin' down a long highway out through New Me...</td>\n",
              "    </tr>\n",
              "    <tr>\n",
              "      <th>freq</th>\n",
              "      <td>23</td>\n",
              "      <td>20</td>\n",
              "      <td>486</td>\n",
              "      <td>1</td>\n",
              "    </tr>\n",
              "  </tbody>\n",
              "</table>\n",
              "</div>"
            ],
            "text/plain": [
              "             Artist  ...                                             Lyrics\n",
              "count          1927  ...                                               1927\n",
              "unique         1376  ...                                               1927\n",
              "top     The Beatles  ...  Rollin' down a long highway out through New Me...\n",
              "freq             23  ...                                                  1\n",
              "\n",
              "[4 rows x 4 columns]"
            ]
          },
          "metadata": {
            "tags": []
          },
          "execution_count": 5
        }
      ]
    },
    {
      "cell_type": "code",
      "metadata": {
        "colab": {
          "base_uri": "https://localhost:8080/",
          "height": 370
        },
        "id": "fSzkmBMrM6sU",
        "outputId": "668f228a-bfb2-4c3d-c3c5-a1a7fc50ef06"
      },
      "source": [
        "import numpy as np\n",
        "import seaborn as sns\n",
        "sns.set_style(\"whitegrid\")\n",
        "sns.set_color_codes()\n",
        "import matplotlib.pyplot as plt\n",
        "\n",
        "emotion_labels = ['happy', 'sad', 'relaxed', 'angry']\n",
        "emotionDistribution = dataset_ml.Mood.value_counts()\n",
        "print(emotionDistribution)\n",
        "ax = sns.barplot(x=np.array(range(4)),y=emotionDistribution)\n",
        "ax.set_title('Emotion distribution',fontsize=20)\n",
        "ax.set_xticklabels(emotion_labels)\n",
        "plt.show()"
      ],
      "execution_count": null,
      "outputs": [
        {
          "output_type": "stream",
          "text": [
            "relaxed    486\n",
            "happy      484\n",
            "sad        480\n",
            "angry      477\n",
            "Name: Mood, dtype: int64\n"
          ],
          "name": "stdout"
        },
        {
          "output_type": "display_data",
          "data": {
            "image/png": "[encoded data removed]",
            "text/plain": [
              "<Figure size 432x288 with 1 Axes>"
            ]
          },
          "metadata": {
            "tags": []
          }
        }
      ]
    },
    {
      "cell_type": "code",
      "metadata": {
        "colab": {
          "base_uri": "https://localhost:8080/"
        },
        "id": "Aai_kYcONMwe",
        "outputId": "db9150ca-9a2d-4b5b-c9f0-86740868b15f"
      },
      "source": [
        "!pip install langdetect"
      ],
      "execution_count": null,
      "outputs": [
        {
          "output_type": "stream",
          "text": [
            "Collecting langdetect\n",
            "  Downloading langdetect-1.0.9.tar.gz (981 kB)\n",
            "\u001b[?25l\r\u001b[K     |▍                               | 10 kB 24.6 MB/s eta 0:00:01\r\u001b[K     |▊                               | 20 kB 29.2 MB/s eta 0:00:01\r\u001b[K     |█                               | 30 kB 23.7 MB/s eta 0:00:01\r\u001b[K     |█▍                              | 40 kB 19.4 MB/s eta 0:00:01\r\u001b[K     |█▊                              | 51 kB 15.1 MB/s eta 0:00:01\r\u001b[K     |██                              | 61 kB 13.3 MB/s eta 0:00:01\r\u001b[K     |██▍                             | 71 kB 12.8 MB/s eta 0:00:01\r\u001b[K     |██▊                             | 81 kB 13.9 MB/s eta 0:00:01\r\u001b[K     |███                             | 92 kB 11.9 MB/s eta 0:00:01\r\u001b[K     |███▍                            | 102 kB 12.8 MB/s eta 0:00:01\r\u001b[K     |███▊                            | 112 kB 12.8 MB/s eta 0:00:01\r\u001b[K     |████                            | 122 kB 12.8 MB/s eta 0:00:01\r\u001b[K     |████▍                           | 133 kB 12.8 MB/s eta 0:00:01\r\u001b[K     |████▊                           | 143 kB 12.8 MB/s eta 0:00:01\r\u001b[K     |█████                           | 153 kB 12.8 MB/s eta 0:00:01\r\u001b[K     |█████▍                          | 163 kB 12.8 MB/s eta 0:00:01\r\u001b[K     |█████▊                          | 174 kB 12.8 MB/s eta 0:00:01\r\u001b[K     |██████                          | 184 kB 12.8 MB/s eta 0:00:01\r\u001b[K     |██████▍                         | 194 kB 12.8 MB/s eta 0:00:01\r\u001b[K     |██████▊                         | 204 kB 12.8 MB/s eta 0:00:01\r\u001b[K     |███████                         | 215 kB 12.8 MB/s eta 0:00:01\r\u001b[K     |███████▍                        | 225 kB 12.8 MB/s eta 0:00:01\r\u001b[K     |███████▊                        | 235 kB 12.8 MB/s eta 0:00:01\r\u001b[K     |████████                        | 245 kB 12.8 MB/s eta 0:00:01\r\u001b[K     |████████▍                       | 256 kB 12.8 MB/s eta 0:00:01\r\u001b[K     |████████▊                       | 266 kB 12.8 MB/s eta 0:00:01\r\u001b[K     |█████████                       | 276 kB 12.8 MB/s eta 0:00:01\r\u001b[K     |█████████▍                      | 286 kB 12.8 MB/s eta 0:00:01\r\u001b[K     |█████████▊                      | 296 kB 12.8 MB/s eta 0:00:01\r\u001b[K     |██████████                      | 307 kB 12.8 MB/s eta 0:00:01\r\u001b[K     |██████████▍                     | 317 kB 12.8 MB/s eta 0:00:01\r\u001b[K     |██████████▊                     | 327 kB 12.8 MB/s eta 0:00:01\r\u001b[K     |███████████                     | 337 kB 12.8 MB/s eta 0:00:01\r\u001b[K     |███████████▍                    | 348 kB 12.8 MB/s eta 0:00:01\r\u001b[K     |███████████▊                    | 358 kB 12.8 MB/s eta 0:00:01\r\u001b[K     |████████████                    | 368 kB 12.8 MB/s eta 0:00:01\r\u001b[K     |████████████▍                   | 378 kB 12.8 MB/s eta 0:00:01\r\u001b[K     |████████████▊                   | 389 kB 12.8 MB/s eta 0:00:01\r\u001b[K     |█████████████                   | 399 kB 12.8 MB/s eta 0:00:01\r\u001b[K     |█████████████▍                  | 409 kB 12.8 MB/s eta 0:00:01\r\u001b[K     |█████████████▊                  | 419 kB 12.8 MB/s eta 0:00:01\r\u001b[K     |██████████████                  | 430 kB 12.8 MB/s eta 0:00:01\r\u001b[K     |██████████████▍                 | 440 kB 12.8 MB/s eta 0:00:01\r\u001b[K     |██████████████▊                 | 450 kB 12.8 MB/s eta 0:00:01\r\u001b[K     |███████████████                 | 460 kB 12.8 MB/s eta 0:00:01\r\u001b[K     |███████████████▍                | 471 kB 12.8 MB/s eta 0:00:01\r\u001b[K     |███████████████▊                | 481 kB 12.8 MB/s eta 0:00:01\r\u001b[K     |████████████████                | 491 kB 12.8 MB/s eta 0:00:01\r\u001b[K     |████████████████▍               | 501 kB 12.8 MB/s eta 0:00:01\r\u001b[K     |████████████████▊               | 512 kB 12.8 MB/s eta 0:00:01\r\u001b[K     |█████████████████               | 522 kB 12.8 MB/s eta 0:00:01\r\u001b[K     |█████████████████▍              | 532 kB 12.8 MB/s eta 0:00:01\r\u001b[K     |█████████████████▊              | 542 kB 12.8 MB/s eta 0:00:01\r\u001b[K     |██████████████████              | 552 kB 12.8 MB/s eta 0:00:01\r\u001b[K     |██████████████████▍             | 563 kB 12.8 MB/s eta 0:00:01\r\u001b[K     |██████████████████▊             | 573 kB 12.8 MB/s eta 0:00:01\r\u001b[K     |███████████████████             | 583 kB 12.8 MB/s eta 0:00:01\r\u001b[K     |███████████████████▍            | 593 kB 12.8 MB/s eta 0:00:01\r\u001b[K     |███████████████████▊            | 604 kB 12.8 MB/s eta 0:00:01\r\u001b[K     |████████████████████            | 614 kB 12.8 MB/s eta 0:00:01\r\u001b[K     |████████████████████▍           | 624 kB 12.8 MB/s eta 0:00:01\r\u001b[K     |████████████████████▊           | 634 kB 12.8 MB/s eta 0:00:01\r\u001b[K     |█████████████████████           | 645 kB 12.8 MB/s eta 0:00:01\r\u001b[K     |█████████████████████▍          | 655 kB 12.8 MB/s eta 0:00:01\r\u001b[K     |█████████████████████▊          | 665 kB 12.8 MB/s eta 0:00:01\r\u001b[K     |██████████████████████          | 675 kB 12.8 MB/s eta 0:00:01\r\u001b[K     |██████████████████████▍         | 686 kB 12.8 MB/s eta 0:00:01\r\u001b[K     |██████████████████████▊         | 696 kB 12.8 MB/s eta 0:00:01\r\u001b[K     |███████████████████████         | 706 kB 12.8 MB/s eta 0:00:01\r\u001b[K     |███████████████████████▍        | 716 kB 12.8 MB/s eta 0:00:01\r\u001b[K     |███████████████████████▊        | 727 kB 12.8 MB/s eta 0:00:01\r\u001b[K     |████████████████████████        | 737 kB 12.8 MB/s eta 0:00:01\r\u001b[K     |████████████████████████▍       | 747 kB 12.8 MB/s eta 0:00:01\r\u001b[K     |████████████████████████▊       | 757 kB 12.8 MB/s eta 0:00:01\r\u001b[K     |█████████████████████████       | 768 kB 12.8 MB/s eta 0:00:01\r\u001b[K     |█████████████████████████▍      | 778 kB 12.8 MB/s eta 0:00:01\r\u001b[K     |█████████████████████████▊      | 788 kB 12.8 MB/s eta 0:00:01\r\u001b[K     |██████████████████████████      | 798 kB 12.8 MB/s eta 0:00:01\r\u001b[K     |██████████████████████████▍     | 808 kB 12.8 MB/s eta 0:00:01\r\u001b[K     |██████████████████████████▊     | 819 kB 12.8 MB/s eta 0:00:01\r\u001b[K     |███████████████████████████     | 829 kB 12.8 MB/s eta 0:00:01\r\u001b[K     |███████████████████████████▍    | 839 kB 12.8 MB/s eta 0:00:01\r\u001b[K     |███████████████████████████▊    | 849 kB 12.8 MB/s eta 0:00:01\r\u001b[K     |████████████████████████████    | 860 kB 12.8 MB/s eta 0:00:01\r\u001b[K     |████████████████████████████▍   | 870 kB 12.8 MB/s eta 0:00:01\r\u001b[K     |████████████████████████████▊   | 880 kB 12.8 MB/s eta 0:00:01\r\u001b[K     |█████████████████████████████   | 890 kB 12.8 MB/s eta 0:00:01\r\u001b[K     |█████████████████████████████▍  | 901 kB 12.8 MB/s eta 0:00:01\r\u001b[K     |█████████████████████████████▊  | 911 kB 12.8 MB/s eta 0:00:01\r\u001b[K     |██████████████████████████████  | 921 kB 12.8 MB/s eta 0:00:01\r\u001b[K     |██████████████████████████████▍ | 931 kB 12.8 MB/s eta 0:00:01\r\u001b[K     |██████████████████████████████▊ | 942 kB 12.8 MB/s eta 0:00:01\r\u001b[K     |███████████████████████████████ | 952 kB 12.8 MB/s eta 0:00:01\r\u001b[K     |███████████████████████████████▍| 962 kB 12.8 MB/s eta 0:00:01\r\u001b[K     |███████████████████████████████▊| 972 kB 12.8 MB/s eta 0:00:01\r\u001b[K     |████████████████████████████████| 981 kB 12.8 MB/s \n",
            "\u001b[?25hRequirement already satisfied: six in /usr/local/lib/python3.7/dist-packages (from langdetect) (1.15.0)\n",
            "Building wheels for collected packages: langdetect\n",
            "  Building wheel for langdetect (setup.py) ... \u001b[?25l\u001b[?25hdone\n",
            "  Created wheel for langdetect: filename=langdetect-1.0.9-py3-none-any.whl size=993241 sha256=17e589271016d976c311345508da8ab1cac483036dab9830899e40ce110f115a\n",
            "  Stored in directory: /root/.cache/pip/wheels/c5/96/8a/f90c59ed25d75e50a8c10a1b1c2d4c402e4dacfa87f3aff36a\n",
            "Successfully built langdetect\n",
            "Installing collected packages: langdetect\n",
            "Successfully installed langdetect-1.0.9\n"
          ],
          "name": "stdout"
        }
      ]
    },
    {
      "cell_type": "code",
      "metadata": {
        "id": "vVaKpWWBNQzf"
      },
      "source": [
        "import langdetect as ld\n",
        "counter_english = 0\n",
        "counter_spanish = 0\n",
        "counter_another = 0\n",
        "\n",
        "for index, row in dataset_ml.iterrows():\n",
        "  try:\n",
        "    if ld.detect(row['Lyrics'])=='en':\n",
        "      counter_english += 1\n",
        "    elif ld.detect(row['Lyrics'])=='es':\n",
        "      counter_spanish += 1\n",
        "    else:\n",
        "      counter_another += 1\n",
        "  except:\n",
        "    print(row['Lyrics'])"
      ],
      "execution_count": null,
      "outputs": []
    },
    {
      "cell_type": "code",
      "metadata": {
        "id": "J33RGN55NTU7"
      },
      "source": [
        "for index, row in dataset_ml.iterrows():\n",
        "  if ld.detect(row['Lyrics'])!='en':\n",
        "    dataset_ml = dataset_ml.drop(index=index)"
      ],
      "execution_count": null,
      "outputs": []
    },
    {
      "cell_type": "code",
      "metadata": {
        "colab": {
          "base_uri": "https://localhost:8080/"
        },
        "id": "hQtrnVTlNXtb",
        "outputId": "61166d38-5a0f-4916-8559-bb3ab25ad0db"
      },
      "source": [
        "labels = dataset_ml['Mood']\n",
        "unique_labels = labels.unique()\n",
        "unique_labels"
      ],
      "execution_count": null,
      "outputs": [
        {
          "output_type": "execute_result",
          "data": {
            "text/plain": [
              "array(['relaxed', 'happy', 'angry', 'sad'], dtype=object)"
            ]
          },
          "metadata": {
            "tags": []
          },
          "execution_count": 10
        }
      ]
    },
    {
      "cell_type": "code",
      "metadata": {
        "id": "o6EfWLCGNa2H"
      },
      "source": [
        "from sklearn.model_selection import train_test_split\n",
        "\n",
        "dataset_ml['Mood'] = dataset_ml['Mood'].replace({'relaxed':0, 'happy':1, 'angry':2, 'sad':3})\n",
        "X = dataset_ml['Lyrics']\n",
        "y = dataset_ml['Mood']\n",
        "X_copy = dataset_ml['Lyrics']\n",
        "y_copy = dataset_ml['Mood']\n",
        "X_train, X_test, y_train, y_test = train_test_split(X, y, test_size=0.25, random_state = 42)"
      ],
      "execution_count": null,
      "outputs": []
    },
    {
      "cell_type": "code",
      "metadata": {
        "id": "exzrRdzfNvEM"
      },
      "source": [
        "from tensorflow.keras.preprocessing.text import Tokenizer\n",
        "\n",
        "tokenizer = Tokenizer(num_words=None)\n",
        "tokenizer.fit_on_texts(dataset_ml['Lyrics'])"
      ],
      "execution_count": null,
      "outputs": []
    },
    {
      "cell_type": "code",
      "metadata": {
        "colab": {
          "base_uri": "https://localhost:8080/"
        },
        "id": "dn4vKJkUNwKp",
        "outputId": "1a5b5e4a-2687-4ea8-9714-4624e5a369f9"
      },
      "source": [
        "num_words = len(tokenizer.word_index)\n",
        "tokens = tokenizer.texts_to_sequences(dataset_ml['Lyrics'])\n",
        "num_t = [len(t) for t in tokens]\n",
        "num_t = np.array(num_t)\n",
        "avg = np.mean(num_t)\n",
        "avg"
      ],
      "execution_count": null,
      "outputs": [
        {
          "output_type": "execute_result",
          "data": {
            "text/plain": [
              "403.78426966292136"
            ]
          },
          "metadata": {
            "tags": []
          },
          "execution_count": 13
        }
      ]
    },
    {
      "cell_type": "markdown",
      "metadata": {
        "id": "4MVEDAS_t_oH"
      },
      "source": [
        "# Setting up the environment for HF transformers"
      ]
    },
    {
      "cell_type": "code",
      "metadata": {
        "colab": {
          "base_uri": "https://localhost:8080/"
        },
        "id": "262Td2bPGm8L",
        "outputId": "239134fc-846d-4cf6-beff-389107298ce8"
      },
      "source": [
        "!pip install transformers"
      ],
      "execution_count": null,
      "outputs": [
        {
          "output_type": "stream",
          "text": [
            "Collecting transformers\n",
            "  Downloading transformers-4.8.2-py3-none-any.whl (2.5 MB)\n",
            "\u001b[K     |████████████████████████████████| 2.5 MB 12.5 MB/s \n",
            "\u001b[?25hRequirement already satisfied: requests in /usr/local/lib/python3.7/dist-packages (from transformers) (2.23.0)\n",
            "Requirement already satisfied: importlib-metadata in /usr/local/lib/python3.7/dist-packages (from transformers) (4.6.1)\n",
            "Collecting sacremoses\n",
            "  Downloading sacremoses-0.0.45-py3-none-any.whl (895 kB)\n",
            "\u001b[K     |████████████████████████████████| 895 kB 40.6 MB/s \n",
            "\u001b[?25hRequirement already satisfied: pyyaml in /usr/local/lib/python3.7/dist-packages (from transformers) (3.13)\n",
            "Requirement already satisfied: tqdm>=4.27 in /usr/local/lib/python3.7/dist-packages (from transformers) (4.41.1)\n",
            "Requirement already satisfied: numpy>=1.17 in /usr/local/lib/python3.7/dist-packages (from transformers) (1.19.5)\n",
            "Requirement already satisfied: filelock in /usr/local/lib/python3.7/dist-packages (from transformers) (3.0.12)\n",
            "Requirement already satisfied: regex!=2019.12.17 in /usr/local/lib/python3.7/dist-packages (from transformers) (2019.12.20)\n",
            "Collecting tokenizers<0.11,>=0.10.1\n",
            "  Downloading tokenizers-0.10.3-cp37-cp37m-manylinux_2_5_x86_64.manylinux1_x86_64.manylinux_2_12_x86_64.manylinux2010_x86_64.whl (3.3 MB)\n",
            "\u001b[K     |████████████████████████████████| 3.3 MB 46.0 MB/s \n",
            "\u001b[?25hRequirement already satisfied: packaging in /usr/local/lib/python3.7/dist-packages (from transformers) (21.0)\n",
            "Collecting huggingface-hub==0.0.12\n",
            "  Downloading huggingface_hub-0.0.12-py3-none-any.whl (37 kB)\n",
            "Requirement already satisfied: typing-extensions in /usr/local/lib/python3.7/dist-packages (from huggingface-hub==0.0.12->transformers) (3.7.4.3)\n",
            "Requirement already satisfied: pyparsing>=2.0.2 in /usr/local/lib/python3.7/dist-packages (from packaging->transformers) (2.4.7)\n",
            "Requirement already satisfied: zipp>=0.5 in /usr/local/lib/python3.7/dist-packages (from importlib-metadata->transformers) (3.5.0)\n",
            "Requirement already satisfied: chardet<4,>=3.0.2 in /usr/local/lib/python3.7/dist-packages (from requests->transformers) (3.0.4)\n",
            "Requirement already satisfied: idna<3,>=2.5 in /usr/local/lib/python3.7/dist-packages (from requests->transformers) (2.10)\n",
            "Requirement already satisfied: certifi>=2017.4.17 in /usr/local/lib/python3.7/dist-packages (from requests->transformers) (2021.5.30)\n",
            "Requirement already satisfied: urllib3!=1.25.0,!=1.25.1,<1.26,>=1.21.1 in /usr/local/lib/python3.7/dist-packages (from requests->transformers) (1.24.3)\n",
            "Requirement already satisfied: six in /usr/local/lib/python3.7/dist-packages (from sacremoses->transformers) (1.15.0)\n",
            "Requirement already satisfied: joblib in /usr/local/lib/python3.7/dist-packages (from sacremoses->transformers) (1.0.1)\n",
            "Requirement already satisfied: click in /usr/local/lib/python3.7/dist-packages (from sacremoses->transformers) (7.1.2)\n",
            "Installing collected packages: tokenizers, sacremoses, huggingface-hub, transformers\n",
            "Successfully installed huggingface-hub-0.0.12 sacremoses-0.0.45 tokenizers-0.10.3 transformers-4.8.2\n"
          ],
          "name": "stdout"
        }
      ]
    },
    {
      "cell_type": "code",
      "metadata": {
        "id": "OwAkTJcAJnkG"
      },
      "source": [
        "import torch\n",
        "from transformers.file_utils import is_tf_available, is_torch_available, is_torch_tpu_available\n",
        "from transformers import BertTokenizerFast, BertForSequenceClassification\n",
        "from transformers import Trainer, TrainingArguments\n",
        "import numpy as np\n",
        "import random\n",
        "from sklearn.model_selection import train_test_split"
      ],
      "execution_count": null,
      "outputs": []
    },
    {
      "cell_type": "code",
      "metadata": {
        "id": "sFv-FiYtKuuf"
      },
      "source": [
        "def set_seed(seed: int):\n",
        "    \"\"\"\n",
        "    Helper function for reproducible behavior to set the seed in ``random``, ``numpy``, ``torch`` and/or ``tf`` (if\n",
        "    installed).\n",
        " \n",
        "    Args:\n",
        "        seed (:obj:`int`): The seed to set.\n",
        "    \"\"\"\n",
        "    random.seed(seed)\n",
        "    np.random.seed(seed)\n",
        "    if is_torch_available():\n",
        "        torch.manual_seed(seed)\n",
        "        torch.cuda.manual_seed_all(seed)\n",
        "        # ^^ safe to call this function even if cuda is not available\n",
        "    if is_tf_available():\n",
        "        import tensorflow as tf\n",
        " \n",
        "        tf.random.set_seed(seed)\n",
        " \n",
        "set_seed(1)"
      ],
      "execution_count": null,
      "outputs": []
    },
    {
      "cell_type": "code",
      "metadata": {
        "id": "gDRivaE1KYWA"
      },
      "source": [
        "# the model we gonna train, base uncased BERT\n",
        "model_name = \"bert-base-uncased\"\n",
        "# max sequence length for each document/sentence sample\n",
        "max_length = 400"
      ],
      "execution_count": null,
      "outputs": []
    },
    {
      "cell_type": "code",
      "metadata": {
        "id": "HWtlkkVKXHc0",
        "colab": {
          "base_uri": "https://localhost:8080/",
          "height": 163,
          "referenced_widgets": [
            "c30f50bbad2f4b33b59d8e26d7d8264e",
            "b4681c77a2004933ad96674191baaf14",
            "ac97a204539c4bafa59ea0d1ad1a81ce",
            "bd143b398ae946228405e32d49b002e9",
            "549e60b27b054d2d8ae2743d48bac233",
            "2513b48fb61741d19f9bb17ec63cf688",
            "84e725595cba46ecbc0c66ddb3dab755",
            "a59b8fe09fa8405dbccfafc2ff80daf5",
            "48822c19f2274beba82c743667ce2854",
            "19fab086ca014410871efe50083cc8d8",
            "a599ac8bc03544f6a1d1b3987654666f",
            "f09c2ceb720a4dd9bc0672360b790879",
            "0f6a433c52634eb6910216e9254b2403",
            "21c97d3a68104447bfd10d308a072be0",
            "96679cc4b22441348553dc435387efc0",
            "a64eb76192324d4493f45927f3e2d5cf",
            "54676f21595e4b89a523a478b4dd93f5",
            "bf950e8ef4c24b86876541b81dcbf9d7",
            "78afd7ae0d25412eba2b1530d5595552",
            "8c28a76867b24e13a3e593f3c919a54c",
            "a65bc4fe262e4939a281150a346ee019",
            "8d23591ccc67452aab9bc62f3a584805",
            "d297840851db4f15885c60ffe6b931ea",
            "52e4c0eb4d614043ad169a299fd837fc"
          ]
        },
        "outputId": "be61ae25-1850-48a4-e697-2a1558f42445"
      },
      "source": [
        "# load the tokenizer\n",
        "tokenizer = BertTokenizerFast.from_pretrained(model_name, do_lower_case=True)"
      ],
      "execution_count": null,
      "outputs": [
        {
          "output_type": "display_data",
          "data": {
            "application/vnd.jupyter.widget-view+json": {
              "model_id": "c30f50bbad2f4b33b59d8e26d7d8264e",
              "version_minor": 0,
              "version_major": 2
            },
            "text/plain": [
              "HBox(children=(FloatProgress(value=0.0, description='Downloading', max=231508.0, style=ProgressStyle(descripti…"
            ]
          },
          "metadata": {
            "tags": []
          }
        },
        {
          "output_type": "stream",
          "text": [
            "\n"
          ],
          "name": "stdout"
        },
        {
          "output_type": "display_data",
          "data": {
            "application/vnd.jupyter.widget-view+json": {
              "model_id": "48822c19f2274beba82c743667ce2854",
              "version_minor": 0,
              "version_major": 2
            },
            "text/plain": [
              "HBox(children=(FloatProgress(value=0.0, description='Downloading', max=466062.0, style=ProgressStyle(descripti…"
            ]
          },
          "metadata": {
            "tags": []
          }
        },
        {
          "output_type": "stream",
          "text": [
            "\n"
          ],
          "name": "stdout"
        },
        {
          "output_type": "display_data",
          "data": {
            "application/vnd.jupyter.widget-view+json": {
              "model_id": "54676f21595e4b89a523a478b4dd93f5",
              "version_minor": 0,
              "version_major": 2
            },
            "text/plain": [
              "HBox(children=(FloatProgress(value=0.0, description='Downloading', max=28.0, style=ProgressStyle(description_w…"
            ]
          },
          "metadata": {
            "tags": []
          }
        },
        {
          "output_type": "stream",
          "text": [
            "\n"
          ],
          "name": "stdout"
        }
      ]
    },
    {
      "cell_type": "code",
      "metadata": {
        "id": "aSanWgrgXhbG"
      },
      "source": [
        "from sklearn.model_selection import train_test_split\n",
        "\n",
        "X = list(X)\n",
        "y = list(y)\n",
        "(train_texts, valid_texts, train_labels, valid_labels) = train_test_split(X, y, test_size=0.25)"
      ],
      "execution_count": null,
      "outputs": []
    },
    {
      "cell_type": "code",
      "metadata": {
        "id": "E_r0ECJaXO-y"
      },
      "source": [
        "# tokenize the dataset, truncate when passed `max_length`, \n",
        "# and pad with 0's when less than `max_length`\n",
        "train_encodings = tokenizer(train_texts, truncation=True, padding=True, max_length=max_length)\n",
        "valid_encodings = tokenizer(valid_texts, truncation=True, padding=True, max_length=max_length)"
      ],
      "execution_count": null,
      "outputs": []
    },
    {
      "cell_type": "code",
      "metadata": {
        "id": "7riiOpJiXdTd"
      },
      "source": [
        "class MoodyLyricsDataset(torch.utils.data.Dataset):\n",
        "    def __init__(self, encodings, labels):\n",
        "        self.encodings = encodings\n",
        "        self.labels = labels\n",
        "\n",
        "    def __getitem__(self, idx):\n",
        "        item = {k: torch.tensor(v[idx]) for k, v in self.encodings.items()}\n",
        "        item[\"labels\"] = torch.tensor([self.labels[idx]])\n",
        "        return item\n",
        "\n",
        "    def __len__(self):\n",
        "        return len(self.labels)\n",
        "\n",
        "# convert our tokenized data into a torch Dataset\n",
        "train_dataset = MoodyLyricsDataset(train_encodings, train_labels)\n",
        "valid_dataset = MoodyLyricsDataset(valid_encodings, valid_labels)"
      ],
      "execution_count": null,
      "outputs": []
    },
    {
      "cell_type": "code",
      "metadata": {
        "colab": {
          "base_uri": "https://localhost:8080/",
          "height": 218,
          "referenced_widgets": [
            "d57a8d22f29b458bb1c15b261b3c4269",
            "84d2a140d79b472d8817562bc9a7c090",
            "fd378b193a0f45d8b7e21ae6398ce18b",
            "d905fef7708744a2b4628cc308841008",
            "070791504765497d99853dbd1bb0c92c",
            "55c0134bdc014b3abdabdf8d999221a4",
            "e4f81dcf411e46f7945423f812eb4d18",
            "46abc33dc7834d50874d685525d6f140",
            "ef53b15fe9bc470aabddc506f91f8645",
            "09895770e7964e9483f6eeb8a0b868d8",
            "1c7b7dea830f416a966486b044f8f57f",
            "9d697d5b6a7f42fab8d93e12d3da4f67",
            "92add1aecc9d42078a30d21f73cd5a47",
            "a6b8f2a1ffd0406ea21b8b7c7da39403",
            "51f63fc9abdb49f8a434646363e9c6a8",
            "d1d8e4a0e0e04a3fab418c1b2409737a"
          ]
        },
        "id": "I4aAwDGZXnyk",
        "outputId": "9dda9bf6-a7ca-48eb-97ba-7ca0c8e2a088"
      },
      "source": [
        "# load the model and pass to CUDA\n",
        "model = BertForSequenceClassification.from_pretrained(model_name, num_labels=4).to(\"cuda\")"
      ],
      "execution_count": null,
      "outputs": [
        {
          "output_type": "display_data",
          "data": {
            "application/vnd.jupyter.widget-view+json": {
              "model_id": "d57a8d22f29b458bb1c15b261b3c4269",
              "version_minor": 0,
              "version_major": 2
            },
            "text/plain": [
              "HBox(children=(FloatProgress(value=0.0, description='Downloading', max=570.0, style=ProgressStyle(description_…"
            ]
          },
          "metadata": {
            "tags": []
          }
        },
        {
          "output_type": "stream",
          "text": [
            "\n"
          ],
          "name": "stdout"
        },
        {
          "output_type": "display_data",
          "data": {
            "application/vnd.jupyter.widget-view+json": {
              "model_id": "ef53b15fe9bc470aabddc506f91f8645",
              "version_minor": 0,
              "version_major": 2
            },
            "text/plain": [
              "HBox(children=(FloatProgress(value=0.0, description='Downloading', max=440473133.0, style=ProgressStyle(descri…"
            ]
          },
          "metadata": {
            "tags": []
          }
        },
        {
          "output_type": "stream",
          "text": [
            "\n"
          ],
          "name": "stdout"
        },
        {
          "output_type": "stream",
          "text": [
            "Some weights of the model checkpoint at bert-base-uncased were not used when initializing BertForSequenceClassification: ['cls.predictions.transform.dense.bias', 'cls.predictions.transform.dense.weight', 'cls.predictions.transform.LayerNorm.bias', 'cls.predictions.decoder.weight', 'cls.predictions.transform.LayerNorm.weight', 'cls.predictions.bias', 'cls.seq_relationship.bias', 'cls.seq_relationship.weight']\n",
            "- This IS expected if you are initializing BertForSequenceClassification from the checkpoint of a model trained on another task or with another architecture (e.g. initializing a BertForSequenceClassification model from a BertForPreTraining model).\n",
            "- This IS NOT expected if you are initializing BertForSequenceClassification from the checkpoint of a model that you expect to be exactly identical (initializing a BertForSequenceClassification model from a BertForSequenceClassification model).\n",
            "Some weights of BertForSequenceClassification were not initialized from the model checkpoint at bert-base-uncased and are newly initialized: ['classifier.bias', 'classifier.weight']\n",
            "You should probably TRAIN this model on a down-stream task to be able to use it for predictions and inference.\n"
          ],
          "name": "stderr"
        }
      ]
    },
    {
      "cell_type": "code",
      "metadata": {
        "id": "AkZN1X-zOoe0"
      },
      "source": [
        "from sklearn.metrics import accuracy_score, precision_score, recall_score\n",
        "\n",
        "def compute_metrics(pred):\n",
        "  labels = pred.label_ids\n",
        "  preds = pred.predictions.argmax(-1)\n",
        "  # calculate accuracy using sklearn's function\n",
        "  acc = accuracy_score(labels, preds)\n",
        "  prec = precision_score(labels, preds, average='weighted')\n",
        "  rec = recall_score(labels, preds, average='weighted')\n",
        "  return {\n",
        "      'accuracy': acc,\n",
        "      'precision': prec,\n",
        "      'recall': rec\n",
        "  }"
      ],
      "execution_count": null,
      "outputs": []
    },
    {
      "cell_type": "code",
      "metadata": {
        "id": "MjMB9f01Pyiu"
      },
      "source": [
        "training_args = TrainingArguments(\n",
        "    output_dir='./results',          # output directory\n",
        "    num_train_epochs=3,              # total number of training epochs\n",
        "    per_device_train_batch_size=16,  # batch size per device during training\n",
        "    per_device_eval_batch_size=20,   # batch size for evaluation\n",
        "    warmup_steps=500,                # number of warmup steps for learning rate scheduler\n",
        "    weight_decay=0.01,               # strength of weight decay\n",
        "    logging_dir='./logs',            # directory for storing logs\n",
        "    load_best_model_at_end=True,     # load the best model when finished training (default metric is loss)\n",
        "    logging_steps=50,               # log & save weights each logging_steps\n",
        "    evaluation_strategy=\"steps\",     # evaluate each `logging_steps`\n",
        ")"
      ],
      "execution_count": null,
      "outputs": []
    },
    {
      "cell_type": "code",
      "metadata": {
        "id": "BukYQXs2P35S"
      },
      "source": [
        "trainer = Trainer(\n",
        "    model=model,                         # the instantiated Transformers model to be trained\n",
        "    args=training_args,                  # training arguments, defined above\n",
        "    train_dataset=train_dataset,         # training dataset\n",
        "    eval_dataset=valid_dataset,          # evaluation dataset\n",
        "    compute_metrics=compute_metrics,     # the callback that computes metrics of interest\n",
        ")"
      ],
      "execution_count": null,
      "outputs": []
    },
    {
      "cell_type": "code",
      "metadata": {
        "colab": {
          "base_uri": "https://localhost:8080/",
          "height": 988
        },
        "id": "s5a7QY_wP5iD",
        "outputId": "8d91b6b4-ef99-400c-ee81-10415f7293ee"
      },
      "source": [
        "# train the model\n",
        "trainer.train()"
      ],
      "execution_count": null,
      "outputs": [
        {
          "output_type": "stream",
          "text": [
            "***** Running training *****\n",
            "  Num examples = 1335\n",
            "  Num Epochs = 3\n",
            "  Instantaneous batch size per device = 16\n",
            "  Total train batch size (w. parallel, distributed & accumulation) = 16\n",
            "  Gradient Accumulation steps = 1\n",
            "  Total optimization steps = 252\n"
          ],
          "name": "stderr"
        },
        {
          "output_type": "display_data",
          "data": {
            "text/html": [
              "\n",
              "    <div>\n",
              "      \n",
              "      <progress value='252' max='252' style='width:300px; height:20px; vertical-align: middle;'></progress>\n",
              "      [252/252 12:04, Epoch 3/3]\n",
              "    </div>\n",
              "    <table border=\"1\" class=\"dataframe\">\n",
              "  <thead>\n",
              "    <tr style=\"text-align: left;\">\n",
              "      <th>Step</th>\n",
              "      <th>Training Loss</th>\n",
              "      <th>Validation Loss</th>\n",
              "      <th>Accuracy</th>\n",
              "      <th>Precision</th>\n",
              "      <th>Recall</th>\n",
              "    </tr>\n",
              "  </thead>\n",
              "  <tbody>\n",
              "    <tr>\n",
              "      <td>50</td>\n",
              "      <td>1.406100</td>\n",
              "      <td>1.316988</td>\n",
              "      <td>0.402247</td>\n",
              "      <td>0.391430</td>\n",
              "      <td>0.402247</td>\n",
              "    </tr>\n",
              "    <tr>\n",
              "      <td>100</td>\n",
              "      <td>1.201200</td>\n",
              "      <td>1.094545</td>\n",
              "      <td>0.588764</td>\n",
              "      <td>0.600853</td>\n",
              "      <td>0.588764</td>\n",
              "    </tr>\n",
              "    <tr>\n",
              "      <td>150</td>\n",
              "      <td>0.962500</td>\n",
              "      <td>0.959234</td>\n",
              "      <td>0.651685</td>\n",
              "      <td>0.674493</td>\n",
              "      <td>0.651685</td>\n",
              "    </tr>\n",
              "    <tr>\n",
              "      <td>200</td>\n",
              "      <td>0.612200</td>\n",
              "      <td>0.466257</td>\n",
              "      <td>0.849438</td>\n",
              "      <td>0.852044</td>\n",
              "      <td>0.849438</td>\n",
              "    </tr>\n",
              "    <tr>\n",
              "      <td>250</td>\n",
              "      <td>0.407900</td>\n",
              "      <td>0.399192</td>\n",
              "      <td>0.849438</td>\n",
              "      <td>0.862004</td>\n",
              "      <td>0.849438</td>\n",
              "    </tr>\n",
              "  </tbody>\n",
              "</table><p>"
            ],
            "text/plain": [
              "<IPython.core.display.HTML object>"
            ]
          },
          "metadata": {
            "tags": []
          }
        },
        {
          "output_type": "stream",
          "text": [
            "***** Running Evaluation *****\n",
            "  Num examples = 445\n",
            "  Batch size = 20\n",
            "Saving model checkpoint to ./results/checkpoint-50\n",
            "Configuration saved in ./results/checkpoint-50/config.json\n",
            "Model weights saved in ./results/checkpoint-50/pytorch_model.bin\n",
            "***** Running Evaluation *****\n",
            "  Num examples = 445\n",
            "  Batch size = 20\n",
            "Saving model checkpoint to ./results/checkpoint-100\n",
            "Configuration saved in ./results/checkpoint-100/config.json\n",
            "Model weights saved in ./results/checkpoint-100/pytorch_model.bin\n",
            "***** Running Evaluation *****\n",
            "  Num examples = 445\n",
            "  Batch size = 20\n",
            "Saving model checkpoint to ./results/checkpoint-150\n",
            "Configuration saved in ./results/checkpoint-150/config.json\n",
            "Model weights saved in ./results/checkpoint-150/pytorch_model.bin\n",
            "***** Running Evaluation *****\n",
            "  Num examples = 445\n",
            "  Batch size = 20\n",
            "Saving model checkpoint to ./results/checkpoint-200\n",
            "Configuration saved in ./results/checkpoint-200/config.json\n",
            "Model weights saved in ./results/checkpoint-200/pytorch_model.bin\n",
            "***** Running Evaluation *****\n",
            "  Num examples = 445\n",
            "  Batch size = 20\n",
            "Saving model checkpoint to ./results/checkpoint-250\n",
            "Configuration saved in ./results/checkpoint-250/config.json\n",
            "Model weights saved in ./results/checkpoint-250/pytorch_model.bin\n",
            "\n",
            "\n",
            "Training completed. Do not forget to share your model on huggingface.co/models =)\n",
            "\n",
            "\n",
            "Loading best model from ./results/checkpoint-250 (score: 0.39919203519821167).\n"
          ],
          "name": "stderr"
        },
        {
          "output_type": "execute_result",
          "data": {
            "text/plain": [
              "TrainOutput(global_step=252, training_loss=0.9145779174471659, metrics={'train_runtime': 727.3352, 'train_samples_per_second': 5.506, 'train_steps_per_second': 0.346, 'total_flos': 1052372857392000.0, 'train_loss': 0.9145779174471659, 'epoch': 3.0})"
            ]
          },
          "metadata": {
            "tags": []
          },
          "execution_count": 26
        }
      ]
    },
    {
      "cell_type": "code",
      "metadata": {
        "colab": {
          "base_uri": "https://localhost:8080/",
          "height": 222
        },
        "id": "cdWlnZxAR0XA",
        "outputId": "26689226-b35d-40a5-ec79-34f687deca33"
      },
      "source": [
        "# evaluate the current model after training\n",
        "trainer.evaluate()"
      ],
      "execution_count": null,
      "outputs": [
        {
          "output_type": "stream",
          "text": [
            "***** Running Evaluation *****\n",
            "  Num examples = 445\n",
            "  Batch size = 20\n"
          ],
          "name": "stderr"
        },
        {
          "output_type": "display_data",
          "data": {
            "text/html": [
              "\n",
              "    <div>\n",
              "      \n",
              "      <progress value='23' max='23' style='width:300px; height:20px; vertical-align: middle;'></progress>\n",
              "      [23/23 00:23]\n",
              "    </div>\n",
              "    "
            ],
            "text/plain": [
              "<IPython.core.display.HTML object>"
            ]
          },
          "metadata": {
            "tags": []
          }
        },
        {
          "output_type": "execute_result",
          "data": {
            "text/plain": [
              "{'epoch': 3.0,\n",
              " 'eval_accuracy': 0.849438202247191,\n",
              " 'eval_loss': 0.39919203519821167,\n",
              " 'eval_precision': 0.8620038778102006,\n",
              " 'eval_recall': 0.849438202247191,\n",
              " 'eval_runtime': 24.1442,\n",
              " 'eval_samples_per_second': 18.431,\n",
              " 'eval_steps_per_second': 0.953}"
            ]
          },
          "metadata": {
            "tags": []
          },
          "execution_count": 27
        }
      ]
    },
    {
      "cell_type": "code",
      "metadata": {
        "colab": {
          "base_uri": "https://localhost:8080/"
        },
        "id": "ojgBg7cfSp4J",
        "outputId": "e58955d5-a853-491b-b6d3-2bcd55bcbedd"
      },
      "source": [
        "# saving the fine tuned model & tokenizer\n",
        "model_path = \"drive/My Drive/MER_NLP/moodylyrics-bert-base-uncased\"\n",
        "model.save_pretrained(model_path)\n",
        "tokenizer.save_pretrained(model_path)"
      ],
      "execution_count": null,
      "outputs": [
        {
          "output_type": "stream",
          "text": [
            "Configuration saved in drive/My Drive/MER_NLP/moodylyrics-bert-base-uncased/config.json\n",
            "Model weights saved in drive/My Drive/MER_NLP/moodylyrics-bert-base-uncased/pytorch_model.bin\n",
            "tokenizer config file saved in drive/My Drive/MER_NLP/moodylyrics-bert-base-uncased/tokenizer_config.json\n",
            "Special tokens file saved in drive/My Drive/MER_NLP/moodylyrics-bert-base-uncased/special_tokens_map.json\n"
          ],
          "name": "stderr"
        },
        {
          "output_type": "execute_result",
          "data": {
            "text/plain": [
              "('drive/My Drive/MER_NLP/moodylyrics-bert-base-uncased/tokenizer_config.json',\n",
              " 'drive/My Drive/MER_NLP/moodylyrics-bert-base-uncased/special_tokens_map.json',\n",
              " 'drive/My Drive/MER_NLP/moodylyrics-bert-base-uncased/vocab.txt',\n",
              " 'drive/My Drive/MER_NLP/moodylyrics-bert-base-uncased/added_tokens.json',\n",
              " 'drive/My Drive/MER_NLP/moodylyrics-bert-base-uncased/tokenizer.json')"
            ]
          },
          "metadata": {
            "tags": []
          },
          "execution_count": 28
        }
      ]
    },
    {
      "cell_type": "code",
      "metadata": {
        "id": "KXHXb7RYTARC",
        "colab": {
          "base_uri": "https://localhost:8080/"
        },
        "outputId": "3eaee394-6812-4d03-d58b-80687142cb59"
      },
      "source": [
        "# reload our model/tokenizer. Optional, only usable when in Python files instead of notebooks\n",
        "model = BertForSequenceClassification.from_pretrained(model_path, num_labels=4).to(\"cuda\")\n",
        "tokenizer = BertTokenizerFast.from_pretrained(model_path)"
      ],
      "execution_count": null,
      "outputs": [
        {
          "output_type": "stream",
          "text": [
            "loading configuration file drive/My Drive/MER_NLP/moodylyrics-bert-base-uncased/config.json\n",
            "Model config BertConfig {\n",
            "  \"_name_or_path\": \"bert-base-uncased\",\n",
            "  \"architectures\": [\n",
            "    \"BertForSequenceClassification\"\n",
            "  ],\n",
            "  \"attention_probs_dropout_prob\": 0.1,\n",
            "  \"gradient_checkpointing\": false,\n",
            "  \"hidden_act\": \"gelu\",\n",
            "  \"hidden_dropout_prob\": 0.1,\n",
            "  \"hidden_size\": 768,\n",
            "  \"id2label\": {\n",
            "    \"0\": \"LABEL_0\",\n",
            "    \"1\": \"LABEL_1\",\n",
            "    \"2\": \"LABEL_2\",\n",
            "    \"3\": \"LABEL_3\"\n",
            "  },\n",
            "  \"initializer_range\": 0.02,\n",
            "  \"intermediate_size\": 3072,\n",
            "  \"label2id\": {\n",
            "    \"LABEL_0\": 0,\n",
            "    \"LABEL_1\": 1,\n",
            "    \"LABEL_2\": 2,\n",
            "    \"LABEL_3\": 3\n",
            "  },\n",
            "  \"layer_norm_eps\": 1e-12,\n",
            "  \"max_position_embeddings\": 512,\n",
            "  \"model_type\": \"bert\",\n",
            "  \"num_attention_heads\": 12,\n",
            "  \"num_hidden_layers\": 12,\n",
            "  \"pad_token_id\": 0,\n",
            "  \"position_embedding_type\": \"absolute\",\n",
            "  \"problem_type\": \"single_label_classification\",\n",
            "  \"transformers_version\": \"4.8.2\",\n",
            "  \"type_vocab_size\": 2,\n",
            "  \"use_cache\": true,\n",
            "  \"vocab_size\": 30522\n",
            "}\n",
            "\n",
            "loading weights file drive/My Drive/MER_NLP/moodylyrics-bert-base-uncased/pytorch_model.bin\n",
            "All model checkpoint weights were used when initializing BertForSequenceClassification.\n",
            "\n",
            "All the weights of BertForSequenceClassification were initialized from the model checkpoint at drive/My Drive/MER_NLP/moodylyrics-bert-base-uncased.\n",
            "If your task is similar to the task the model of the checkpoint was trained on, you can already use BertForSequenceClassification for predictions without further training.\n",
            "Didn't find file drive/My Drive/MER_NLP/moodylyrics-bert-base-uncased/added_tokens.json. We won't load it.\n",
            "loading file drive/My Drive/MER_NLP/moodylyrics-bert-base-uncased/vocab.txt\n",
            "loading file drive/My Drive/MER_NLP/moodylyrics-bert-base-uncased/tokenizer.json\n",
            "loading file None\n",
            "loading file drive/My Drive/MER_NLP/moodylyrics-bert-base-uncased/special_tokens_map.json\n",
            "loading file drive/My Drive/MER_NLP/moodylyrics-bert-base-uncased/tokenizer_config.json\n"
          ],
          "name": "stderr"
        }
      ]
    },
    {
      "cell_type": "code",
      "metadata": {
        "id": "96uWKthsR8fS"
      },
      "source": [
        "def get_prediction(text):\n",
        "    # prepare our text into tokenized sequence\n",
        "    inputs = tokenizer(text, padding=True, truncation=True, max_length=max_length, return_tensors=\"pt\").to(\"cuda\")\n",
        "    # perform inference to our model\n",
        "    outputs = model(**inputs)\n",
        "    # get output probabilities by doing softmax\n",
        "    probs = outputs[0].softmax(1)\n",
        "    # executing argmax function to get the candidate label\n",
        "    if probs.argmax().item()==0:\n",
        "      label='relaxed'\n",
        "    elif probs.argmax().item()==1:\n",
        "      label='happy'\n",
        "    elif probs.argmax().item()==2:\n",
        "      label='angry'\n",
        "    else:\n",
        "      label='sad'\n",
        "    return label"
      ],
      "execution_count": null,
      "outputs": []
    },
    {
      "cell_type": "code",
      "metadata": {
        "colab": {
          "base_uri": "https://localhost:8080/"
        },
        "id": "ZwXfb-SHf92j",
        "outputId": "2f99cb03-3a7d-4a0f-f8b7-4703607ff022"
      },
      "source": [
        "# Example #1\n",
        "text = \"\"\"\n",
        "Because I'm happy\n",
        "Clap along if you feel like a room without a roof\n",
        "Because I'm happy\n",
        "Clap along if you feel like happiness is the truth\n",
        "Because I'm happy\n",
        "Clap along if you know what happiness is to you\n",
        "Because I'm happy\n",
        "Clap along if you feel like that's what you wanna do\n",
        "\"\"\"\n",
        "print(get_prediction(text))"
      ],
      "execution_count": null,
      "outputs": [
        {
          "output_type": "stream",
          "text": [
            "happy\n"
          ],
          "name": "stdout"
        }
      ]
    },
    {
      "cell_type": "code",
      "metadata": {
        "id": "nZMGwF_OgfZc",
        "colab": {
          "base_uri": "https://localhost:8080/"
        },
        "outputId": "9e13eb5b-026d-4e90-88bf-ffb42cf5fa4f"
      },
      "source": [
        "# Example #2\n",
        "text = \"\"\"\n",
        "Does it get your blood boiling, does it make you see red?\n",
        "Do you wanna destroy it, does it get in your head?\n",
        "'Cause it gets my blood boiling and I'm coming unglued\n",
        "It would hit you like poison if you knew what I knew\n",
        "You would be angry took\n",
        "Calm down girl, why you so mad?\n",
        "Why's your heart gone\n",
        "It's all good girl, why you upset?\n",
        "Guess they have forgotten what they did\n",
        "And does it get your blood boiling and does it make you see red?\n",
        "And do you wanna destroy it, does it get in your head?\n",
        "'Cause it gets my blood boiling and I'm coming unglued\n",
        "It would hit you like poison if you knew what I knew\n",
        "You would be angry, you would be angry\n",
        "You would be angry, you would be angry too\n",
        "\"\"\"\n",
        "print(get_prediction(text))"
      ],
      "execution_count": null,
      "outputs": [
        {
          "output_type": "stream",
          "text": [
            "angry\n"
          ],
          "name": "stdout"
        }
      ]
    },
    {
      "cell_type": "code",
      "metadata": {
        "colab": {
          "base_uri": "https://localhost:8080/"
        },
        "id": "B5n8Z_MzXI9w",
        "outputId": "398d6d83-6bff-43b1-a427-e779c878c3c2"
      },
      "source": [
        "# Example #3\n",
        "text = \"\"\"\n",
        "I get a good feeling, yeah\n",
        "Oh, sometimes I get a good feeling, yeah\n",
        "Get a feeling that I\n",
        "Never, never, never, never had before, oh, no\n",
        "I get a good feeling, yeah\n",
        "Oh, sometimes I get a good feeling, yeah\n",
        "Get a feeling that I\n",
        "Never, never, never, never had before, oh, no\n",
        "I get a good feeling, yeah\n",
        "Just wanna tell ya right now that I\n",
        "I really do believe it\n",
        "\"\"\"\n",
        "print(get_prediction(text))"
      ],
      "execution_count": null,
      "outputs": [
        {
          "output_type": "stream",
          "text": [
            "relaxed\n"
          ],
          "name": "stdout"
        }
      ]
    },
    {
      "cell_type": "code",
      "metadata": {
        "colab": {
          "base_uri": "https://localhost:8080/"
        },
        "id": "r6kO55YTXNqx",
        "outputId": "5630d29a-7ac3-48f5-ee3e-da8d02ac99cd"
      },
      "source": [
        "# Example #4\n",
        "text = \"\"\"\n",
        "Beneath the stains of time\n",
        "The feelings disappear\n",
        "You are someone else\n",
        "I'm still right here\n",
        "What have I become?\n",
        "My sweetest friend\n",
        "Everyone I know goes away\n",
        "In the end\n",
        "And you could have it all\n",
        "My empire of dirt\n",
        "I will let you down\n",
        "I will make you hurt\n",
        "If I could start again\n",
        "A million miles away\n",
        "I would keep myself\n",
        "I would find a way\n",
        "\"\"\"\n",
        "print(get_prediction(text))"
      ],
      "execution_count": null,
      "outputs": [
        {
          "output_type": "stream",
          "text": [
            "sad\n"
          ],
          "name": "stdout"
        }
      ]
    },
    {
      "cell_type": "markdown",
      "metadata": {
        "id": "8nN0L-n7_cVi"
      },
      "source": [
        "# Model evaluation on Deezer strong balanced dataset"
      ]
    },
    {
      "cell_type": "code",
      "metadata": {
        "colab": {
          "base_uri": "https://localhost:8080/",
          "height": 220
        },
        "id": "sSvBPULc_hbL",
        "outputId": "d7312743-dde0-4b52-eefb-323caf7e3536"
      },
      "source": [
        "dataset_deezer = pd.read_csv('drive/My Drive/MER_NLP/deezer_strong_balanced.csv')\n",
        "del dataset_deezer['Unnamed: 0']\n",
        "\n",
        "print(dataset_deezer.shape)\n",
        "dataset_deezer.head()"
      ],
      "execution_count": null,
      "outputs": [
        {
          "output_type": "stream",
          "text": [
            "(2760, 9)\n"
          ],
          "name": "stdout"
        },
        {
          "output_type": "execute_result",
          "data": {
            "text/html": [
              "<div>\n",
              "<style scoped>\n",
              "    .dataframe tbody tr th:only-of-type {\n",
              "        vertical-align: middle;\n",
              "    }\n",
              "\n",
              "    .dataframe tbody tr th {\n",
              "        vertical-align: top;\n",
              "    }\n",
              "\n",
              "    .dataframe thead th {\n",
              "        text-align: right;\n",
              "    }\n",
              "</style>\n",
              "<table border=\"1\" class=\"dataframe\">\n",
              "  <thead>\n",
              "    <tr style=\"text-align: right;\">\n",
              "      <th></th>\n",
              "      <th>dzr_sng_id</th>\n",
              "      <th>MSD_sng_id</th>\n",
              "      <th>MSD_track_id</th>\n",
              "      <th>valence</th>\n",
              "      <th>arousal</th>\n",
              "      <th>artist_name</th>\n",
              "      <th>track_name</th>\n",
              "      <th>Lyrics</th>\n",
              "      <th>strong_mood</th>\n",
              "    </tr>\n",
              "  </thead>\n",
              "  <tbody>\n",
              "    <tr>\n",
              "      <th>0</th>\n",
              "      <td>534268</td>\n",
              "      <td>SODNNXL12A58A7B9BC</td>\n",
              "      <td>TRUDSEY128F425AC3C</td>\n",
              "      <td>1.071901</td>\n",
              "      <td>0.846830</td>\n",
              "      <td>Marilyn Horne</td>\n",
              "      <td>All Through the Night</td>\n",
              "      <td>I want a woman like Marilyn Monroe The kind of...</td>\n",
              "      <td>happy</td>\n",
              "    </tr>\n",
              "    <tr>\n",
              "      <th>1</th>\n",
              "      <td>534847</td>\n",
              "      <td>SOVMVFH12AB0184F26</td>\n",
              "      <td>TRFBNQX128F92E3A87</td>\n",
              "      <td>0.682591</td>\n",
              "      <td>0.754644</td>\n",
              "      <td>Daughtry</td>\n",
              "      <td>Crashed</td>\n",
              "      <td>Well, I was moving at the speed of sound Head-...</td>\n",
              "      <td>happy</td>\n",
              "    </tr>\n",
              "    <tr>\n",
              "      <th>2</th>\n",
              "      <td>535204</td>\n",
              "      <td>SOXOFZV12A8AE473FB</td>\n",
              "      <td>TRQGUZM128F425B7F6</td>\n",
              "      <td>1.178325</td>\n",
              "      <td>1.183311</td>\n",
              "      <td>The Hoosiers</td>\n",
              "      <td>Worried About Ray</td>\n",
              "      <td>Truth be told, the truth be told I'm worried w...</td>\n",
              "      <td>happy</td>\n",
              "    </tr>\n",
              "    <tr>\n",
              "      <th>3</th>\n",
              "      <td>536164</td>\n",
              "      <td>SOHEUAX12AB018744C</td>\n",
              "      <td>TRRKNMB12903CC6B7E</td>\n",
              "      <td>1.071901</td>\n",
              "      <td>0.846830</td>\n",
              "      <td>Tina Arena</td>\n",
              "      <td>I Want To Know What Love Is</td>\n",
              "      <td>Gotta take a little time A little time to thin...</td>\n",
              "      <td>happy</td>\n",
              "    </tr>\n",
              "    <tr>\n",
              "      <th>4</th>\n",
              "      <td>538694</td>\n",
              "      <td>SOEDNXV12A8AE47B16</td>\n",
              "      <td>TRFXWUO128F425EAB3</td>\n",
              "      <td>1.071901</td>\n",
              "      <td>0.846830</td>\n",
              "      <td>Westlife</td>\n",
              "      <td>I'm Already There</td>\n",
              "      <td>He called her on the road From a lonely cold h...</td>\n",
              "      <td>happy</td>\n",
              "    </tr>\n",
              "  </tbody>\n",
              "</table>\n",
              "</div>"
            ],
            "text/plain": [
              "   dzr_sng_id  ... strong_mood\n",
              "0      534268  ...       happy\n",
              "1      534847  ...       happy\n",
              "2      535204  ...       happy\n",
              "3      536164  ...       happy\n",
              "4      538694  ...       happy\n",
              "\n",
              "[5 rows x 9 columns]"
            ]
          },
          "metadata": {
            "tags": []
          },
          "execution_count": 35
        }
      ]
    },
    {
      "cell_type": "code",
      "metadata": {
        "id": "7X3H-biTATmM"
      },
      "source": [
        "X = dataset_deezer['Lyrics']"
      ],
      "execution_count": null,
      "outputs": []
    },
    {
      "cell_type": "code",
      "metadata": {
        "id": "7LrXvGRLAq0l"
      },
      "source": [
        "list_of_predictions = []\n",
        "for el in X:\n",
        "  prediction = get_prediction(el)\n",
        "  list_of_predictions.append(prediction)"
      ],
      "execution_count": null,
      "outputs": []
    },
    {
      "cell_type": "code",
      "metadata": {
        "id": "gVNke_GlBMp3"
      },
      "source": [
        "from sklearn.metrics import confusion_matrix\n",
        "\n",
        "y = dataset_deezer['strong_mood']\n",
        "cm = confusion_matrix(y, list_of_predictions, labels=[\"happy\", \"sad\", \"relaxed\", \"angry\"])"
      ],
      "execution_count": null,
      "outputs": []
    },
    {
      "cell_type": "code",
      "metadata": {
        "colab": {
          "base_uri": "https://localhost:8080/"
        },
        "id": "t5d99hjkE-ue",
        "outputId": "837f02ae-45c0-4e87-8859-6a50aa9cb312"
      },
      "source": [
        "cm"
      ],
      "execution_count": null,
      "outputs": [
        {
          "output_type": "execute_result",
          "data": {
            "text/plain": [
              "array([[ 75, 297, 205, 113],\n",
              "       [ 32, 415, 123, 120],\n",
              "       [ 47, 357, 200,  86],\n",
              "       [ 18, 399,  79, 194]])"
            ]
          },
          "metadata": {
            "tags": []
          },
          "execution_count": 55
        }
      ]
    },
    {
      "cell_type": "code",
      "metadata": {
        "id": "TAGvyvGFEoNL"
      },
      "source": [
        "import sklearn\n",
        "from sklearn.metrics import confusion_matrix \n",
        "import itertools \n",
        "import matplotlib.pyplot as plt\n",
        "import numpy \n",
        "\n",
        "def confusion_matrix(cm, classes,\n",
        "                          title='Confusion matrix',\n",
        "                          cmap=plt.cm.Blues):\n",
        "\n",
        "    plt.imshow(cm, interpolation='nearest', cmap=cmap)\n",
        "    plt.title(title)\n",
        "    plt.colorbar()\n",
        "    tick_marks = numpy.arange(len(classes))\n",
        "    plt.xticks(tick_marks, classes, rotation=45)\n",
        "    plt.yticks(tick_marks, classes)\n",
        "    plt.rcParams[\"figure.figsize\"] = (10,10)\n",
        "\n",
        "    thresh = cm.max() / 2.\n",
        "    for i, j in itertools.product(range(cm.shape[0]), range(cm.shape[1])):\n",
        "        plt.text(j, i, cm[i, j],\n",
        "                 horizontalalignment=\"center\",\n",
        "                 color=\"white\" if cm[i, j] > thresh else \"black\")\n",
        "\n",
        "    plt.tight_layout()\n",
        "    plt.ylabel('True label')\n",
        "    plt.xlabel('Predicted label')\n",
        "\n",
        "def plot_cnf(true_y,pred, labels):\n",
        "\n",
        "    cnf_matrix=sklearn.metrics.confusion_matrix(true_y, pred, labels)\n",
        "    plt.rcParams[\"figure.figsize\"] = (10,10)\n",
        "    plt.figure()\n",
        "    a=confusion_matrix(cnf_matrix, classes=labels,title='Confusion matrix')"
      ],
      "execution_count": null,
      "outputs": []
    },
    {
      "cell_type": "code",
      "metadata": {
        "colab": {
          "base_uri": "https://localhost:8080/",
          "height": 729
        },
        "id": "_MOgxt1KFvm1",
        "outputId": "a31cb4d4-5d34-4c2f-c917-e47bae1a86ed"
      },
      "source": [
        "plot_cnf(y, list_of_predictions, [\"happy\", \"sad\", \"relaxed\", \"angry\"])"
      ],
      "execution_count": null,
      "outputs": [
        {
          "output_type": "display_data",
          "data": {
            "image/png": "[encoded data removed]",
            "text/plain": [
              "<Figure size 720x720 with 2 Axes>"
            ]
          },
          "metadata": {
            "tags": []
          }
        }
      ]
    },
    {
      "cell_type": "code",
      "metadata": {
        "colab": {
          "base_uri": "https://localhost:8080/"
        },
        "id": "eVJ03hTEDa5w",
        "outputId": "66b4850d-f20c-46fe-9f10-4f480ed86cb1"
      },
      "source": [
        "import numpy as np\n",
        "from sklearn.metrics import precision_recall_fscore_support\n",
        "\n",
        "y_true = np.array(y)\n",
        "y_pred = np.array(list_of_predictions)\n",
        "precision_recall_fscore_support(y_true, y_pred, average='weighted')"
      ],
      "execution_count": null,
      "outputs": [
        {
          "output_type": "execute_result",
          "data": {
            "text/plain": [
              "(0.3566002480588474, 0.32028985507246377, 0.29739008269376066, None)"
            ]
          },
          "metadata": {
            "tags": []
          },
          "execution_count": 51
        }
      ]
    },
    {
      "cell_type": "code",
      "metadata": {
        "colab": {
          "base_uri": "https://localhost:8080/"
        },
        "id": "6QB1zDCSDpPQ",
        "outputId": "26dd6293-886b-4a4e-b5b0-0d2d99c66568"
      },
      "source": [
        "precision_recall_fscore_support(y_true, y_pred, average=None, labels=[\"happy\", \"sad\", \"relaxed\", \"angry\"])"
      ],
      "execution_count": null,
      "outputs": [
        {
          "output_type": "execute_result",
          "data": {
            "text/plain": [
              "(array([0.43604651, 0.28269755, 0.32948929, 0.37816764]),\n",
              " array([0.10869565, 0.60144928, 0.28985507, 0.28115942]),\n",
              " array([0.17401392, 0.38461538, 0.30840401, 0.32252702]),\n",
              " array([690, 690, 690, 690]))"
            ]
          },
          "metadata": {
            "tags": []
          },
          "execution_count": 52
        }
      ]
    }
  ]
}